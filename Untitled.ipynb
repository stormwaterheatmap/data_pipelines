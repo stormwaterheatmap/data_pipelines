{
 "cells": [
  {
   "cell_type": "code",
   "execution_count": 7,
   "id": "c60ddb6a-3f19-4361-80f5-84abff85bd9d",
   "metadata": {
    "tags": []
   },
   "outputs": [
    {
     "name": "stdout",
     "output_type": "stream",
     "text": [
      "\n",
      "bq load --source_format=NEWLINE_DELIMITED_JSON --json_extension=GEOJSON --autodetect spatial_data.landuse_up /Users/christiannilsen/Desktop/psau2.geojsonl.json\n",
      "\n"
     ]
    }
   ],
   "source": [
    "layer = '/Users/christiannilsen/Desktop/psau2.geojsonl.json' \n",
    "\n",
    "bq_cmd = f\"\"\"\n",
    "bq load --source_format=NEWLINE_DELIMITED_JSON \\\n",
    "--json_extension=GEOJSON \\\n",
    "--autodetect spatial_data.landuse_up \\\n",
    "/Users/christiannilsen/Desktop/psau2.geojsonl.json\n",
    "\"\"\"\n",
    "\n",
    "print(bq_cmd)"
   ]
  },
  {
   "cell_type": "markdown",
   "id": "73f9c8b6-5675-4ad7-bf48-3a0fe11a3194",
   "metadata": {},
   "source": [
    "bq load  --source_format=NEWLINE_DELIMITED_JSON  --json_extension=GEOJSON  --autodetect  {dataset}.{tablename}  {mydata.geojsonl}"
   ]
  },
  {
   "cell_type": "code",
   "execution_count": 8,
   "id": "c2f63bfe-6b4c-4d61-91a4-277cb5999800",
   "metadata": {
    "tags": []
   },
   "outputs": [
    {
     "name": "stdout",
     "output_type": "stream",
     "text": [
      "Upload complete.\n",
      "Waiting on bqjob_r5bc8e2f50e32fe4_00000188031f8fe6_1 ... (24s) Current status: DONE   \n"
     ]
    }
   ],
   "source": [
    "!{bq_cmd}"
   ]
  }
 ],
 "metadata": {
  "kernelspec": {
   "display_name": "Python 3 (ipykernel)",
   "language": "python",
   "name": "python3"
  },
  "language_info": {
   "codemirror_mode": {
    "name": "ipython",
    "version": 3
   },
   "file_extension": ".py",
   "mimetype": "text/x-python",
   "name": "python",
   "nbconvert_exporter": "python",
   "pygments_lexer": "ipython3",
   "version": "3.9.16"
  }
 },
 "nbformat": 4,
 "nbformat_minor": 5
}
