{
 "cells": [
  {
   "cell_type": "markdown",
   "metadata": {
    "id": "CrEM35gqHouU"
   },
   "source": [
    "# Cloud  Backed Earth Engine Tables"
   ]
  },
  {
   "cell_type": "code",
   "execution_count": 1,
   "metadata": {},
   "outputs": [],
   "source": [
    "import pandas as pd\n",
    "from google.cloud import storage\n",
    "import os\n",
    "import json"
   ]
  },
  {
   "cell_type": "markdown",
   "metadata": {
    "id": "fmxat3ujhwGx"
   },
   "source": [
    "## Start an authorized session\n",
    "\n",
    "To be able to make an Earth Engine asset in your user folder, you need to be able to authenticate as yourself when you make the request.  You can use credentials from the Earth Engine authenticator to start an [`AuthorizedSession`](https://google-auth.readthedocs.io/en/master/reference/google.auth.transport.requests.html#google.auth.transport.requests.AuthorizedSession).  You can then use the `AuthorizedSession` to send requests to Earth Engine."
   ]
  },
  {
   "cell_type": "code",
   "execution_count": null,
   "metadata": {
    "id": "qVu8GhINwYfO"
   },
   "outputs": [],
   "source": [
    "import ee\n",
    "from google.auth.transport.requests import AuthorizedSession\n",
    "\n",
    "#ee.Authenticate()  #  or \n",
    "!earthengine authenticate --auth_mode=gcloud\n",
    "session = AuthorizedSession(ee.data.get_persistent_credentials())"
   ]
  },
  {
   "cell_type": "markdown",
   "metadata": {},
   "source": [
    "## Get table information from gcp\n",
    "Get list of tables and their respective uris from the gcp data bucket\n"
   ]
  },
  {
   "cell_type": "code",
   "execution_count": null,
   "metadata": {},
   "outputs": [],
   "source": [
    "def list_blobs_with_prefix(bucket_name, prefix, delimiter=None):\n",
    "    \n",
    "\n",
    "    storage_client = storage.Client()\n",
    "\n",
    "    # Note: Client.list_blobs requires at least package version 1.17.0.\n",
    "    blobs = storage_client.list_blobs(bucket_name, prefix=prefix, delimiter=delimiter)\n",
    "\n",
    "    # Note: The call returns a response only when the iterator is consumed.\n",
    "    blob_list = []\n",
    "    for blob in blobs:\n",
    "        blob_list.append(blob.name)\n",
    "\n",
    "    if delimiter:\n",
    "        print(\"Prefixes:\")\n",
    "        for prefix in blobs.prefixes:\n",
    "            blob_list.append([prefix])\n",
    "    \n",
    "    return blob_list\n"
   ]
  },
  {
   "cell_type": "code",
   "execution_count": null,
   "metadata": {},
   "outputs": [],
   "source": [
    "table_name = 'nhdplus' "
   ]
  },
  {
   "cell_type": "code",
   "execution_count": null,
   "metadata": {},
   "outputs": [],
   "source": [
    "BUCKET_NAME = 'swhm-bq-exports'\n",
    "blobsout = list_blobs_with_prefix(BUCKET_NAME,'cocs/'+table_name+'/'+table_name)"
   ]
  },
  {
   "cell_type": "code",
   "execution_count": null,
   "metadata": {
    "scrolled": true
   },
   "outputs": [],
   "source": [
    "df = pd.DataFrame(blobsout, columns=['blob_name'])\n",
    "df['uri'] = 'gs://'+BUCKET_NAME+'/'+df['blob_name']\n",
    "(df)"
   ]
  },
  {
   "cell_type": "code",
   "execution_count": null,
   "metadata": {},
   "outputs": [],
   "source": [
    "\n",
    "file_names = [os.path.splitext(os.path.basename(file_path))[0] for file_path in df['blob_name']]\n",
    "df[\"asset_name\"] = table_name\n",
    "\n",
    "df"
   ]
  },
  {
   "cell_type": "code",
   "execution_count": null,
   "metadata": {},
   "outputs": [],
   "source": [
    "asset_name = df['asset_name'][0]\n",
    "uri = df['uri'][0]\n",
    "cmd = 'earthengine upload table --asset_id=projects/ee-swhm/assets/production_feature_collections/{} {}'.format(asset_name,uri) \n",
    "!{cmd}"
   ]
  }
 ],
 "metadata": {
  "colab": {
   "name": "Earth_Engine_asset_from_cloud_geotiff.ipynb",
   "private_outputs": true,
   "provenance": [],
   "toc_visible": true
  },
  "kernelspec": {
   "display_name": "Python 3 (ipykernel)",
   "language": "python",
   "name": "python3"
  },
  "language_info": {
   "codemirror_mode": {
    "name": "ipython",
    "version": 3
   },
   "file_extension": ".py",
   "mimetype": "text/x-python",
   "name": "python",
   "nbconvert_exporter": "python",
   "pygments_lexer": "ipython3",
   "version": "3.9.16"
  }
 },
 "nbformat": 4,
 "nbformat_minor": 4
}
