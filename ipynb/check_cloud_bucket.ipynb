{
 "cells": [
  {
   "cell_type": "code",
   "execution_count": 1,
   "id": "33dbe6fd-a428-4c15-9821-7b2f0ec3c3fe",
   "metadata": {
    "tags": []
   },
   "outputs": [],
   "source": [
    "import pandas as pd\n",
    "from google.cloud import storage\n",
    "import os\n",
    "import json"
   ]
  },
  {
   "cell_type": "code",
   "execution_count": 2,
   "id": "48aa124c-1c98-4520-9acc-6737e50eb891",
   "metadata": {},
   "outputs": [],
   "source": [
    "def list_blobs_with_prefix(bucket_name, prefix, file_extension='.tif', delimiter=None):\n",
    "    \n",
    "\n",
    "    storage_client = storage.Client(project='swhm-prod')\n",
    "\n",
    "    # Note: Client.list_blobs requires at least package version 1.17.0.\n",
    "    blobs = storage_client.list_blobs(bucket_name, prefix=prefix, delimiter=delimiter)\n",
    "\n",
    "    # Note: The call returns a response only when the iterator is consumed.\n",
    "    blob_list = []\n",
    "    for blob in blobs:\n",
    "        if blob.name.endswith(file_extension):\n",
    "            blob_list.append(blob.name)\n",
    "\n",
    "    if delimiter:\n",
    "        print(\"Prefixes:\")\n",
    "        for prefix in blobs.prefixes:\n",
    "            blob_list.append([prefix])\n",
    "    \n",
    "    return blob_list\n"
   ]
  },
  {
   "cell_type": "code",
   "execution_count": 3,
   "id": "de4da4dc-3ec4-47f3-933c-607d41a2c181",
   "metadata": {
    "tags": []
   },
   "outputs": [],
   "source": [
    "BUCKET_NAME = 'live_data_layers'\n",
    "folder_name = 'raster'\n",
    "blobsout = list_blobs_with_prefix(BUCKET_NAME,folder_name,\".tif\")"
   ]
  },
  {
   "cell_type": "code",
   "execution_count": 4,
   "id": "5a263ee2-5ebf-48cb-b73a-496831ae94e5",
   "metadata": {
    "tags": []
   },
   "outputs": [
    {
     "data": {
      "text/plain": [
       "['rasters/Age_of_Imperviousness.tif',\n",
       " 'rasters/Flow_Duration_Index.tif',\n",
       " 'rasters/HSPF_Land_Cover_Type.tif',\n",
       " 'rasters/Hydrologic_Response_Units.tif',\n",
       " 'rasters/Imperviousness.tif',\n",
       " 'rasters/Land_Cover.tif',\n",
       " 'rasters/Land_Use.tif',\n",
       " 'rasters/Population_Density.tif',\n",
       " 'rasters/Precipitation_mm.tif',\n",
       " 'rasters/Runoff_mm.tif',\n",
       " 'rasters/Slope.tif',\n",
       " 'rasters/Slope_Categories.tif',\n",
       " 'rasters/Soils.tif',\n",
       " 'rasters/Total_Copper_Concentration.tif',\n",
       " 'rasters/Total_Kjeldahl_Nitrogen_Concentration.tif',\n",
       " 'rasters/Total_Phosphorus_Concentration.tif',\n",
       " 'rasters/Total_Suspended_Solids_Concentration.tif',\n",
       " 'rasters/Total_Zinc_Concentration.tif',\n",
       " 'rasters/Traffic.tif']"
      ]
     },
     "execution_count": 4,
     "metadata": {},
     "output_type": "execute_result"
    }
   ],
   "source": [
    "blobsout"
   ]
  },
  {
   "cell_type": "code",
   "execution_count": 13,
   "id": "e6afd647-4ec5-4670-9d72-7b85dbb3b49f",
   "metadata": {
    "tags": []
   },
   "outputs": [
    {
     "name": "stdout",
     "output_type": "stream",
     "text": [
      "Checking rasters/Age_of_Imperviousness.tif...\n",
      "gs://live_data_layers/rasters/Age_of_Imperviousness.tif is a valid cloud optimized GeoTIFF\n",
      "Checking rasters/Flow_Duration_Index.tif...\n",
      "gs://live_data_layers/rasters/Flow_Duration_Index.tif is a valid cloud optimized GeoTIFF\n",
      "Checking rasters/HSPF_Land_Cover_Type.tif...\n",
      "gs://live_data_layers/rasters/HSPF_Land_Cover_Type.tif is a valid cloud optimized GeoTIFF\n",
      "Checking rasters/Hydrologic_Response_Units.tif...\n",
      "gs://live_data_layers/rasters/Hydrologic_Response_Units.tif is a valid cloud optimized GeoTIFF\n",
      "Checking rasters/Imperviousness.tif...\n",
      "gs://live_data_layers/rasters/Imperviousness.tif is a valid cloud optimized GeoTIFF\n",
      "Checking rasters/Land_Cover_rio.tif...\n",
      "gs://live_data_layers/rasters/Land_Cover_rio.tif is a valid cloud optimized GeoTIFF\n",
      "Checking rasters/Land_Use.tif...\n",
      "gs://live_data_layers/rasters/Land_Use.tif is a valid cloud optimized GeoTIFF\n",
      "Checking rasters/Population_Density.tif...\n",
      "gs://live_data_layers/rasters/Population_Density.tif is a valid cloud optimized GeoTIFF\n",
      "Checking rasters/Precipitation_mm.tif...\n",
      "gs://live_data_layers/rasters/Precipitation_mm.tif is a valid cloud optimized GeoTIFF\n",
      "Checking rasters/Runoff_mm.tif...\n",
      "gs://live_data_layers/rasters/Runoff_mm.tif is a valid cloud optimized GeoTIFF\n",
      "Checking rasters/Slope.tif...\n",
      "gs://live_data_layers/rasters/Slope.tif is a valid cloud optimized GeoTIFF\n",
      "Checking rasters/Slope_Categories.tif...\n",
      "gs://live_data_layers/rasters/Slope_Categories.tif is a valid cloud optimized GeoTIFF\n",
      "Checking rasters/Soils.tif...\n",
      "gs://live_data_layers/rasters/Soils.tif is a valid cloud optimized GeoTIFF\n",
      "Checking rasters/Total_Copper_Concentration.tif...\n",
      "gs://live_data_layers/rasters/Total_Copper_Concentration.tif is a valid cloud optimized GeoTIFF\n",
      "Checking rasters/Total_Kjeldahl_Nitrogen_Concentration.tif...\n",
      "gs://live_data_layers/rasters/Total_Kjeldahl_Nitrogen_Concentration.tif is a valid cloud optimized GeoTIFF\n",
      "Checking rasters/Total_Phosphorus_Concentration.tif...\n",
      "gs://live_data_layers/rasters/Total_Phosphorus_Concentration.tif is a valid cloud optimized GeoTIFF\n",
      "Checking rasters/Total_Suspended_Solids_Concentration.tif...\n",
      "gs://live_data_layers/rasters/Total_Suspended_Solids_Concentration.tif is a valid cloud optimized GeoTIFF\n",
      "Checking rasters/Total_Zinc_Concentration.tif...\n",
      "gs://live_data_layers/rasters/Total_Zinc_Concentration.tif is a valid cloud optimized GeoTIFF\n",
      "Checking rasters/Traffic.tif...\n",
      "gs://live_data_layers/rasters/Traffic.tif is a valid cloud optimized GeoTIFF\n"
     ]
    }
   ],
   "source": [
    "for blob in blobsout: \n",
    "    fn = f'gs://{BUCKET_NAME}/{blob}'  \n",
    "    print(f'Checking {blob}...')\n",
    "    r_cmd = f'rio cogeo validate {fn}'\n",
    "    !{r_cmd}"
   ]
  },
  {
   "cell_type": "code",
   "execution_count": 6,
   "id": "ed41250b-79e1-447d-a552-10c67fa3240e",
   "metadata": {
    "tags": []
   },
   "outputs": [
    {
     "name": "stdout",
     "output_type": "stream",
     "text": [
      "Checking..\n",
      "gs://live_data_layers/rasters/Imperviousness.tif is a valid cloud optimized GeoTIFF\n"
     ]
    }
   ],
   "source": [
    "fn = f'gs://{BUCKET_NAME}/rasters/Imperviousness.tif'  \n",
    "print(f'Checking...')\n",
    "r_cmd = f'rio cogeo validate {fn}'\n",
    "!{r_cmd}"
   ]
  },
  {
   "cell_type": "code",
   "execution_count": 8,
   "id": "c0a10fef-254e-4c8d-8234-04c81336958a",
   "metadata": {},
   "outputs": [
    {
     "name": "stdout",
     "output_type": "stream",
     "text": [
      "Copying gs://live_data_layers/rasters/Imperviousness.tif...\n",
      "==> NOTE: You are downloading one or more large file(s), which would            \n",
      "run significantly faster if you enabled sliced object downloads. This\n",
      "feature is enabled by default but requires that compiled crcmod be\n",
      "installed (see \"gsutil help crcmod\").\n",
      "\n",
      "| [1 files][  2.8 GiB/  2.8 GiB]   10.1 MiB/s                                   \n",
      "Operation completed over 1 objects/2.8 GiB.                                      \n"
     ]
    }
   ],
   "source": [
    "!{'gsutil cp gs://live_data_layers/rasters/Imperviousness.tif rio_Imperviousness.tif'}"
   ]
  }
 ],
 "metadata": {
  "kernelspec": {
   "display_name": "Python 3 (ipykernel)",
   "language": "python",
   "name": "python3"
  },
  "language_info": {
   "codemirror_mode": {
    "name": "ipython",
    "version": 3
   },
   "file_extension": ".py",
   "mimetype": "text/x-python",
   "name": "python",
   "nbconvert_exporter": "python",
   "pygments_lexer": "ipython3",
   "version": "3.9.16"
  }
 },
 "nbformat": 4,
 "nbformat_minor": 5
}
