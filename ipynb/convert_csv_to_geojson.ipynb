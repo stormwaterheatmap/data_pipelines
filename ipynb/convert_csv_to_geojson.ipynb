{
 "cells": [
  {
   "cell_type": "code",
   "execution_count": null,
   "metadata": {},
   "outputs": [
    {
     "ename": "",
     "evalue": "",
     "output_type": "error",
     "traceback": [
      "\u001b[1;31mJupyter cannot be started. Error attempting to locate Jupyter: Running cells with 'stormpiper' requires jupyter and notebook package.\n",
      "\u001b[1;31mRun the following command to install 'jupyter and notebook' into the Python environment. \n",
      "\u001b[1;31mCommand: 'python -m pip install jupyter notebook -U\n",
      "\u001b[1;31mor\n",
      "\u001b[1;31mconda install jupyter notebook -U'\n",
      "\u001b[1;31mClick <a href='https://aka.ms/installJupyterForVSCode'>here</a> for more info."
     ]
    }
   ],
   "source": [
    "import json\n",
    "from urllib.request import urlopen\n",
    "import urllib\n",
    "from google.cloud import storage\n",
    "import os\n",
    "dirname = os.path.dirname(__file__)\n",
    "\n",
    "print(dirname)\n",
    "# Path: _no_git_dev_cn/py/gcp\n",
    "os.chdir(dirname)\n",
    "print(os.getcwd())\n",
    "\n",
    "source_name = 'swhm-table-exports/huc12__usgs_watershed_boundary_dataset.csv'\n",
    "destination_name = 'huc12.csv'\n",
    "# get data from gcs \n",
    "cmd = f'gsutil cp {source_name} {destination_name}'\n",
    "!{cmd}\n"
   ]
  }
 ],
 "metadata": {
  "kernelspec": {
   "display_name": "base",
   "language": "python",
   "name": "python3"
  },
  "language_info": {
   "name": "python",
   "version": "3.9.5 (default, May 18 2021, 12:31:01) \n[Clang 10.0.0 ]"
  },
  "orig_nbformat": 4,
  "vscode": {
   "interpreter": {
    "hash": "3d597f4c481aa0f25dceb95d2a0067e73c0966dcbd003d741d821a7208527ecf"
   }
  }
 },
 "nbformat": 4,
 "nbformat_minor": 2
}
