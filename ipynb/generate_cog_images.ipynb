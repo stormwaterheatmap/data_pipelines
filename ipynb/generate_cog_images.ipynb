{
 "cells": [
  {
   "cell_type": "markdown",
   "metadata": {},
   "source": [
    "# Generate Cloud-Optimized Geotiffs from tiles\n"
   ]
  },
  {
   "cell_type": "markdown",
   "metadata": {},
   "source": [
    "## Load Libraries"
   ]
  },
  {
   "cell_type": "markdown",
   "metadata": {},
   "source": [
    "Check that gdal is installed"
   ]
  },
  {
   "cell_type": "code",
   "execution_count": 1,
   "metadata": {},
   "outputs": [
    {
     "name": "stdout",
     "output_type": "stream",
     "text": [
      "GDAL 3.6.4, released 2023/04/17\n"
     ]
    }
   ],
   "source": [
    "!gdalinfo --version"
   ]
  },
  {
   "cell_type": "code",
   "execution_count": 15,
   "metadata": {},
   "outputs": [],
   "source": [
    "#from osgeo import gdal\n",
    "import subprocess\n",
    "import json \n",
    "#import pandas as pd\n",
    "#from google.cloud import storage\n",
    "import os\n",
    "import glob\n"
   ]
  },
  {
   "cell_type": "code",
   "execution_count": 3,
   "metadata": {},
   "outputs": [],
   "source": [
    "os.environ['GS_NO_SIGN_REQUEST'] = 'YES'\n",
    "os.environ['GDAL_NUM_THREADS'] = '5'"
   ]
  },
  {
   "cell_type": "markdown",
   "metadata": {},
   "source": [
    "Log in to google cloud if needed "
   ]
  },
  {
   "cell_type": "code",
   "execution_count": 4,
   "metadata": {},
   "outputs": [],
   "source": [
    "#!{gcloud auth login --update-adc}"
   ]
  },
  {
   "cell_type": "code",
   "execution_count": 5,
   "metadata": {},
   "outputs": [
    {
     "name": "stdout",
     "output_type": "stream",
     "text": [
      "Updated property [core/project].\n",
      "\n",
      "\n",
      "Updates are available for some Google Cloud CLI components.  To install them,\n",
      "please run:\n",
      "  $ gcloud components update\n",
      "\n",
      "\n",
      "\n",
      "To take a quick anonymous survey, run:\n",
      "  $ gcloud survey\n",
      "\n"
     ]
    }
   ],
   "source": [
    "!{gcloud config set project swhm-dev}"
   ]
  },
  {
   "cell_type": "markdown",
   "metadata": {
    "tags": []
   },
   "source": [
    "## Functions"
   ]
  },
  {
   "cell_type": "markdown",
   "metadata": {
    "tags": []
   },
   "source": [
    "A function to list blobs on the storage bucket "
   ]
  },
  {
   "cell_type": "code",
   "execution_count": 6,
   "metadata": {
    "tags": []
   },
   "outputs": [],
   "source": [
    "def list_blobs_with_prefix(bucket_name, prefix, delimiter=None):\n",
    "    \"\"\"Lists all the blobs in the bucket that begin with the prefix.\n",
    "    \"\"\"\n",
    "    storage_client = storage.Client()\n",
    "   \n",
    "    blobs = storage_client.list_blobs(bucket_name, prefix=prefix, delimiter=delimiter)\n",
    "\n",
    "    # Note: The call returns a response only when the iterator is consumed.\n",
    "    blob_list = []\n",
    "    for blob in blobs:\n",
    "        blob_list.append(blob.name)\n",
    "\n",
    "    if delimiter:\n",
    "        print(\"Prefixes:\")\n",
    "        for prefix in blobs.prefixes:\n",
    "            blob_list.append([prefix])\n",
    "    \n",
    "    return blob_list\n"
   ]
  },
  {
   "cell_type": "markdown",
   "metadata": {},
   "source": [
    "### 1. Download images"
   ]
  },
  {
   "cell_type": "code",
   "execution_count": 7,
   "metadata": {
    "tags": []
   },
   "outputs": [],
   "source": [
    "def dl(lay_name):\n",
    "    cmd = f'gcloud storage cp -R gs://swhm-image-exports/{lay_name} .'\n",
    "    !{cmd}"
   ]
  },
  {
   "cell_type": "markdown",
   "metadata": {},
   "source": [
    "### 2. Reproject images\n",
    "\n",
    "saves reprojected images to /tmp "
   ]
  },
  {
   "cell_type": "code",
   "execution_count": 6,
   "metadata": {},
   "outputs": [],
   "source": [
    "def reproject(lay_name, target_crs='EPSG:3857'): \n",
    "\n",
    "    directory_path = lay_name\n",
    "               #make a list of the files in the directory \n",
    "    files = os.listdir(directory_path+\"/reprojected\")\n",
    "    print(files)\n",
    "    # create a new file for writing\n",
    "    list_file = \"files.txt\"\n",
    "    try:\n",
    "        os.remove(list_file)\n",
    "    except OSError:\n",
    "        pass\n",
    "    \n",
    "    for filename in files:\n",
    "        if filename.endswith(\".tif\"):\n",
    "            input_path = os.path.join(directory_path, filename)\n",
    "            output_path = os.path.join(directory_path+\"/reprojected\", filename)\n",
    "            cmd = f'gdalwarp -t_srs {target_crs} -overwrite {input_path} {output_path}'\n",
    "            !{cmd}"
   ]
  },
  {
   "cell_type": "markdown",
   "metadata": {},
   "source": [
    "### 3. Make vrt\n",
    "\n"
   ]
  },
  {
   "cell_type": "code",
   "execution_count": 7,
   "metadata": {},
   "outputs": [],
   "source": [
    "#https://gdal.org/programs/gdal_translate.html\n",
    "#cmdoption-gdal_translate-ovr\n",
    "\n",
    "def makevrt(lay_name):\n",
    "    directory_path = lay_name+'/*.tif'\n",
    "    print('Making VRT...')\n",
    "    cmd = f'gdalbuildvrt  output.vrt {directory_path}'\n",
    "    !{cmd}\n",
    "    print('VRT Complete!')\n",
    "    \n",
    "\n",
    "def ul(file_name, lay_name):\n",
    "    print('Uploading Layer...')\n",
    "    cmd = f'gcloud storage cp {file_name} gs://live_data_layers/rasters/{lay_name}.tif'\n",
    "    !{cmd}\n",
    "    print('Layer upload complete!') "
   ]
  },
  {
   "cell_type": "markdown",
   "metadata": {},
   "source": [
    "---"
   ]
  },
  {
   "cell_type": "markdown",
   "metadata": {},
   "source": [
    "## 4. Wrapper Function"
   ]
  },
  {
   "cell_type": "code",
   "execution_count": 8,
   "metadata": {},
   "outputs": [],
   "source": [
    "def convert_layer(lay_name): \n",
    "    '''\n",
    "    Function that does the following: \n",
    "    1. Downloads from gcp bucket \n",
    "    2. makes a virtual raster - saves to output.vrt \n",
    "    3. Checks the projection and reprojects if necessary - saves to tmp.tif, otherwise translates to tmp.tif \n",
    "    ''' \n",
    "    \n",
    "\n",
    "    \n",
    "    #check projection \n",
    "    p = subprocess.run([\"rio\", \"info\", \"output.vrt\"], capture_output=True, text=True)\n",
    "    raster_info = json.loads(p.stdout)\n",
    "\n",
    "#reproject if needed \n",
    "    if (raster_info['crs']) != \"EPSG:3857\": \n",
    "        #reproject \n",
    "        print(f'reprojecting from {raster_info[\"crs\"]}')\n",
    "        warp_cmd = f'gdalwarp -t_srs EPSG:3857 -overwrite output.vrt {lay_name}_cog.tif \\\n",
    "         -co NUM_THREADS=5 -co TILED=YES -co COMPRESS=LZW -co BIGTIFF=YES \\\n",
    "         --config CHECK_DISK_FREE_SPACE FALSE'\n",
    "        !{warp_cmd}\n",
    "\n",
    "    else: \n",
    "        print(f'saving as {lay_name}_cog.tif') \n",
    "        translate_cmd = f'gdal_translate output.vrt {lay_name}_cog.tif \\\n",
    "        -co TILED=YES -co COMPRESS=LZW \\\n",
    "        -co BIGTIFF=YES \\\n",
    "         -co NUM_THREADS=5 -co TILED=YES --config CHECK_DISK_FREE_SPACE FALSE'\n",
    "        !{translate_cmd}\n",
    "        \n",
    "    #rebuild pyramids\n",
    "    \n",
    "    if (raster_info[\"dtype\"] != 'uint8'): \n",
    "            print(f'rebuilding overviews using average sampling')\n",
    "            resampling = 'average'\n",
    "            #!{'gdaladdo -r average tmp.tif'}\n",
    "    else: \n",
    "            print(f'rebuilding overviews using nearest neighbors sampling') \n",
    "            resampling = 'nearest' \n",
    "            #!{'gdaladdo -r nearest tmp.tif'}\n",
    "        \n",
    "    print('translating to rio cog raster') \n",
    "    \n",
    "    translate_cmd = f\"rio cogeo create {lay_name}_cog.tif rio_{lay_name}_cog.tif \\\n",
    "    --allow-intermediate-compression \\\n",
    "    --cog-profile lzw \\\n",
    "    --web-optimized \\\n",
    "    --config CHECK_DISK_FREE_SPACE=FALSE \\\n",
    "    --overview-resampling={resampling} \\\n",
    "    --resampling={resampling}\"\n",
    "\n",
    "    # translate_cmd = f'gdal_translate tmp.tif {lay_name}_cog.tif \\\n",
    "    # -co TILED=YES -co COMPRESS=LZW -co COPY_SRC_OVERVIEWS=YES \\\n",
    "    # -co BIGTIFF=YES -stats\\\n",
    "    #  -co NUM_THREADS=5  --config CHECK_DISK_FREE_SPACE FALSE'\n",
    "    # \n",
    "    !{translate_cmd}\n",
    "\n",
    "           \n",
    "\n"
   ]
  },
  {
   "cell_type": "code",
   "execution_count": 12,
   "metadata": {
    "tags": []
   },
   "outputs": [],
   "source": [
    "# lay_name = 'Soils'\n",
    "# resampling = 'nearest' \n",
    "\n",
    "# translate_cmd = f\"rio cogeo create {lay_name}_cog.tif rio_{lay_name}_cog.tif \\\n",
    "#     --allow-intermediate-compression \\\n",
    "#     --cog-profile lzw \\\n",
    "#     --config CHECK_DISK_FREE_SPACE=FALSE \\\n",
    "#     --overview-resampling={resampling}\""
   ]
  },
  {
   "cell_type": "code",
   "execution_count": 13,
   "metadata": {
    "tags": []
   },
   "outputs": [],
   "source": [
    "# !{translate_cmd}"
   ]
  },
  {
   "cell_type": "markdown",
   "metadata": {
    "tags": []
   },
   "source": [
    "## Get list of objects in data bucket"
   ]
  },
  {
   "cell_type": "code",
   "execution_count": 23,
   "metadata": {},
   "outputs": [],
   "source": [
    "BUCKET_NAME = 'swhm-image-exports'\n",
    "blobsout = list_blobs_with_prefix(BUCKET_NAME,'')"
   ]
  },
  {
   "cell_type": "code",
   "execution_count": 24,
   "metadata": {
    "tags": []
   },
   "outputs": [],
   "source": [
    "df = pd.DataFrame(blobsout, columns=['file_path'])#.iloc[1:]\n",
    "#df['folder_name'] = df['file_path'].str.split(BUCKET_NAME, 1,expand = True)\n",
    "df['gdal_path'] = df['file_path'].str.replace('gs://', '/vsigs/') \n"
   ]
  },
  {
   "cell_type": "code",
   "execution_count": 25,
   "metadata": {
    "tags": []
   },
   "outputs": [
    {
     "name": "stderr",
     "output_type": "stream",
     "text": [
      "/var/folders/yn/15903z7124l3th5fm7wg0lgw0000gn/T/ipykernel_45554/741564213.py:1: FutureWarning: In a future version of pandas all arguments of StringMethods.split except for the argument 'pat' will be keyword-only.\n",
      "  lay_names= df['file_path'].str.split('/', 0).str[0]#.str.replace('/','',regex=False)\n",
      "/var/folders/yn/15903z7124l3th5fm7wg0lgw0000gn/T/ipykernel_45554/741564213.py:2: FutureWarning: In a future version of pandas all arguments of StringMethods.split except for the argument 'pat' will be keyword-only.\n",
      "  df['layer_name'] = lay_names.str.split('/',1).str[0]\n"
     ]
    }
   ],
   "source": [
    "lay_names= df['file_path'].str.split('/', 0).str[0]#.str.replace('/','',regex=False)\n",
    "df['layer_name'] = lay_names.str.split('/',1).str[0]\n",
    "#lay_names"
   ]
  },
  {
   "cell_type": "code",
   "execution_count": 26,
   "metadata": {},
   "outputs": [
    {
     "name": "stdout",
     "output_type": "stream",
     "text": [
      "['copper_concentration_ug_per_L' 'p_concentration_ug_per_L'\n",
      " 'tkn_concentration_ug_per_L' 'tss_concentration_ug_per_L'\n",
      " 'zinc_concentration_ug_per_L']\n"
     ]
    }
   ],
   "source": [
    "lay_names = df[\"layer_name\"].unique()\n",
    "print(lay_names)\n",
    "\n"
   ]
  },
  {
   "cell_type": "code",
   "execution_count": 9,
   "metadata": {
    "tags": []
   },
   "outputs": [],
   "source": [
    "#function to check if the file is a Cloud Optimized GeoTIFF\n",
    "def is_cog(file_path):\n",
    "    command = [\"rio\", \"cogeo\", \"validate\", \"--strict\",file_path]\n",
    "    result = subprocess.run(command, capture_output=True, text=True)\n",
    "    return result.stderr"
   ]
  },
  {
   "cell_type": "markdown",
   "metadata": {},
   "source": [
    "## Loop through layer names"
   ]
  },
  {
   "cell_type": "markdown",
   "metadata": {},
   "source": [
    "Use this to run the pipeline for all layers in a list"
   ]
  },
  {
   "cell_type": "code",
   "execution_count": 10,
   "metadata": {
    "tags": []
   },
   "outputs": [],
   "source": [
    "def run_pipeline(lay_name): \n",
    "    #remove old files.tif \n",
    "    files_to_check = [\"tmp.tif\", \"output.vrt\", lay_name+\"_cog.tiff\"]\n",
    "\n",
    "    for file in files_to_check:\n",
    "        if os.path.exists(file):\n",
    "            os.remove(file)\n",
    "            print(f\"{file} has been deleted.\")\n",
    "\n",
    "    #download layer \n",
    "    dl(lay_name)\n",
    "    makevrt(lay_name)\n",
    "    #convert layer \n",
    "    convert_layer(lay_name) \n",
    "    fn = f'rio_{lay_name}_cog.tif'\n",
    "    #check converted layer \n",
    "    cog_check = is_cog(fn)\n",
    "    if(cog_check is None):\n",
    "        print('✅ Valid COG! Beginning upload...')\n",
    "        #upload layer \n",
    "        ul(fn,lay_name)\n",
    "\n",
    "    else: \n",
    "        print('❌', cog_check)"
   ]
  },
  {
   "cell_type": "code",
   "execution_count": 19,
   "metadata": {
    "tags": []
   },
   "outputs": [],
   "source": [
    "# # rio_translate_cmd = f\"rio cogeo create {lay_name}_cog.tif rio_{lay_name}_cog.tif \\\n",
    "#  --allow-intermediate-compression --cog-profile lzw --web-optimized --config CHECK_DISK_FREE_SPACE=FALSE\"\n",
    "# !{rio_translate_cmd}"
   ]
  },
  {
   "cell_type": "markdown",
   "metadata": {
    "tags": []
   },
   "source": [
    "# Scratch Pad below"
   ]
  },
  {
   "cell_type": "code",
   "execution_count": 17,
   "metadata": {
    "tags": []
   },
   "outputs": [
    {
     "name": "stdout",
     "output_type": "stream",
     "text": [
      "Making VRT...\n",
      "0...10...20...30...40...50...60...70...80...90...100 - done.\n",
      "VRT Complete!\n"
     ]
    }
   ],
   "source": [
    "lay_name = \"imperviousness\"\n",
    "makevrt(lay_name)\n",
    "#fn = f'rio_{lay_name}_cog.tif'\n",
    "#dl(lay_name)\n",
    "#ul(fn,lay_name)\n",
    "#makevrt(lay_name)\n",
    "    #convert alayer \n",
    "#convert_layer(lay_name) "
   ]
  },
  {
   "cell_type": "code",
   "execution_count": 18,
   "metadata": {
    "tags": []
   },
   "outputs": [
    {
     "name": "stdout",
     "output_type": "stream",
     "text": [
      "saving as imperviousness_cog.tif\n",
      "Input file size is 72206, 63597\n",
      "0...10...20...30...40...50...60...70...80...90...100 - done.\n",
      "rebuilding overviews using average sampling\n",
      "translating to rio cog raster\n",
      "Reading input: /Users/christiannilsen/Documents/repos/data_pipelines/ipynb/imperviousness_cog.tif\n",
      "\u001b[?25l  [####################################]  100%          \u001b[?25h\n",
      "Adding overviews...\n",
      "Updating dataset tags...\n",
      "Writing output to: /Users/christiannilsen/Documents/repos/data_pipelines/ipynb/rio_imperviousness_cog.tif\n"
     ]
    }
   ],
   "source": [
    "convert_layer(lay_name) "
   ]
  },
  {
   "cell_type": "code",
   "execution_count": 27,
   "metadata": {
    "tags": []
   },
   "outputs": [
    {
     "name": "stdout",
     "output_type": "stream",
     "text": [
      "0...10...20...30...40...50...60...70...80...90...100 - done.\n"
     ]
    }
   ],
   "source": [
    "cmd = f\"gdaladdo -r average {lay_name}_cog.tif\"\n",
    "!{cmd}"
   ]
  },
  {
   "cell_type": "code",
   "execution_count": 25,
   "metadata": {
    "tags": []
   },
   "outputs": [
    {
     "name": "stdout",
     "output_type": "stream",
     "text": [
      "\u001b[1mDriver:\u001b[0m GTiff\n",
      "\u001b[1mFile:\u001b[0m /Users/christiannilsen/Documents/repos/data_pipelines/ipynb/imperviousness_cog.tif\n",
      "\u001b[1mCOG:\u001b[0m False\n",
      "\u001b[1mCompression:\u001b[0m LZW\n",
      "\u001b[1mColorSpace:\u001b[0m None\n",
      "\n",
      "\u001b[1mProfile\u001b[0m\n",
      "    \u001b[1mWidth:\u001b[0m            72206\n",
      "    \u001b[1mHeight:\u001b[0m           63597\n",
      "    \u001b[1mBands:\u001b[0m            1\n",
      "    \u001b[1mTiled:\u001b[0m            True\n",
      "    \u001b[1mDtype:\u001b[0m            float64\n",
      "    \u001b[1mNoData:\u001b[0m           None\n",
      "    \u001b[1mAlpha Band:\u001b[0m       False\n",
      "    \u001b[1mInternal Mask:\u001b[0m    False\n",
      "    \u001b[1mInterleave:\u001b[0m       BAND\n",
      "    \u001b[1mColorMap:\u001b[0m         False\n",
      "    \u001b[1mColorInterp:\u001b[0m      ('gray',)\n",
      "    \u001b[1mScales:\u001b[0m           (1.0,)\n",
      "    \u001b[1mOffsets:\u001b[0m          (0.0,)\n",
      "\n",
      "\u001b[1mGeo\u001b[0m\n",
      "    \u001b[1mCrs:\u001b[0m              EPSG:3857\n",
      "    \u001b[1mOrigin:\u001b[0m           (-14120950.1931867, 6440286.445786312)\n",
      "    \u001b[1mResolution:\u001b[0m       (12.500000000000002, -12.500000000000002)\n",
      "    \u001b[1mBoundingBox:\u001b[0m      (-14120950.1931867, 5645323.945786312, -13218375.1931867, 6440286.445786312)\n",
      "    \u001b[1mMinZoom:\u001b[0m          6\n",
      "    \u001b[1mMaxZoom:\u001b[0m          14\n",
      "\n",
      "\u001b[1mImage Metadata\u001b[0m\n",
      "    \u001b[1m\u001b[4mAREA_OR_POINT\u001b[0m: Area\n",
      "\n",
      "\u001b[1mImage Structure\u001b[0m\n",
      "    \u001b[1m\u001b[4mCOMPRESSION\u001b[0m: LZW\n",
      "    \u001b[1m\u001b[4mINTERLEAVE\u001b[0m: BAND\n",
      "\n",
      "\u001b[1mBand 1\u001b[0m\n",
      "    \u001b[1m\u001b[4mColorInterp\u001b[0m: gray\n",
      "\n",
      "\u001b[1mIFD\u001b[0m\n",
      "    \u001b[1m\u001b[4mId\u001b[0m      \u001b[1m\u001b[4mSize\u001b[0m           \u001b[1m\u001b[4mBlockSize\u001b[0m     \u001b[1m\u001b[4mDecimation\u001b[0m           \n",
      "    0       72206x63597    256x256       0\n",
      "    1       36103x31799    256x256       2\n",
      "    2       18052x15900    256x256       4\n",
      "    3       9026x7950      256x256       8\n",
      "    4       4513x3975      256x256       16\n",
      "    5       2257x1988      256x256       32\n",
      "    6       1129x994       256x256       64\n",
      "    7       565x497        256x256       128\n",
      "    8       283x249        256x256       255\n",
      "    9       142x125        256x256       508\n",
      "\n",
      "\u001b[1mCOG Validation info\u001b[0m\n",
      "\u001b[31m    - Overviews found in external .ovr file. They should be internal (error)\u001b[0m\n",
      "\u001b[31m    - The offset of the first block of overview of index 7 should be after the one of the overview of index 8 (error)\u001b[0m\n",
      "\u001b[31m    - The offset of the first block of overview of index 6 should be after the one of the overview of index 7 (error)\u001b[0m\n",
      "\u001b[31m    - The offset of the first block of overview of index 5 should be after the one of the overview of index 6 (error)\u001b[0m\n",
      "\u001b[31m    - The offset of the first block of overview of index 4 should be after the one of the overview of index 5 (error)\u001b[0m\n",
      "\u001b[31m    - The offset of the first block of overview of index 3 should be after the one of the overview of index 4 (error)\u001b[0m\n",
      "\u001b[31m    - The offset of the first block of overview of index 2 should be after the one of the overview of index 3 (error)\u001b[0m\n",
      "\u001b[31m    - The offset of the first block of overview of index 1 should be after the one of the overview of index 2 (error)\u001b[0m\n",
      "\u001b[31m    - The offset of the first block of overview of index 0 should be after the one of the overview of index 1 (error)\u001b[0m\n"
     ]
    }
   ],
   "source": [
    "rio_info_cmd = f\"rio cogeo info {lay_name}_cog.tif\"\n",
    "!{rio_info_cmd}"
   ]
  },
  {
   "cell_type": "code",
   "execution_count": 7,
   "metadata": {
    "collapsed": true,
    "jupyter": {
     "outputs_hidden": true
    },
    "tags": []
   },
   "outputs": [
    {
     "name": "stdout",
     "output_type": "stream",
     "text": [
      "gcloud storage cp rio_Land_Cover_cog.tif gs://live_data_layers/rasters/Land_Cover.tif\n",
      "Copying file://rio_Land_Cover_cog.tif to gs://live_data_layers/rasters/Land_Cover.tif\n",
      "\u001b[1;33mWARNING:\u001b[0m Parallel composite upload was turned ON to get the best performance on\n",
      "uploading large objects. If you would like to opt-out and instead\n",
      "perform a normal upload, run: gcloud config set\n",
      "storage/parallel_composite_upload_enabled False If you would like to\n",
      "disable this warning, run: gcloud config set\n",
      "storage/parallel_composite_upload_enabled True Note that with parallel\n",
      "composite upload, your object might be uploaded as composite objects\n",
      "(https://cloud.google.com/storage/docs/composite-objects) which means\n",
      "that any user who downloads such objects will need to have crc32c\n",
      "library to compute checksum for data integrity checking. This library\n",
      "is already present with Cloud SDK, so downloading these objects using\n",
      "gcloud storage should not be an issue.\n",
      "\n",
      "⠧ Completed files 0/1 | 0B/2.4GiB                                              Resuming upload for gcloud/tmp/parallel_composite_uploads/see_gcloud_storage_cp_help_for_details/2460348662_c12120277a8c22b00f565ef560fa1c392ca202a3_0\n",
      "Resuming upload for gcloud/tmp/parallel_composite_uploads/see_gcloud_storage_cp_help_for_details/2460348662_c12120277a8c22b00f565ef560fa1c392ca202a3_2\n",
      "⠶ Completed files 0/1 | 0B/2.4GiB                                              Resuming upload for gcloud/tmp/parallel_composite_uploads/see_gcloud_storage_cp_help_for_details/2460348662_c12120277a8c22b00f565ef560fa1c392ca202a3_31\n",
      "Resuming upload for gcloud/tmp/parallel_composite_uploads/see_gcloud_storage_cp_help_for_details/2460348662_c12120277a8c22b00f565ef560fa1c392ca202a3_29\n",
      "Resuming upload for gcloud/tmp/parallel_composite_uploads/see_gcloud_storage_cp_help_for_details/2460348662_c12120277a8c22b00f565ef560fa1c392ca202a3_28\n",
      "Resuming upload for gcloud/tmp/parallel_composite_uploads/see_gcloud_storage_cp_help_for_details/2460348662_c12120277a8c22b00f565ef560fa1c392ca202a3_30\n",
      "Resuming upload for gcloud/tmp/parallel_composite_uploads/see_gcloud_storage_cp_help_for_details/2460348662_c12120277a8c22b00f565ef560fa1c392ca202a3_6\n",
      "Resuming upload for gcloud/tmp/parallel_composite_uploads/see_gcloud_storage_cp_help_for_details/2460348662_c12120277a8c22b00f565ef560fa1c392ca202a3_14\n",
      "Resuming upload for gcloud/tmp/parallel_composite_uploads/see_gcloud_storage_cp_help_for_details/2460348662_c12120277a8c22b00f565ef560fa1c392ca202a3_22\n",
      "Resuming upload for gcloud/tmp/parallel_composite_uploads/see_gcloud_storage_cp_help_for_details/2460348662_c12120277a8c22b00f565ef560fa1c392ca202a3_23\n",
      "Resuming upload for gcloud/tmp/parallel_composite_uploads/see_gcloud_storage_cp_help_for_details/2460348662_c12120277a8c22b00f565ef560fa1c392ca202a3_27\n",
      "Resuming upload for gcloud/tmp/parallel_composite_uploads/see_gcloud_storage_cp_help_for_details/2460348662_c12120277a8c22b00f565ef560fa1c392ca202a3_20\n",
      "Resuming upload for gcloud/tmp/parallel_composite_uploads/see_gcloud_storage_cp_help_for_details/2460348662_c12120277a8c22b00f565ef560fa1c392ca202a3_24\n",
      "Resuming upload for gcloud/tmp/parallel_composite_uploads/see_gcloud_storage_cp_help_for_details/2460348662_c12120277a8c22b00f565ef560fa1c392ca202a3_25\n",
      "Resuming upload for gcloud/tmp/parallel_composite_uploads/see_gcloud_storage_cp_help_for_details/2460348662_c12120277a8c22b00f565ef560fa1c392ca202a3_21\n",
      "Resuming upload for gcloud/tmp/parallel_composite_uploads/see_gcloud_storage_cp_help_for_details/2460348662_c12120277a8c22b00f565ef560fa1c392ca202a3_26\n",
      "  Completed files 1/1 | 2.4GiB/2.4GiB | 2.7MiB/s                               \n",
      "\n",
      "Average throughput: 925.2kiB/s\n"
     ]
    }
   ],
   "source": [
    "file_name = f'rio_{lay_name}.tif'\n",
    "\n",
    "file_name = f'rio_{lay_name}_cog.tif'\n",
    "cmd = f'gcloud storage cp {file_name} gs://live_data_layers/rasters/{lay_name}.tif'\n",
    "print(cmd)\n",
    "!{cmd}"
   ]
  },
  {
   "cell_type": "code",
   "execution_count": 32,
   "metadata": {},
   "outputs": [
    {
     "name": "stdout",
     "output_type": "stream",
     "text": [
      "Started upload task with ID: 6Y43ZQYA2DJLG6SRAKJIU4DW\n",
      "Started upload task with ID: 7YNPEX5YFPXPPPK6WMD2KJC7\n",
      "Started upload task with ID: BYQDZAGB3UTB7THMVQQCDEN3\n"
     ]
    }
   ],
   "source": [
    "\n",
    "layers = ['HSPF_Land_Cover_Type', 'Hydrologic_Response_Units', 'Imperviousness']\n",
    "\n",
    "for lay_name in layers:\n",
    "    ee_cmd = f\"earthengine upload image --asset_id=projects/ee-swhm/assets/staging/{lay_name} \\\n",
    "    gs://live_data_layers/rasters/{lay_name}.tif\" \n",
    "    !{ee_cmd}\n"
   ]
  },
  {
   "cell_type": "code",
   "execution_count": 33,
   "metadata": {},
   "outputs": [
    {
     "name": "stdout",
     "output_type": "stream",
     "text": [
      "Started upload task with ID: MBRFSBE2PYBGD5QGD5KVGKT7\n"
     ]
    }
   ],
   "source": [
    "\n",
    "ee_cmd = f\"earthengine upload image --asset_id=projects/ee-swhm/assets/staging/{lay_name} \\\n",
    "gs://live_data_layers/rasters/{lay_name}.tif\" \n",
    "!{ee_cmd}\n"
   ]
  },
  {
   "cell_type": "markdown",
   "metadata": {},
   "source": [
    "Check pryamiding policy"
   ]
  },
  {
   "cell_type": "code",
   "execution_count": 3,
   "metadata": {},
   "outputs": [
    {
     "name": "stdout",
     "output_type": "stream",
     "text": [
      "{\n",
      "  \"bands\": [\n",
      "    {\n",
      "      \"dataType\": {\n",
      "        \"precision\": \"INT\",\n",
      "        \"range\": {\n",
      "          \"max\": 255\n",
      "        }\n",
      "      },\n",
      "      \"grid\": {\n",
      "        \"affineTransform\": {\n",
      "          \"scaleX\": 1.194328566955879,\n",
      "          \"scaleY\": -1.194328566955879,\n",
      "          \"translateX\": -13904201.1931867,\n",
      "          \"translateY\": 6328374.445786312\n",
      "        },\n",
      "        \"crsCode\": \"EPSG:3857\",\n",
      "        \"dimensions\": {\n",
      "          \"height\": 378880,\n",
      "          \"width\": 396288\n",
      "        }\n",
      "      },\n",
      "      \"id\": \"b1\",\n",
      "      \"pyramidingPolicy\": \"MEAN\"\n",
      "    }\n",
      "  ],\n",
      "  \"geometry\": {\n",
      "    \"coordinates\": [\n",
      "      [\n",
      "        [\n",
      "          -124.90357548563415,\n",
      "          49.31438728345055\n",
      "        ],\n",
      "        [\n",
      "          -124.90357466151073,\n",
      "          46.592740774523946\n",
      "        ],\n",
      "        [\n",
      "          -124.7457889554153,\n",
      "          46.59283783034879\n",
      "        ],\n",
      "        [\n",
      "          -124.58800331573232,\n",
      "          46.59271796025322\n",
      "        ],\n",
      "        [\n",
      "          -124.40531309087523,\n",
      "          46.592836910698516\n",
      "        ],\n",
      "        [\n",
      "          -124.22262304436067,\n",
      "          46.592665052887604\n",
      "        ],\n",
      "        [\n",
      "          -124.05654121220125,\n",
      "          46.592833312146304\n",
      "        ],\n",
      "        [\n",
      "          -123.89045908528664,\n",
      "          46.59276123396895\n",
      "        ],\n",
      "        [\n",
      "          -123.74098528642692,\n",
      "          46.59283693082976\n",
      "        ],\n",
      "        [\n",
      "          -123.59151160692635,\n",
      "          46.592717954530954\n",
      "        ],\n",
      "        [\n",
      "          -123.40882135924306,\n",
      "          46.592836938788835\n",
      "        ],\n",
      "        [\n",
      "          -123.22613128966876,\n",
      "          46.59266511471864\n",
      "        ],\n",
      "        [\n",
      "          -123.0600494477716,\n",
      "          46.59283333168466\n",
      "        ],\n",
      "        [\n",
      "          -122.89396731138874,\n",
      "          46.59276121118768\n",
      "        ],\n",
      "        [\n",
      "          -122.68636436055493,\n",
      "          46.592813809523854\n",
      "        ],\n",
      "        [\n",
      "          -122.47876244525408,\n",
      "          46.592490880423625\n",
      "        ],\n",
      "        [\n",
      "          -122.24624810507382,\n",
      "          46.59282734306582\n",
      "        ],\n",
      "        [\n",
      "          -122.01373289883678,\n",
      "          46.59269274362691\n",
      "        ],\n",
      "        [\n",
      "          -121.7978260985835,\n",
      "          46.592833340802564\n",
      "        ],\n",
      "        [\n",
      "          -121.58191979621249,\n",
      "          46.59256776736354\n",
      "        ],\n",
      "        [\n",
      "          -121.3327968813179,\n",
      "          46.5928381484063\n",
      "        ],\n",
      "        [\n",
      "          -121.08367396641435,\n",
      "          46.592567769429664\n",
      "        ],\n",
      "        [\n",
      "          -120.86775986236374,\n",
      "          46.59283334717161\n",
      "        ],\n",
      "        [\n",
      "          -120.65184526048476,\n",
      "          46.592692724959925\n",
      "        ],\n",
      "        [\n",
      "          -120.65184439006217,\n",
      "          49.31438731686788\n",
      "        ],\n",
      "        [\n",
      "          -120.82623361155126,\n",
      "          49.31478089501567\n",
      "        ],\n",
      "        [\n",
      "          -121.00062469095397,\n",
      "          49.31491208305737\n",
      "        ],\n",
      "        [\n",
      "          -121.17501577030279,\n",
      "          49.31478087838786\n",
      "        ],\n",
      "        [\n",
      "          -121.3494049916122,\n",
      "          49.31438728361225\n",
      "        ],\n",
      "        [\n",
      "          -121.54039806803118,\n",
      "          49.31485939086521\n",
      "        ],\n",
      "        [\n",
      "          -121.73139358528955,\n",
      "          49.3150167636476\n",
      "        ],\n",
      "        [\n",
      "          -121.92238910258385,\n",
      "          49.3148593981775\n",
      "        ],\n",
      "        [\n",
      "          -122.11338217908367,\n",
      "          49.314387298218854\n",
      "        ],\n",
      "        [\n",
      "          -122.31267914403476,\n",
      "          49.31490135041755\n",
      "        ],\n",
      "        [\n",
      "          -122.51197888223784,\n",
      "          49.315072705118006\n",
      "        ],\n",
      "        [\n",
      "          -122.71127862047686,\n",
      "          49.31490135786458\n",
      "        ],\n",
      "        [\n",
      "          -122.91057558551778,\n",
      "          49.314387313103936\n",
      "        ],\n",
      "        [\n",
      "          -123.1513919821341,\n",
      "          49.315137854975845\n",
      "        ],\n",
      "        [\n",
      "          -123.39221327140665,\n",
      "          49.31538803475839\n",
      "        ],\n",
      "        [\n",
      "          -123.6330345606253,\n",
      "          49.31513784293842\n",
      "        ],\n",
      "        [\n",
      "          -123.87385095706196,\n",
      "          49.314387289038066\n",
      "        ],\n",
      "        [\n",
      "          -124.1312791008559,\n",
      "          49.315244957163564\n",
      "        ],\n",
      "        [\n",
      "          -124.388713221375,\n",
      "          49.31553084974871\n",
      "        ],\n",
      "        [\n",
      "          -124.64614734188511,\n",
      "          49.31524495437879\n",
      "        ],\n",
      "        [\n",
      "          -124.90357548563415,\n",
      "          49.31438728345055\n",
      "        ]\n",
      "      ]\n",
      "    ],\n",
      "    \"type\": \"Polygon\"\n",
      "  },\n",
      "  \"id\": \"projects/ee-swhm/assets/production_layers/Land_Cover\",\n",
      "  \"name\": \"projects/ee-swhm/assets/production_layers/Land_Cover\",\n",
      "  \"sizeBytes\": \"1795673538\",\n",
      "  \"type\": \"IMAGE\",\n",
      "  \"updateTime\": \"2023-06-16T22:43:56.587845Z\"\n",
      "}\n"
     ]
    }
   ],
   "source": [
    "ee_cmd = f\"earthengine asset info projects/ee-swhm/assets/production_layers/{lay_name}\"\n",
    "!{ee_cmd}"
   ]
  }
 ],
 "metadata": {
  "kernelspec": {
   "display_name": "Python 3 (ipykernel)",
   "language": "python",
   "name": "python3"
  },
  "language_info": {
   "codemirror_mode": {
    "name": "ipython",
    "version": 3
   },
   "file_extension": ".py",
   "mimetype": "text/x-python",
   "name": "python",
   "nbconvert_exporter": "python",
   "pygments_lexer": "ipython3",
   "version": "3.10.9"
  },
  "toc-autonumbering": false,
  "toc-showcode": false,
  "vscode": {
   "interpreter": {
    "hash": "3d597f4c481aa0f25dceb95d2a0067e73c0966dcbd003d741d821a7208527ecf"
   }
  }
 },
 "nbformat": 4,
 "nbformat_minor": 4
}
