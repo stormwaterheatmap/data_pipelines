{
 "cells": [
  {
   "cell_type": "markdown",
   "metadata": {},
   "source": [
    "# Generate Cloud-Optimized Geotiffs from tiles\n"
   ]
  },
  {
   "cell_type": "markdown",
   "metadata": {},
   "source": [
    "## Load Libraries"
   ]
  },
  {
   "cell_type": "markdown",
   "metadata": {},
   "source": [
    "Check that gdal is installed"
   ]
  },
  {
   "cell_type": "code",
   "execution_count": 1,
   "metadata": {},
   "outputs": [
    {
     "name": "stdout",
     "output_type": "stream",
     "text": [
      "GDAL 3.6.4, released 2023/04/17\n"
     ]
    }
   ],
   "source": [
    "!gdalinfo --version"
   ]
  },
  {
   "cell_type": "code",
   "execution_count": 2,
   "metadata": {},
   "outputs": [],
   "source": [
    "from osgeo import gdal\n",
    "import subprocess\n",
    "import json \n",
    "import pandas as pd\n",
    "from google.cloud import storage\n",
    "import os\n",
    "import glob\n"
   ]
  },
  {
   "cell_type": "code",
   "execution_count": 3,
   "metadata": {},
   "outputs": [],
   "source": [
    "os.environ['GS_NO_SIGN_REQUEST'] = 'YES'\n",
    "os.environ['GDAL_NUM_THREADS'] = '5'"
   ]
  },
  {
   "cell_type": "markdown",
   "metadata": {},
   "source": [
    "Log in to google cloud if needed "
   ]
  },
  {
   "cell_type": "code",
   "execution_count": 4,
   "metadata": {},
   "outputs": [],
   "source": [
    "#!{gcloud auth login --update-adc}"
   ]
  },
  {
   "cell_type": "code",
   "execution_count": 5,
   "metadata": {},
   "outputs": [
    {
     "name": "stdout",
     "output_type": "stream",
     "text": [
      "Updated property [core/project].\n",
      "\n",
      "\n",
      "Updates are available for some Google Cloud CLI components.  To install them,\n",
      "please run:\n",
      "  $ gcloud components update\n",
      "\n"
     ]
    }
   ],
   "source": [
    "!{gcloud config set project swhm-dev}"
   ]
  },
  {
   "cell_type": "markdown",
   "metadata": {
    "tags": []
   },
   "source": [
    "## Functions"
   ]
  },
  {
   "cell_type": "markdown",
   "metadata": {
    "tags": []
   },
   "source": [
    "A function to list blobs on the storage bucket "
   ]
  },
  {
   "cell_type": "code",
   "execution_count": 13,
   "metadata": {
    "tags": []
   },
   "outputs": [],
   "source": [
    "def list_blobs_with_prefix(bucket_name, prefix, delimiter=None):\n",
    "    \"\"\"Lists all the blobs in the bucket that begin with the prefix.\n",
    "    \"\"\"\n",
    "    storage_client = storage.Client()\n",
    "   \n",
    "    blobs = storage_client.list_blobs(bucket_name, prefix=prefix, delimiter=delimiter)\n",
    "\n",
    "    # Note: The call returns a response only when the iterator is consumed.\n",
    "    blob_list = []\n",
    "    for blob in blobs:\n",
    "        blob_list.append(blob.name)\n",
    "\n",
    "    if delimiter:\n",
    "        print(\"Prefixes:\")\n",
    "        for prefix in blobs.prefixes:\n",
    "            blob_list.append([prefix])\n",
    "    \n",
    "    return blob_list\n"
   ]
  },
  {
   "cell_type": "markdown",
   "metadata": {},
   "source": [
    "### 1. Download images"
   ]
  },
  {
   "cell_type": "code",
   "execution_count": 14,
   "metadata": {
    "tags": []
   },
   "outputs": [],
   "source": [
    "def dl(lay_name):\n",
    "    cmd = f'gsutil -m cp -R gs://swhm-image-exports/{lay_name} .'\n",
    "    !{cmd}"
   ]
  },
  {
   "cell_type": "markdown",
   "metadata": {},
   "source": [
    "### 2. Reproject images\n",
    "\n",
    "saves reprojected images to /tmp "
   ]
  },
  {
   "cell_type": "code",
   "execution_count": 15,
   "metadata": {},
   "outputs": [],
   "source": [
    "def reproject(lay_name, target_crs='EPSG:3857'): \n",
    "\n",
    "    directory_path = lay_name\n",
    "               #make a list of the files in the directory \n",
    "    files = os.listdir(directory_path+\"/reprojected\")\n",
    "    print(files)\n",
    "    # create a new file for writing\n",
    "    list_file = \"files.txt\"\n",
    "    try:\n",
    "        os.remove(list_file)\n",
    "    except OSError:\n",
    "        pass\n",
    "    \n",
    "    for filename in files:\n",
    "        if filename.endswith(\".tif\"):\n",
    "            input_path = os.path.join(directory_path, filename)\n",
    "            output_path = os.path.join(directory_path+\"/reprojected\", filename)\n",
    "            cmd = f'gdalwarp -t_srs {target_crs} -overwrite {input_path} {output_path}'\n",
    "            !{cmd}"
   ]
  },
  {
   "cell_type": "markdown",
   "metadata": {},
   "source": [
    "### 3. Make vrt\n",
    "\n"
   ]
  },
  {
   "cell_type": "code",
   "execution_count": 19,
   "metadata": {},
   "outputs": [],
   "source": [
    "#https://gdal.org/programs/gdal_translate.html\n",
    "#cmdoption-gdal_translate-ovr\n",
    "\n",
    "def makevrt(lay_name):\n",
    "    directory_path = lay_name+'/*.tif'\n",
    "    print('Making VRT...')\n",
    "    cmd = f'gdalbuildvrt  output.vrt {directory_path}'\n",
    "    !{cmd}\n",
    "    print('VRT Complete!')\n",
    "    \n",
    "\n",
    "def ul(file_name, lay_name):\n",
    "    print('Uploading Layer...')\n",
    "    cmd = f'gsutil cp {file_name} gs://live_data_layers/rasters/{lay_name}.tif'\n",
    "    !{cmd}\n",
    "    print('Layer upload complete!') "
   ]
  },
  {
   "cell_type": "markdown",
   "metadata": {},
   "source": [
    "---"
   ]
  },
  {
   "cell_type": "markdown",
   "metadata": {},
   "source": [
    "## 4. Wrapper Function"
   ]
  },
  {
   "cell_type": "code",
   "execution_count": 17,
   "metadata": {},
   "outputs": [],
   "source": [
    "def convert_layer(lay_name): \n",
    "    '''\n",
    "    Function that does the following: \n",
    "    1. Downloads from gcp bucket \n",
    "    2. makes a virtual raster - saves to output.vrt \n",
    "    3. Checks the projection and reprojects if necessary - saves to tmp.tif, otherwise translates to tmp.tif \n",
    "    ''' \n",
    "    \n",
    "\n",
    "    \n",
    "    #check projection \n",
    "    p = subprocess.run([\"rio\", \"info\", \"output.vrt\"], capture_output=True, text=True)\n",
    "    raster_info = json.loads(p.stdout)\n",
    "\n",
    "#reproject if needed \n",
    "    if (raster_info['crs']) != \"EPSG:3857\": \n",
    "        #reproject \n",
    "        print(f'reprojecting from {raster_info[\"crs\"]}')\n",
    "        warp_cmd = 'gdalwarp -t_srs EPSG:3857 -overwrite output.vrt tmp.tif \\\n",
    "         -co NUM_THREADS=5 -co TILED=YES -co COMPRESS=LZW -co BIGTIFF=YES \\\n",
    "         --config CHECK_DISK_FREE_SPACE FALSE'\n",
    "        !{warp_cmd}\n",
    "\n",
    "    else: \n",
    "        print(f'saving as {lay_name}_cog.tif') \n",
    "        translate_cmd = f'gdal_translate output.vrt {lay_name}_cog.tif \\\n",
    "        -co TILED=YES -co COMPRESS=LZW \\\n",
    "        -co BIGTIFF=YES \\\n",
    "         -co NUM_THREADS=5 -co TILED=YES --config CHECK_DISK_FREE_SPACE FALSE'\n",
    "        !{translate_cmd}\n",
    "        \n",
    "    #rebuild pyramids\n",
    "    \n",
    "    if (raster_info[\"dtype\"] != 'uint8'): \n",
    "            print(f'rebuilding overviews using average sampling')\n",
    "            resampling = 'average'\n",
    "            #!{'gdaladdo -r average tmp.tif'}\n",
    "    else: \n",
    "            print(f'rebuilding overviews using nearest neighbors sampling') \n",
    "            resampling = 'nearest' \n",
    "            #!{'gdaladdo -r nearest tmp.tif'}\n",
    "        \n",
    "    print('translating tmp.tif to cog raster') \n",
    "    \n",
    "    translate_cmd = f\"rio cogeo create tmp.tif rio_{lay_name}_cog.tif \\\n",
    "    --allow-intermediate-compression \\\n",
    "    --cog-profile lzw \\\n",
    "    --web-optimized \\\n",
    "    --config CHECK_DISK_FREE_SPACE=FALSE \\\n",
    "    --overview-resampling={resampling} \\\n",
    "    --resampling={resampling}\"\n",
    "\n",
    "    # translate_cmd = f'gdal_translate tmp.tif {lay_name}_cog.tif \\\n",
    "    # -co TILED=YES -co COMPRESS=LZW -co COPY_SRC_OVERVIEWS=YES \\\n",
    "    # -co BIGTIFF=YES -stats\\\n",
    "    #  -co NUM_THREADS=5  --config CHECK_DISK_FREE_SPACE FALSE'\n",
    "    # \n",
    "    !{translate_cmd}\n",
    "\n",
    "           \n",
    "\n"
   ]
  },
  {
   "cell_type": "code",
   "execution_count": 24,
   "metadata": {
    "tags": []
   },
   "outputs": [],
   "source": [
    "\n",
    "resampling = 'average' \n",
    "\n",
    "translate_cmd = f\"rio cogeo create {lay_name}_cog.tif rio_{lay_name}_cog.tif \\\n",
    "    --allow-intermediate-compression \\\n",
    "    --cog-profile lzw \\\n",
    "    --config CHECK_DISK_FREE_SPACE=FALSE \\\n",
    "    --overview-resampling={resampling}\""
   ]
  },
  {
   "cell_type": "code",
   "execution_count": 25,
   "metadata": {
    "tags": []
   },
   "outputs": [
    {
     "data": {
      "text/plain": [
       "'rio cogeo create Imperviousness_cog.tif rio_Imperviousness_cog.tif     --allow-intermediate-compression     --cog-profile lzw     --config CHECK_DISK_FREE_SPACE=FALSE     --overview-resampling=average'"
      ]
     },
     "execution_count": 25,
     "metadata": {},
     "output_type": "execute_result"
    }
   ],
   "source": [
    "translate_cmd"
   ]
  },
  {
   "cell_type": "markdown",
   "metadata": {
    "tags": []
   },
   "source": [
    "## Get list of objects in data bucket"
   ]
  },
  {
   "cell_type": "code",
   "execution_count": 11,
   "metadata": {},
   "outputs": [],
   "source": [
    "BUCKET_NAME = 'swhm-image-exports'\n",
    "blobsout = list_blobs_with_prefix(BUCKET_NAME,'')"
   ]
  },
  {
   "cell_type": "code",
   "execution_count": 12,
   "metadata": {
    "tags": []
   },
   "outputs": [],
   "source": [
    "df = pd.DataFrame(blobsout, columns=['file_path'])#.iloc[1:]\n",
    "#df['folder_name'] = df['file_path'].str.split(BUCKET_NAME, 1,expand = True)\n",
    "df['gdal_path'] = df['file_path'].str.replace('gs://', '/vsigs/') \n"
   ]
  },
  {
   "cell_type": "code",
   "execution_count": 13,
   "metadata": {
    "tags": []
   },
   "outputs": [
    {
     "name": "stderr",
     "output_type": "stream",
     "text": [
      "/var/folders/yn/15903z7124l3th5fm7wg0lgw0000gn/T/ipykernel_9067/741564213.py:1: FutureWarning: In a future version of pandas all arguments of StringMethods.split except for the argument 'pat' will be keyword-only.\n",
      "  lay_names= df['file_path'].str.split('/', 0).str[0]#.str.replace('/','',regex=False)\n",
      "/var/folders/yn/15903z7124l3th5fm7wg0lgw0000gn/T/ipykernel_9067/741564213.py:2: FutureWarning: In a future version of pandas all arguments of StringMethods.split except for the argument 'pat' will be keyword-only.\n",
      "  df['layer_name'] = lay_names.str.split('/',1).str[0]\n"
     ]
    }
   ],
   "source": [
    "lay_names= df['file_path'].str.split('/', 0).str[0]#.str.replace('/','',regex=False)\n",
    "df['layer_name'] = lay_names.str.split('/',1).str[0]\n",
    "#lay_names"
   ]
  },
  {
   "cell_type": "code",
   "execution_count": 14,
   "metadata": {},
   "outputs": [
    {
     "name": "stdout",
     "output_type": "stream",
     "text": [
      "['Imperviousness' 'Land_Cover']\n"
     ]
    }
   ],
   "source": [
    "lay_names = df[\"layer_name\"].unique()\n",
    "print(lay_names)\n",
    "\n"
   ]
  },
  {
   "cell_type": "code",
   "execution_count": 18,
   "metadata": {
    "tags": []
   },
   "outputs": [],
   "source": [
    "#function to check if the file is a Cloud Optimized GeoTIFF\n",
    "def is_cog(file_path):\n",
    "    command = [\"rio\", \"cogeo\", \"validate\", \"--strict\",file_path]\n",
    "    result = subprocess.run(command, capture_output=True, text=True)\n",
    "    return result.stderr"
   ]
  },
  {
   "cell_type": "markdown",
   "metadata": {},
   "source": [
    "## Loop through layer names"
   ]
  },
  {
   "cell_type": "markdown",
   "metadata": {},
   "source": [
    "Use this to run the pipeline for all layers in a list"
   ]
  },
  {
   "cell_type": "code",
   "execution_count": 19,
   "metadata": {
    "tags": []
   },
   "outputs": [],
   "source": [
    "def run_pipeline(lay_name): \n",
    "    #remove old files.tif \n",
    "    files_to_check = [\"tmp.tif\", \"output.vrt\", lay_name+\"_cog.tiff\"]\n",
    "\n",
    "    for file in files_to_check:\n",
    "        if os.path.exists(file):\n",
    "            os.remove(file)\n",
    "            print(f\"{file} has been deleted.\")\n",
    "\n",
    "    #download layer \n",
    "    dl(lay_name)\n",
    "    makevrt(lay_name)\n",
    "    #convert layer \n",
    "    convert_layer(lay_name) \n",
    "    fn = f'{lay_name}_cog.tif'\n",
    "    #check converted layer \n",
    "    cog_check = is_cog(fn)\n",
    "    if(cog_check is None):\n",
    "        print('✅ Valid COG! Beginning upload...')\n",
    "        #upload layer \n",
    "        ul(fn,lay_name)\n",
    "\n",
    "    else: \n",
    "        print('❌', cog_check)"
   ]
  },
  {
   "cell_type": "code",
   "execution_count": 23,
   "metadata": {
    "tags": []
   },
   "outputs": [],
   "source": [
    "# # rio_translate_cmd = f\"rio cogeo create {lay_name}_cog.tif rio_{lay_name}_cog.tif \\\n",
    "#  --allow-intermediate-compression --cog-profile lzw --web-optimized --config CHECK_DISK_FREE_SPACE=FALSE\"\n",
    "# !{rio_translate_cmd}"
   ]
  },
  {
   "cell_type": "code",
   "execution_count": 27,
   "metadata": {
    "tags": []
   },
   "outputs": [
    {
     "name": "stdout",
     "output_type": "stream",
     "text": [
      "output.vrt has been deleted.\n",
      "If you experience problems with multiprocessing on MacOS, they might be related to https://bugs.python.org/issue33725. You can disable multiprocessing by editing your .boto config or by adding the following flag to your command: `-o \"GSUtil:parallel_process_count=1\"`. Note that multithreading is still available even if you disable multiprocessing.\n",
      "\n",
      "Copying gs://swhm-image-exports/Imperviousness/Imperviousness0000000000-0000000000.tif...\n",
      "Copying gs://swhm-image-exports/Imperviousness/Imperviousness0000000000-0000046592.tif...\n",
      "Copying gs://swhm-image-exports/Imperviousness/Imperviousness0000000000-0000069888.tif...\n",
      "Copying gs://swhm-image-exports/Imperviousness/Imperviousness0000000000-0000023296.tif...\n",
      "Copying gs://swhm-image-exports/Imperviousness/Imperviousness0000000000-0000093184.tif...\n",
      "Copying gs://swhm-image-exports/Imperviousness/Imperviousness0000000000-0000139776.tif...\n",
      "Copying gs://swhm-image-exports/Imperviousness/Imperviousness0000000000-0000209664.tif...\n",
      "Copying gs://swhm-image-exports/Imperviousness/Imperviousness0000000000-0000186368.tif...\n",
      "Copying gs://swhm-image-exports/Imperviousness/Imperviousness0000000000-0000232960.tif...\n",
      "Copying gs://swhm-image-exports/Imperviousness/Imperviousness0000000000-0000372736.tif...\n",
      "Copying gs://swhm-image-exports/Imperviousness/Imperviousness0000000000-0000349440.tif...\n",
      "Copying gs://swhm-image-exports/Imperviousness/Imperviousness0000023296-0000232960.tif...\n",
      "Copying gs://swhm-image-exports/Imperviousness/Imperviousness0000000000-0000279552.tif...\n",
      "Copying gs://swhm-image-exports/Imperviousness/Imperviousness0000000000-0000442624.tif...\n",
      "Copying gs://swhm-image-exports/Imperviousness/Imperviousness0000000000-0000163072.tif...\n",
      "Copying gs://swhm-image-exports/Imperviousness/Imperviousness0000000000-0000116480.tif...\n",
      "Copying gs://swhm-image-exports/Imperviousness/Imperviousness0000023296-0000116480.tif...\n",
      "Copying gs://swhm-image-exports/Imperviousness/Imperviousness0000023296-0000279552.tif...\n",
      "Copying gs://swhm-image-exports/Imperviousness/Imperviousness0000023296-0000046592.tif...\n",
      "Copying gs://swhm-image-exports/Imperviousness/Imperviousness0000023296-0000256256.tif...\n",
      "Copying gs://swhm-image-exports/Imperviousness/Imperviousness0000023296-0000209664.tif...\n",
      "Copying gs://swhm-image-exports/Imperviousness/Imperviousness0000000000-0000302848.tif...\n",
      "Copying gs://swhm-image-exports/Imperviousness/Imperviousness0000023296-0000419328.tif...\n",
      "Copying gs://swhm-image-exports/Imperviousness/Imperviousness0000000000-0000326144.tif...\n",
      "Copying gs://swhm-image-exports/Imperviousness/Imperviousness0000023296-0000396032.tif...\n",
      "Copying gs://swhm-image-exports/Imperviousness/Imperviousness0000000000-0000419328.tif...\n",
      "Copying gs://swhm-image-exports/Imperviousness/Imperviousness0000023296-0000093184.tif...\n",
      "Copying gs://swhm-image-exports/Imperviousness/Imperviousness0000023296-0000000000.tif...\n",
      "Copying gs://swhm-image-exports/Imperviousness/Imperviousness0000000000-0000256256.tif...\n",
      "Copying gs://swhm-image-exports/Imperviousness/Imperviousness0000023296-0000139776.tif...\n",
      "Copying gs://swhm-image-exports/Imperviousness/Imperviousness0000000000-0000396032.tif...\n",
      "Copying gs://swhm-image-exports/Imperviousness/Imperviousness0000023296-0000372736.tif...\n",
      "Copying gs://swhm-image-exports/Imperviousness/Imperviousness0000000000-0000465920.tif...\n",
      "Copying gs://swhm-image-exports/Imperviousness/Imperviousness0000023296-0000023296.tif...\n",
      "Copying gs://swhm-image-exports/Imperviousness/Imperviousness0000023296-0000302848.tif...\n",
      "Copying gs://swhm-image-exports/Imperviousness/Imperviousness0000023296-0000163072.tif...\n",
      "Copying gs://swhm-image-exports/Imperviousness/Imperviousness0000023296-0000186368.tif...\n",
      "Copying gs://swhm-image-exports/Imperviousness/Imperviousness0000023296-0000349440.tif...\n",
      "Copying gs://swhm-image-exports/Imperviousness/Imperviousness0000023296-0000069888.tif...\n",
      "Copying gs://swhm-image-exports/Imperviousness/Imperviousness0000023296-0000326144.tif...\n",
      "Copying gs://swhm-image-exports/Imperviousness/Imperviousness0000023296-0000442624.tif...\n",
      "Copying gs://swhm-image-exports/Imperviousness/Imperviousness0000023296-0000465920.tif...\n",
      "Copying gs://swhm-image-exports/Imperviousness/Imperviousness0000046592-0000000000.tif...\n",
      "Copying gs://swhm-image-exports/Imperviousness/Imperviousness0000046592-0000023296.tif...\n",
      "Copying gs://swhm-image-exports/Imperviousness/Imperviousness0000046592-0000046592.tif...\n",
      "Copying gs://swhm-image-exports/Imperviousness/Imperviousness0000046592-0000069888.tif...\n",
      "Copying gs://swhm-image-exports/Imperviousness/Imperviousness0000046592-0000093184.tif...\n",
      "Copying gs://swhm-image-exports/Imperviousness/Imperviousness0000046592-0000116480.tif...\n",
      "Copying gs://swhm-image-exports/Imperviousness/Imperviousness0000046592-0000139776.tif...\n",
      "Copying gs://swhm-image-exports/Imperviousness/Imperviousness0000046592-0000163072.tif...\n",
      "Copying gs://swhm-image-exports/Imperviousness/Imperviousness0000046592-0000186368.tif...\n",
      "Copying gs://swhm-image-exports/Imperviousness/Imperviousness0000046592-0000209664.tif...\n",
      "Copying gs://swhm-image-exports/Imperviousness/Imperviousness0000046592-0000232960.tif...\n",
      "Copying gs://swhm-image-exports/Imperviousness/Imperviousness0000046592-0000256256.tif...\n",
      "Copying gs://swhm-image-exports/Imperviousness/Imperviousness0000046592-0000279552.tif...\n",
      "Copying gs://swhm-image-exports/Imperviousness/Imperviousness0000046592-0000302848.tif...\n",
      "Copying gs://swhm-image-exports/Imperviousness/Imperviousness0000046592-0000326144.tif...\n",
      "Copying gs://swhm-image-exports/Imperviousness/Imperviousness0000046592-0000349440.tif...\n",
      "Copying gs://swhm-image-exports/Imperviousness/Imperviousness0000046592-0000372736.tif...\n",
      "Copying gs://swhm-image-exports/Imperviousness/Imperviousness0000046592-0000396032.tif...\n",
      "Copying gs://swhm-image-exports/Imperviousness/Imperviousness0000046592-0000419328.tif...\n",
      "Copying gs://swhm-image-exports/Imperviousness/Imperviousness0000046592-0000442624.tif...\n",
      "Copying gs://swhm-image-exports/Imperviousness/Imperviousness0000046592-0000465920.tif...\n",
      "Copying gs://swhm-image-exports/Imperviousness/Imperviousness0000069888-0000000000.tif...\n",
      "Copying gs://swhm-image-exports/Imperviousness/Imperviousness0000069888-0000023296.tif...\n",
      "Copying gs://swhm-image-exports/Imperviousness/Imperviousness0000069888-0000046592.tif...\n",
      "Copying gs://swhm-image-exports/Imperviousness/Imperviousness0000069888-0000069888.tif...\n",
      "Copying gs://swhm-image-exports/Imperviousness/Imperviousness0000069888-0000093184.tif...\n",
      "Copying gs://swhm-image-exports/Imperviousness/Imperviousness0000069888-0000116480.tif...\n",
      "Copying gs://swhm-image-exports/Imperviousness/Imperviousness0000069888-0000139776.tif...\n",
      "Copying gs://swhm-image-exports/Imperviousness/Imperviousness0000069888-0000163072.tif...\n",
      "Copying gs://swhm-image-exports/Imperviousness/Imperviousness0000069888-0000186368.tif...\n",
      "Copying gs://swhm-image-exports/Imperviousness/Imperviousness0000069888-0000209664.tif...\n",
      "Copying gs://swhm-image-exports/Imperviousness/Imperviousness0000069888-0000232960.tif...\n",
      "Copying gs://swhm-image-exports/Imperviousness/Imperviousness0000069888-0000256256.tif...\n",
      "Copying gs://swhm-image-exports/Imperviousness/Imperviousness0000069888-0000279552.tif...\n",
      "Copying gs://swhm-image-exports/Imperviousness/Imperviousness0000069888-0000302848.tif...\n",
      "Copying gs://swhm-image-exports/Imperviousness/Imperviousness0000069888-0000326144.tif...\n",
      "Copying gs://swhm-image-exports/Imperviousness/Imperviousness0000069888-0000349440.tif...\n",
      "Copying gs://swhm-image-exports/Imperviousness/Imperviousness0000069888-0000372736.tif...\n",
      "Copying gs://swhm-image-exports/Imperviousness/Imperviousness0000069888-0000396032.tif...\n",
      "Copying gs://swhm-image-exports/Imperviousness/Imperviousness0000069888-0000419328.tif...\n",
      "Copying gs://swhm-image-exports/Imperviousness/Imperviousness0000069888-0000442624.tif...\n",
      "Copying gs://swhm-image-exports/Imperviousness/Imperviousness0000069888-0000465920.tif...\n",
      "Copying gs://swhm-image-exports/Imperviousness/Imperviousness0000093184-0000000000.tif...\n",
      "Copying gs://swhm-image-exports/Imperviousness/Imperviousness0000093184-0000023296.tif...\n",
      "Copying gs://swhm-image-exports/Imperviousness/Imperviousness0000093184-0000046592.tif...\n",
      "Copying gs://swhm-image-exports/Imperviousness/Imperviousness0000093184-0000069888.tif...\n",
      "Copying gs://swhm-image-exports/Imperviousness/Imperviousness0000093184-0000093184.tif...\n",
      "Copying gs://swhm-image-exports/Imperviousness/Imperviousness0000093184-0000116480.tif...\n",
      "Copying gs://swhm-image-exports/Imperviousness/Imperviousness0000093184-0000139776.tif...\n",
      "Copying gs://swhm-image-exports/Imperviousness/Imperviousness0000093184-0000163072.tif...\n",
      "Copying gs://swhm-image-exports/Imperviousness/Imperviousness0000093184-0000186368.tif...\n",
      "Copying gs://swhm-image-exports/Imperviousness/Imperviousness0000093184-0000209664.tif...\n",
      "Copying gs://swhm-image-exports/Imperviousness/Imperviousness0000093184-0000232960.tif...\n",
      "Copying gs://swhm-image-exports/Imperviousness/Imperviousness0000093184-0000256256.tif...\n",
      "Copying gs://swhm-image-exports/Imperviousness/Imperviousness0000093184-0000279552.tif...\n",
      "Copying gs://swhm-image-exports/Imperviousness/Imperviousness0000093184-0000302848.tif...\n",
      "Copying gs://swhm-image-exports/Imperviousness/Imperviousness0000093184-0000326144.tif...\n",
      "Copying gs://swhm-image-exports/Imperviousness/Imperviousness0000093184-0000349440.tif...\n",
      "Copying gs://swhm-image-exports/Imperviousness/Imperviousness0000093184-0000372736.tif...\n",
      "Copying gs://swhm-image-exports/Imperviousness/Imperviousness0000093184-0000396032.tif...\n",
      "Copying gs://swhm-image-exports/Imperviousness/Imperviousness0000093184-0000419328.tif...\n",
      "Copying gs://swhm-image-exports/Imperviousness/Imperviousness0000093184-0000442624.tif...\n",
      "Copying gs://swhm-image-exports/Imperviousness/Imperviousness0000093184-0000465920.tif...\n",
      "Copying gs://swhm-image-exports/Imperviousness/Imperviousness0000116480-0000000000.tif...\n",
      "Copying gs://swhm-image-exports/Imperviousness/Imperviousness0000116480-0000023296.tif...\n",
      "Copying gs://swhm-image-exports/Imperviousness/Imperviousness0000116480-0000046592.tif...\n",
      "Copying gs://swhm-image-exports/Imperviousness/Imperviousness0000116480-0000069888.tif...\n",
      "Copying gs://swhm-image-exports/Imperviousness/Imperviousness0000116480-0000093184.tif...\n",
      "Copying gs://swhm-image-exports/Imperviousness/Imperviousness0000116480-0000116480.tif...\n",
      "Copying gs://swhm-image-exports/Imperviousness/Imperviousness0000116480-0000139776.tif...\n",
      "Copying gs://swhm-image-exports/Imperviousness/Imperviousness0000116480-0000163072.tif...\n",
      "Copying gs://swhm-image-exports/Imperviousness/Imperviousness0000116480-0000186368.tif...\n",
      "Copying gs://swhm-image-exports/Imperviousness/Imperviousness0000116480-0000209664.tif...\n",
      "Copying gs://swhm-image-exports/Imperviousness/Imperviousness0000116480-0000232960.tif...\n",
      "Copying gs://swhm-image-exports/Imperviousness/Imperviousness0000116480-0000256256.tif...\n",
      "Copying gs://swhm-image-exports/Imperviousness/Imperviousness0000116480-0000279552.tif...\n",
      "Copying gs://swhm-image-exports/Imperviousness/Imperviousness0000116480-0000302848.tif...\n",
      "Copying gs://swhm-image-exports/Imperviousness/Imperviousness0000116480-0000326144.tif...\n",
      "Copying gs://swhm-image-exports/Imperviousness/Imperviousness0000116480-0000349440.tif...\n",
      "Copying gs://swhm-image-exports/Imperviousness/Imperviousness0000116480-0000372736.tif...\n",
      "Copying gs://swhm-image-exports/Imperviousness/Imperviousness0000116480-0000396032.tif...\n",
      "Copying gs://swhm-image-exports/Imperviousness/Imperviousness0000116480-0000419328.tif...\n",
      "Copying gs://swhm-image-exports/Imperviousness/Imperviousness0000116480-0000442624.tif...\n",
      "Copying gs://swhm-image-exports/Imperviousness/Imperviousness0000116480-0000465920.tif...\n",
      "Copying gs://swhm-image-exports/Imperviousness/Imperviousness0000139776-0000000000.tif...\n",
      "Copying gs://swhm-image-exports/Imperviousness/Imperviousness0000139776-0000023296.tif...\n",
      "Copying gs://swhm-image-exports/Imperviousness/Imperviousness0000139776-0000046592.tif...\n",
      "Copying gs://swhm-image-exports/Imperviousness/Imperviousness0000139776-0000069888.tif...\n",
      "Copying gs://swhm-image-exports/Imperviousness/Imperviousness0000139776-0000093184.tif...\n",
      "Copying gs://swhm-image-exports/Imperviousness/Imperviousness0000139776-0000116480.tif...\n",
      "Copying gs://swhm-image-exports/Imperviousness/Imperviousness0000139776-0000139776.tif...\n",
      "Copying gs://swhm-image-exports/Imperviousness/Imperviousness0000139776-0000163072.tif...\n",
      "Copying gs://swhm-image-exports/Imperviousness/Imperviousness0000139776-0000186368.tif...\n",
      "Copying gs://swhm-image-exports/Imperviousness/Imperviousness0000139776-0000209664.tif...\n",
      "Copying gs://swhm-image-exports/Imperviousness/Imperviousness0000139776-0000232960.tif...\n",
      "Copying gs://swhm-image-exports/Imperviousness/Imperviousness0000139776-0000256256.tif...\n",
      "Copying gs://swhm-image-exports/Imperviousness/Imperviousness0000139776-0000279552.tif...\n",
      "Copying gs://swhm-image-exports/Imperviousness/Imperviousness0000139776-0000302848.tif...\n",
      "Copying gs://swhm-image-exports/Imperviousness/Imperviousness0000139776-0000326144.tif...\n",
      "Copying gs://swhm-image-exports/Imperviousness/Imperviousness0000139776-0000349440.tif...\n",
      "Copying gs://swhm-image-exports/Imperviousness/Imperviousness0000139776-0000372736.tif...\n",
      "Copying gs://swhm-image-exports/Imperviousness/Imperviousness0000139776-0000396032.tif...\n",
      "Copying gs://swhm-image-exports/Imperviousness/Imperviousness0000139776-0000419328.tif...\n",
      "Copying gs://swhm-image-exports/Imperviousness/Imperviousness0000139776-0000442624.tif...\n",
      "Copying gs://swhm-image-exports/Imperviousness/Imperviousness0000139776-0000465920.tif...\n",
      "Copying gs://swhm-image-exports/Imperviousness/Imperviousness0000163072-0000000000.tif...\n",
      "Copying gs://swhm-image-exports/Imperviousness/Imperviousness0000163072-0000023296.tif...\n",
      "Copying gs://swhm-image-exports/Imperviousness/Imperviousness0000163072-0000046592.tif...\n",
      "Copying gs://swhm-image-exports/Imperviousness/Imperviousness0000163072-0000069888.tif...\n",
      "Copying gs://swhm-image-exports/Imperviousness/Imperviousness0000163072-0000093184.tif...\n",
      "Copying gs://swhm-image-exports/Imperviousness/Imperviousness0000163072-0000116480.tif...\n",
      "Copying gs://swhm-image-exports/Imperviousness/Imperviousness0000163072-0000139776.tif...\n",
      "Copying gs://swhm-image-exports/Imperviousness/Imperviousness0000163072-0000163072.tif...\n",
      "Copying gs://swhm-image-exports/Imperviousness/Imperviousness0000163072-0000186368.tif...\n",
      "Copying gs://swhm-image-exports/Imperviousness/Imperviousness0000163072-0000209664.tif...\n",
      "Copying gs://swhm-image-exports/Imperviousness/Imperviousness0000163072-0000232960.tif...\n",
      "Copying gs://swhm-image-exports/Imperviousness/Imperviousness0000163072-0000256256.tif...\n",
      "Copying gs://swhm-image-exports/Imperviousness/Imperviousness0000163072-0000279552.tif...\n",
      "Copying gs://swhm-image-exports/Imperviousness/Imperviousness0000163072-0000302848.tif...\n",
      "Copying gs://swhm-image-exports/Imperviousness/Imperviousness0000163072-0000326144.tif...\n",
      "Copying gs://swhm-image-exports/Imperviousness/Imperviousness0000163072-0000349440.tif...\n",
      "Copying gs://swhm-image-exports/Imperviousness/Imperviousness0000163072-0000372736.tif...\n",
      "Copying gs://swhm-image-exports/Imperviousness/Imperviousness0000163072-0000396032.tif...\n",
      "Copying gs://swhm-image-exports/Imperviousness/Imperviousness0000163072-0000419328.tif...\n",
      "Copying gs://swhm-image-exports/Imperviousness/Imperviousness0000163072-0000442624.tif...\n",
      "Copying gs://swhm-image-exports/Imperviousness/Imperviousness0000163072-0000465920.tif...\n",
      "Copying gs://swhm-image-exports/Imperviousness/Imperviousness0000186368-0000000000.tif...\n",
      "Copying gs://swhm-image-exports/Imperviousness/Imperviousness0000186368-0000023296.tif...\n",
      "Copying gs://swhm-image-exports/Imperviousness/Imperviousness0000186368-0000046592.tif...\n",
      "Copying gs://swhm-image-exports/Imperviousness/Imperviousness0000186368-0000069888.tif...\n",
      "Copying gs://swhm-image-exports/Imperviousness/Imperviousness0000186368-0000093184.tif...\n",
      "Copying gs://swhm-image-exports/Imperviousness/Imperviousness0000186368-0000116480.tif...\n",
      "Copying gs://swhm-image-exports/Imperviousness/Imperviousness0000186368-0000139776.tif...\n",
      "Copying gs://swhm-image-exports/Imperviousness/Imperviousness0000186368-0000163072.tif...\n",
      "Copying gs://swhm-image-exports/Imperviousness/Imperviousness0000186368-0000186368.tif...\n",
      "Copying gs://swhm-image-exports/Imperviousness/Imperviousness0000186368-0000209664.tif...\n",
      "Copying gs://swhm-image-exports/Imperviousness/Imperviousness0000186368-0000232960.tif...\n",
      "Copying gs://swhm-image-exports/Imperviousness/Imperviousness0000186368-0000256256.tif...\n",
      "Copying gs://swhm-image-exports/Imperviousness/Imperviousness0000186368-0000279552.tif...\n",
      "Copying gs://swhm-image-exports/Imperviousness/Imperviousness0000186368-0000302848.tif...\n",
      "Copying gs://swhm-image-exports/Imperviousness/Imperviousness0000186368-0000326144.tif...\n",
      "Copying gs://swhm-image-exports/Imperviousness/Imperviousness0000186368-0000349440.tif...\n",
      "Copying gs://swhm-image-exports/Imperviousness/Imperviousness0000186368-0000372736.tif...\n",
      "Copying gs://swhm-image-exports/Imperviousness/Imperviousness0000186368-0000396032.tif...\n",
      "Copying gs://swhm-image-exports/Imperviousness/Imperviousness0000186368-0000419328.tif...\n",
      "Copying gs://swhm-image-exports/Imperviousness/Imperviousness0000186368-0000442624.tif...\n",
      "Copying gs://swhm-image-exports/Imperviousness/Imperviousness0000186368-0000465920.tif...\n",
      "Copying gs://swhm-image-exports/Imperviousness/Imperviousness0000209664-0000000000.tif...\n",
      "Copying gs://swhm-image-exports/Imperviousness/Imperviousness0000209664-0000023296.tif...\n",
      "Copying gs://swhm-image-exports/Imperviousness/Imperviousness0000209664-0000046592.tif...\n",
      "Copying gs://swhm-image-exports/Imperviousness/Imperviousness0000209664-0000069888.tif...\n",
      "Copying gs://swhm-image-exports/Imperviousness/Imperviousness0000209664-0000093184.tif...\n",
      "Copying gs://swhm-image-exports/Imperviousness/Imperviousness0000209664-0000116480.tif...\n",
      "Copying gs://swhm-image-exports/Imperviousness/Imperviousness0000209664-0000139776.tif...\n",
      "Copying gs://swhm-image-exports/Imperviousness/Imperviousness0000209664-0000163072.tif...\n",
      "Copying gs://swhm-image-exports/Imperviousness/Imperviousness0000209664-0000186368.tif...\n",
      "Copying gs://swhm-image-exports/Imperviousness/Imperviousness0000209664-0000209664.tif...\n",
      "Copying gs://swhm-image-exports/Imperviousness/Imperviousness0000209664-0000232960.tif...\n",
      "Copying gs://swhm-image-exports/Imperviousness/Imperviousness0000209664-0000256256.tif...\n",
      "Copying gs://swhm-image-exports/Imperviousness/Imperviousness0000209664-0000279552.tif...\n",
      "Copying gs://swhm-image-exports/Imperviousness/Imperviousness0000209664-0000302848.tif...\n",
      "Copying gs://swhm-image-exports/Imperviousness/Imperviousness0000209664-0000326144.tif...\n",
      "Copying gs://swhm-image-exports/Imperviousness/Imperviousness0000209664-0000349440.tif...\n",
      "Copying gs://swhm-image-exports/Imperviousness/Imperviousness0000209664-0000372736.tif...\n",
      "Copying gs://swhm-image-exports/Imperviousness/Imperviousness0000209664-0000396032.tif...\n",
      "Copying gs://swhm-image-exports/Imperviousness/Imperviousness0000209664-0000419328.tif...\n",
      "Copying gs://swhm-image-exports/Imperviousness/Imperviousness0000209664-0000442624.tif...\n",
      "Copying gs://swhm-image-exports/Imperviousness/Imperviousness0000209664-0000465920.tif...\n",
      "Copying gs://swhm-image-exports/Imperviousness/Imperviousness0000232960-0000000000.tif...\n",
      "Copying gs://swhm-image-exports/Imperviousness/Imperviousness0000232960-0000023296.tif...\n",
      "Copying gs://swhm-image-exports/Imperviousness/Imperviousness0000232960-0000046592.tif...\n",
      "Copying gs://swhm-image-exports/Imperviousness/Imperviousness0000232960-0000069888.tif...\n",
      "Copying gs://swhm-image-exports/Imperviousness/Imperviousness0000232960-0000093184.tif...\n",
      "Copying gs://swhm-image-exports/Imperviousness/Imperviousness0000232960-0000116480.tif...\n",
      "Copying gs://swhm-image-exports/Imperviousness/Imperviousness0000232960-0000139776.tif...\n",
      "Copying gs://swhm-image-exports/Imperviousness/Imperviousness0000232960-0000163072.tif...\n",
      "Copying gs://swhm-image-exports/Imperviousness/Imperviousness0000232960-0000186368.tif...\n",
      "Copying gs://swhm-image-exports/Imperviousness/Imperviousness0000232960-0000209664.tif...\n",
      "Copying gs://swhm-image-exports/Imperviousness/Imperviousness0000232960-0000232960.tif...\n",
      "Copying gs://swhm-image-exports/Imperviousness/Imperviousness0000232960-0000256256.tif...\n",
      "Copying gs://swhm-image-exports/Imperviousness/Imperviousness0000232960-0000279552.tif...\n",
      "Copying gs://swhm-image-exports/Imperviousness/Imperviousness0000232960-0000302848.tif...\n",
      "Copying gs://swhm-image-exports/Imperviousness/Imperviousness0000232960-0000326144.tif...\n",
      "Copying gs://swhm-image-exports/Imperviousness/Imperviousness0000232960-0000349440.tif...\n",
      "Copying gs://swhm-image-exports/Imperviousness/Imperviousness0000232960-0000372736.tif...\n",
      "Copying gs://swhm-image-exports/Imperviousness/Imperviousness0000232960-0000396032.tif...\n",
      "Copying gs://swhm-image-exports/Imperviousness/Imperviousness0000232960-0000419328.tif...\n",
      "Copying gs://swhm-image-exports/Imperviousness/Imperviousness0000232960-0000442624.tif...\n",
      "Copying gs://swhm-image-exports/Imperviousness/Imperviousness0000232960-0000465920.tif...\n",
      "Copying gs://swhm-image-exports/Imperviousness/Imperviousness0000256256-0000000000.tif...\n",
      "Copying gs://swhm-image-exports/Imperviousness/Imperviousness0000256256-0000023296.tif...\n",
      "Copying gs://swhm-image-exports/Imperviousness/Imperviousness0000256256-0000046592.tif...\n",
      "Copying gs://swhm-image-exports/Imperviousness/Imperviousness0000256256-0000069888.tif...\n",
      "Copying gs://swhm-image-exports/Imperviousness/Imperviousness0000256256-0000093184.tif...\n",
      "Copying gs://swhm-image-exports/Imperviousness/Imperviousness0000256256-0000116480.tif...\n",
      "Copying gs://swhm-image-exports/Imperviousness/Imperviousness0000256256-0000139776.tif...\n",
      "Copying gs://swhm-image-exports/Imperviousness/Imperviousness0000256256-0000163072.tif...\n",
      "Copying gs://swhm-image-exports/Imperviousness/Imperviousness0000256256-0000186368.tif...\n",
      "Copying gs://swhm-image-exports/Imperviousness/Imperviousness0000256256-0000209664.tif...\n",
      "Copying gs://swhm-image-exports/Imperviousness/Imperviousness0000256256-0000232960.tif...\n",
      "Copying gs://swhm-image-exports/Imperviousness/Imperviousness0000256256-0000256256.tif...\n",
      "Copying gs://swhm-image-exports/Imperviousness/Imperviousness0000256256-0000279552.tif...\n",
      "Copying gs://swhm-image-exports/Imperviousness/Imperviousness0000256256-0000302848.tif...\n",
      "Copying gs://swhm-image-exports/Imperviousness/Imperviousness0000256256-0000326144.tif...\n",
      "Copying gs://swhm-image-exports/Imperviousness/Imperviousness0000256256-0000349440.tif...\n",
      "Copying gs://swhm-image-exports/Imperviousness/Imperviousness0000256256-0000372736.tif...\n",
      "Copying gs://swhm-image-exports/Imperviousness/Imperviousness0000256256-0000396032.tif...\n",
      "Copying gs://swhm-image-exports/Imperviousness/Imperviousness0000256256-0000419328.tif...\n",
      "Copying gs://swhm-image-exports/Imperviousness/Imperviousness0000256256-0000442624.tif...\n",
      "Copying gs://swhm-image-exports/Imperviousness/Imperviousness0000256256-0000465920.tif...\n",
      "Copying gs://swhm-image-exports/Imperviousness/Imperviousness0000279552-0000000000.tif...\n",
      "Copying gs://swhm-image-exports/Imperviousness/Imperviousness0000279552-0000023296.tif...\n",
      "Copying gs://swhm-image-exports/Imperviousness/Imperviousness0000279552-0000046592.tif...\n",
      "Copying gs://swhm-image-exports/Imperviousness/Imperviousness0000279552-0000069888.tif...\n",
      "Copying gs://swhm-image-exports/Imperviousness/Imperviousness0000279552-0000093184.tif...\n",
      "Copying gs://swhm-image-exports/Imperviousness/Imperviousness0000279552-0000116480.tif...\n",
      "Copying gs://swhm-image-exports/Imperviousness/Imperviousness0000279552-0000139776.tif...\n",
      "Copying gs://swhm-image-exports/Imperviousness/Imperviousness0000279552-0000163072.tif...\n",
      "Copying gs://swhm-image-exports/Imperviousness/Imperviousness0000279552-0000186368.tif...\n",
      "Copying gs://swhm-image-exports/Imperviousness/Imperviousness0000279552-0000209664.tif...\n",
      "Copying gs://swhm-image-exports/Imperviousness/Imperviousness0000279552-0000232960.tif...\n",
      "Copying gs://swhm-image-exports/Imperviousness/Imperviousness0000279552-0000256256.tif...\n",
      "Copying gs://swhm-image-exports/Imperviousness/Imperviousness0000279552-0000279552.tif...\n",
      "Copying gs://swhm-image-exports/Imperviousness/Imperviousness0000279552-0000302848.tif...\n",
      "Copying gs://swhm-image-exports/Imperviousness/Imperviousness0000279552-0000326144.tif...\n",
      "Copying gs://swhm-image-exports/Imperviousness/Imperviousness0000279552-0000349440.tif...\n",
      "Copying gs://swhm-image-exports/Imperviousness/Imperviousness0000279552-0000372736.tif...\n",
      "Copying gs://swhm-image-exports/Imperviousness/Imperviousness0000279552-0000396032.tif...\n",
      "Copying gs://swhm-image-exports/Imperviousness/Imperviousness0000279552-0000419328.tif...\n",
      "Copying gs://swhm-image-exports/Imperviousness/Imperviousness0000279552-0000442624.tif...\n",
      "Copying gs://swhm-image-exports/Imperviousness/Imperviousness0000279552-0000465920.tif...\n",
      "Copying gs://swhm-image-exports/Imperviousness/Imperviousness0000302848-0000000000.tif...\n",
      "Copying gs://swhm-image-exports/Imperviousness/Imperviousness0000302848-0000023296.tif...\n",
      "Copying gs://swhm-image-exports/Imperviousness/Imperviousness0000302848-0000046592.tif...\n",
      "Copying gs://swhm-image-exports/Imperviousness/Imperviousness0000302848-0000069888.tif...\n",
      "Copying gs://swhm-image-exports/Imperviousness/Imperviousness0000302848-0000093184.tif...\n",
      "Copying gs://swhm-image-exports/Imperviousness/Imperviousness0000302848-0000116480.tif...\n",
      "Copying gs://swhm-image-exports/Imperviousness/Imperviousness0000302848-0000139776.tif...\n",
      "Copying gs://swhm-image-exports/Imperviousness/Imperviousness0000302848-0000163072.tif...\n",
      "Copying gs://swhm-image-exports/Imperviousness/Imperviousness0000302848-0000186368.tif...\n",
      "Copying gs://swhm-image-exports/Imperviousness/Imperviousness0000302848-0000209664.tif...\n",
      "Copying gs://swhm-image-exports/Imperviousness/Imperviousness0000302848-0000232960.tif...\n",
      "Copying gs://swhm-image-exports/Imperviousness/Imperviousness0000302848-0000256256.tif...\n",
      "Copying gs://swhm-image-exports/Imperviousness/Imperviousness0000302848-0000279552.tif...\n",
      "Copying gs://swhm-image-exports/Imperviousness/Imperviousness0000302848-0000302848.tif...\n",
      "Copying gs://swhm-image-exports/Imperviousness/Imperviousness0000302848-0000326144.tif...\n",
      "Copying gs://swhm-image-exports/Imperviousness/Imperviousness0000302848-0000349440.tif...\n",
      "Copying gs://swhm-image-exports/Imperviousness/Imperviousness0000302848-0000372736.tif...\n",
      "Copying gs://swhm-image-exports/Imperviousness/Imperviousness0000302848-0000396032.tif...\n",
      "Copying gs://swhm-image-exports/Imperviousness/Imperviousness0000302848-0000419328.tif...\n",
      "Copying gs://swhm-image-exports/Imperviousness/Imperviousness0000302848-0000442624.tif...\n",
      "Copying gs://swhm-image-exports/Imperviousness/Imperviousness0000302848-0000465920.tif...\n",
      "Copying gs://swhm-image-exports/Imperviousness/Imperviousness0000326144-0000000000.tif...\n",
      "Copying gs://swhm-image-exports/Imperviousness/Imperviousness0000326144-0000023296.tif...\n",
      "Copying gs://swhm-image-exports/Imperviousness/Imperviousness0000326144-0000046592.tif...\n",
      "Copying gs://swhm-image-exports/Imperviousness/Imperviousness0000326144-0000069888.tif...\n",
      "Copying gs://swhm-image-exports/Imperviousness/Imperviousness0000326144-0000093184.tif...\n",
      "Copying gs://swhm-image-exports/Imperviousness/Imperviousness0000326144-0000116480.tif...\n",
      "Copying gs://swhm-image-exports/Imperviousness/Imperviousness0000326144-0000139776.tif...\n",
      "Copying gs://swhm-image-exports/Imperviousness/Imperviousness0000326144-0000163072.tif...\n",
      "Copying gs://swhm-image-exports/Imperviousness/Imperviousness0000326144-0000186368.tif...\n",
      "Copying gs://swhm-image-exports/Imperviousness/Imperviousness0000326144-0000209664.tif...\n",
      "Copying gs://swhm-image-exports/Imperviousness/Imperviousness0000326144-0000232960.tif...\n",
      "Copying gs://swhm-image-exports/Imperviousness/Imperviousness0000326144-0000256256.tif...\n",
      "Copying gs://swhm-image-exports/Imperviousness/Imperviousness0000326144-0000279552.tif...\n",
      "Copying gs://swhm-image-exports/Imperviousness/Imperviousness0000326144-0000302848.tif...\n",
      "Copying gs://swhm-image-exports/Imperviousness/Imperviousness0000326144-0000326144.tif...\n",
      "Copying gs://swhm-image-exports/Imperviousness/Imperviousness0000326144-0000349440.tif...\n",
      "Copying gs://swhm-image-exports/Imperviousness/Imperviousness0000326144-0000372736.tif...\n",
      "Copying gs://swhm-image-exports/Imperviousness/Imperviousness0000326144-0000396032.tif...\n",
      "Copying gs://swhm-image-exports/Imperviousness/Imperviousness0000326144-0000419328.tif...\n",
      "Copying gs://swhm-image-exports/Imperviousness/Imperviousness0000326144-0000442624.tif...\n",
      "Copying gs://swhm-image-exports/Imperviousness/Imperviousness0000326144-0000465920.tif...\n",
      "Copying gs://swhm-image-exports/Imperviousness/Imperviousness0000349440-0000000000.tif...\n",
      "Copying gs://swhm-image-exports/Imperviousness/Imperviousness0000349440-0000023296.tif...\n",
      "Copying gs://swhm-image-exports/Imperviousness/Imperviousness0000349440-0000046592.tif...\n",
      "Copying gs://swhm-image-exports/Imperviousness/Imperviousness0000349440-0000069888.tif...\n",
      "Copying gs://swhm-image-exports/Imperviousness/Imperviousness0000349440-0000093184.tif...\n",
      "Copying gs://swhm-image-exports/Imperviousness/Imperviousness0000349440-0000116480.tif...\n",
      "Copying gs://swhm-image-exports/Imperviousness/Imperviousness0000349440-0000139776.tif...\n",
      "Copying gs://swhm-image-exports/Imperviousness/Imperviousness0000349440-0000163072.tif...\n",
      "Copying gs://swhm-image-exports/Imperviousness/Imperviousness0000349440-0000186368.tif...\n",
      "Copying gs://swhm-image-exports/Imperviousness/Imperviousness0000349440-0000209664.tif...\n",
      "Copying gs://swhm-image-exports/Imperviousness/Imperviousness0000349440-0000232960.tif...\n",
      "Copying gs://swhm-image-exports/Imperviousness/Imperviousness0000349440-0000256256.tif...\n",
      "Copying gs://swhm-image-exports/Imperviousness/Imperviousness0000349440-0000279552.tif...\n",
      "Copying gs://swhm-image-exports/Imperviousness/Imperviousness0000349440-0000302848.tif...\n",
      "Copying gs://swhm-image-exports/Imperviousness/Imperviousness0000349440-0000326144.tif...\n",
      "Copying gs://swhm-image-exports/Imperviousness/Imperviousness0000349440-0000349440.tif...\n",
      "Copying gs://swhm-image-exports/Imperviousness/Imperviousness0000349440-0000372736.tif...\n",
      "Copying gs://swhm-image-exports/Imperviousness/Imperviousness0000349440-0000396032.tif...\n",
      "Copying gs://swhm-image-exports/Imperviousness/Imperviousness0000349440-0000419328.tif...\n",
      "Copying gs://swhm-image-exports/Imperviousness/Imperviousness0000349440-0000442624.tif...\n",
      "Copying gs://swhm-image-exports/Imperviousness/Imperviousness0000349440-0000465920.tif...\n",
      "Copying gs://swhm-image-exports/Imperviousness/Imperviousness0000372736-0000000000.tif...\n",
      "Copying gs://swhm-image-exports/Imperviousness/Imperviousness0000372736-0000023296.tif...\n",
      "Copying gs://swhm-image-exports/Imperviousness/Imperviousness0000372736-0000046592.tif...\n",
      "Copying gs://swhm-image-exports/Imperviousness/Imperviousness0000372736-0000069888.tif...\n",
      "Copying gs://swhm-image-exports/Imperviousness/Imperviousness0000372736-0000093184.tif...\n",
      "Copying gs://swhm-image-exports/Imperviousness/Imperviousness0000372736-0000116480.tif...\n",
      "Copying gs://swhm-image-exports/Imperviousness/Imperviousness0000372736-0000139776.tif...\n",
      "Copying gs://swhm-image-exports/Imperviousness/Imperviousness0000372736-0000163072.tif...\n",
      "Copying gs://swhm-image-exports/Imperviousness/Imperviousness0000372736-0000186368.tif...\n",
      "Copying gs://swhm-image-exports/Imperviousness/Imperviousness0000372736-0000209664.tif...\n",
      "Copying gs://swhm-image-exports/Imperviousness/Imperviousness0000372736-0000232960.tif...\n",
      "Copying gs://swhm-image-exports/Imperviousness/Imperviousness0000372736-0000256256.tif...\n",
      "Copying gs://swhm-image-exports/Imperviousness/Imperviousness0000372736-0000279552.tif...\n",
      "Copying gs://swhm-image-exports/Imperviousness/Imperviousness0000372736-0000302848.tif...\n",
      "Copying gs://swhm-image-exports/Imperviousness/Imperviousness0000372736-0000326144.tif...\n",
      "Copying gs://swhm-image-exports/Imperviousness/Imperviousness0000372736-0000349440.tif...\n",
      "Copying gs://swhm-image-exports/Imperviousness/Imperviousness0000372736-0000372736.tif...\n",
      "Copying gs://swhm-image-exports/Imperviousness/Imperviousness0000372736-0000396032.tif...\n",
      "Copying gs://swhm-image-exports/Imperviousness/Imperviousness0000372736-0000419328.tif...\n",
      "Copying gs://swhm-image-exports/Imperviousness/Imperviousness0000372736-0000442624.tif...\n",
      "Copying gs://swhm-image-exports/Imperviousness/Imperviousness0000372736-0000465920.tif...\n",
      "Copying gs://swhm-image-exports/Imperviousness/Imperviousness0000396032-0000000000.tif...\n",
      "Copying gs://swhm-image-exports/Imperviousness/Imperviousness0000396032-0000023296.tif...\n",
      "Copying gs://swhm-image-exports/Imperviousness/Imperviousness0000396032-0000046592.tif...\n",
      "Copying gs://swhm-image-exports/Imperviousness/Imperviousness0000396032-0000069888.tif...\n",
      "Copying gs://swhm-image-exports/Imperviousness/Imperviousness0000396032-0000093184.tif...\n",
      "Copying gs://swhm-image-exports/Imperviousness/Imperviousness0000396032-0000116480.tif...\n",
      "Copying gs://swhm-image-exports/Imperviousness/Imperviousness0000396032-0000139776.tif...\n",
      "Copying gs://swhm-image-exports/Imperviousness/Imperviousness0000396032-0000163072.tif...\n",
      "Copying gs://swhm-image-exports/Imperviousness/Imperviousness0000396032-0000186368.tif...\n",
      "Copying gs://swhm-image-exports/Imperviousness/Imperviousness0000396032-0000209664.tif...\n",
      "Copying gs://swhm-image-exports/Imperviousness/Imperviousness0000396032-0000232960.tif...\n",
      "Copying gs://swhm-image-exports/Imperviousness/Imperviousness0000396032-0000256256.tif...\n",
      "Copying gs://swhm-image-exports/Imperviousness/Imperviousness0000396032-0000279552.tif...\n",
      "Copying gs://swhm-image-exports/Imperviousness/Imperviousness0000396032-0000302848.tif...\n",
      "Copying gs://swhm-image-exports/Imperviousness/Imperviousness0000396032-0000326144.tif...\n",
      "Copying gs://swhm-image-exports/Imperviousness/Imperviousness0000396032-0000349440.tif...\n",
      "Copying gs://swhm-image-exports/Imperviousness/Imperviousness0000396032-0000372736.tif...\n",
      "Copying gs://swhm-image-exports/Imperviousness/Imperviousness0000396032-0000396032.tif...\n",
      "Copying gs://swhm-image-exports/Imperviousness/Imperviousness0000396032-0000419328.tif...\n",
      "Copying gs://swhm-image-exports/Imperviousness/Imperviousness0000396032-0000442624.tif...\n",
      "Copying gs://swhm-image-exports/Imperviousness/Imperviousness0000396032-0000465920.tif...\n",
      "Copying gs://swhm-image-exports/Imperviousness/Imperviousness0000419328-0000000000.tif...\n",
      "Copying gs://swhm-image-exports/Imperviousness/Imperviousness0000419328-0000023296.tif...\n",
      "Copying gs://swhm-image-exports/Imperviousness/Imperviousness0000419328-0000046592.tif...\n",
      "Copying gs://swhm-image-exports/Imperviousness/Imperviousness0000419328-0000069888.tif...\n",
      "Copying gs://swhm-image-exports/Imperviousness/Imperviousness0000419328-0000093184.tif...\n",
      "Copying gs://swhm-image-exports/Imperviousness/Imperviousness0000419328-0000116480.tif...\n",
      "Copying gs://swhm-image-exports/Imperviousness/Imperviousness0000419328-0000139776.tif...\n",
      "Copying gs://swhm-image-exports/Imperviousness/Imperviousness0000419328-0000163072.tif...\n",
      "Copying gs://swhm-image-exports/Imperviousness/Imperviousness0000419328-0000186368.tif...\n",
      "Copying gs://swhm-image-exports/Imperviousness/Imperviousness0000419328-0000209664.tif...\n",
      "Copying gs://swhm-image-exports/Imperviousness/Imperviousness0000419328-0000232960.tif...\n",
      "Copying gs://swhm-image-exports/Imperviousness/Imperviousness0000419328-0000256256.tif...\n",
      "Copying gs://swhm-image-exports/Imperviousness/Imperviousness0000419328-0000279552.tif...\n",
      "Copying gs://swhm-image-exports/Imperviousness/Imperviousness0000419328-0000302848.tif...\n",
      "Copying gs://swhm-image-exports/Imperviousness/Imperviousness0000419328-0000326144.tif...\n",
      "Copying gs://swhm-image-exports/Imperviousness/Imperviousness0000419328-0000349440.tif...\n",
      "Copying gs://swhm-image-exports/Imperviousness/Imperviousness0000419328-0000372736.tif...\n",
      "Copying gs://swhm-image-exports/Imperviousness/Imperviousness0000419328-0000396032.tif...\n",
      "Copying gs://swhm-image-exports/Imperviousness/Imperviousness0000419328-0000419328.tif...\n",
      "Copying gs://swhm-image-exports/Imperviousness/Imperviousness0000419328-0000442624.tif...\n",
      "Copying gs://swhm-image-exports/Imperviousness/Imperviousness0000419328-0000465920.tif...\n",
      "Copying gs://swhm-image-exports/Imperviousness/Imperviousness0000442624-0000000000.tif...\n",
      "Copying gs://swhm-image-exports/Imperviousness/Imperviousness0000442624-0000023296.tif...\n",
      "Copying gs://swhm-image-exports/Imperviousness/Imperviousness0000442624-0000046592.tif...\n",
      "Copying gs://swhm-image-exports/Imperviousness/Imperviousness0000442624-0000069888.tif...\n",
      "Copying gs://swhm-image-exports/Imperviousness/Imperviousness0000442624-0000093184.tif...\n",
      "Copying gs://swhm-image-exports/Imperviousness/Imperviousness0000442624-0000116480.tif...\n",
      "Copying gs://swhm-image-exports/Imperviousness/Imperviousness0000442624-0000139776.tif...\n",
      "Copying gs://swhm-image-exports/Imperviousness/Imperviousness0000442624-0000163072.tif...\n",
      "Copying gs://swhm-image-exports/Imperviousness/Imperviousness0000442624-0000186368.tif...\n",
      "Copying gs://swhm-image-exports/Imperviousness/Imperviousness0000442624-0000209664.tif...\n",
      "Copying gs://swhm-image-exports/Imperviousness/Imperviousness0000442624-0000232960.tif...\n",
      "Copying gs://swhm-image-exports/Imperviousness/Imperviousness0000442624-0000256256.tif...\n",
      "Copying gs://swhm-image-exports/Imperviousness/Imperviousness0000442624-0000279552.tif...\n",
      "Copying gs://swhm-image-exports/Imperviousness/Imperviousness0000442624-0000302848.tif...\n",
      "Copying gs://swhm-image-exports/Imperviousness/Imperviousness0000442624-0000326144.tif...\n",
      "Copying gs://swhm-image-exports/Imperviousness/Imperviousness0000442624-0000349440.tif...\n",
      "Copying gs://swhm-image-exports/Imperviousness/Imperviousness0000442624-0000372736.tif...\n",
      "Copying gs://swhm-image-exports/Imperviousness/Imperviousness0000442624-0000396032.tif...\n",
      "Copying gs://swhm-image-exports/Imperviousness/Imperviousness0000442624-0000419328.tif...\n",
      "Copying gs://swhm-image-exports/Imperviousness/Imperviousness0000442624-0000442624.tif...\n",
      "Copying gs://swhm-image-exports/Imperviousness/Imperviousness0000442624-0000465920.tif...\n",
      "| [420/420 files][ 11.4 GiB/ 11.4 GiB] 100% Done  10.5 MiB/s ETA 00:00:00       \n",
      "Operation completed over 420 objects/11.4 GiB.                                   \n",
      "Making VRT...\n",
      "0...10...20...30...40...50...60...70...80...90...100 - done.\n",
      "VRT Complete!\n",
      "saving as tmp.tif\n",
      "Input file size is 472843, 452305\n",
      "0...10...20...30...40...50...60...70...80...90...100 - done.\n",
      "rebuilding overviews using average sampling\n",
      "ERROR 4: tmp.tif: No such file or directory\n",
      "translating tmp.tif to cog raster\n",
      "Reading input: /Users/christiannilsen/Documents/repos/data_pipelines/ipynb/Imperviousness_cog.tif\n",
      "\u001b[?25l  [####################################]  100%          \u001b[?25h\n",
      "Adding overviews...\n",
      "Updating dataset tags...\n",
      "Writing output to: /Users/christiannilsen/Documents/repos/data_pipelines/ipynb/rio_Imperviousness_cog.tif\n",
      "❌ The following warnings were found:\n",
      "- The file is greater than 512xH or 512xW, it is recommended to include internal overviews\n",
      "\n",
      "\n"
     ]
    }
   ],
   "source": [
    "run_pipeline(\"Imperviousness\")"
   ]
  },
  {
   "cell_type": "code",
   "execution_count": 28,
   "metadata": {
    "tags": []
   },
   "outputs": [
    {
     "name": "stdout",
     "output_type": "stream",
     "text": [
      "\u001b[1mDriver:\u001b[0m GTiff\n",
      "\u001b[1mFile:\u001b[0m /Users/christiannilsen/Documents/repos/data_pipelines/ipynb/rio_Imperviousness_cog.tif\n",
      "\u001b[1mCOG:\u001b[0m True\n",
      "\u001b[1mCompression:\u001b[0m LZW\n",
      "\u001b[1mColorSpace:\u001b[0m None\n",
      "\n",
      "\u001b[1mProfile\u001b[0m\n",
      "    \u001b[1mWidth:\u001b[0m            396288\n",
      "    \u001b[1mHeight:\u001b[0m           378880\n",
      "    \u001b[1mBands:\u001b[0m            1\n",
      "    \u001b[1mTiled:\u001b[0m            True\n",
      "    \u001b[1mDtype:\u001b[0m            float64\n",
      "    \u001b[1mNoData:\u001b[0m           None\n",
      "    \u001b[1mAlpha Band:\u001b[0m       False\n",
      "    \u001b[1mInternal Mask:\u001b[0m    False\n",
      "    \u001b[1mInterleave:\u001b[0m       BAND\n",
      "    \u001b[1mColorMap:\u001b[0m         False\n",
      "    \u001b[1mColorInterp:\u001b[0m      ('gray',)\n",
      "    \u001b[1mScales:\u001b[0m           (1.0,)\n",
      "    \u001b[1mOffsets:\u001b[0m          (0.0,)\n",
      "\n",
      "\u001b[1mGeo\u001b[0m\n",
      "    \u001b[1mCrs:\u001b[0m              EPSG:3857\n",
      "    \u001b[1mOrigin:\u001b[0m           (-13904201.1931867, 6328374.445786312)\n",
      "    \u001b[1mResolution:\u001b[0m       (1.194328566955879, -1.194328566955879)\n",
      "    \u001b[1mBoundingBox:\u001b[0m      (-13904201.1931867, 5875867.238338069, -13430903.11404489, 6328374.445786312)\n",
      "    \u001b[1mMinZoom:\u001b[0m          6\n",
      "    \u001b[1mMaxZoom:\u001b[0m          17\n",
      "\n",
      "\u001b[1mImage Metadata\u001b[0m\n",
      "    \u001b[1m\u001b[4mAREA_OR_POINT\u001b[0m: Area\n",
      "    \u001b[1m\u001b[4mOVR_RESAMPLING_ALG\u001b[0m: NEAREST\n",
      "\n",
      "\u001b[1mImage Structure\u001b[0m\n",
      "    \u001b[1m\u001b[4mCOMPRESSION\u001b[0m: LZW\n",
      "    \u001b[1m\u001b[4mINTERLEAVE\u001b[0m: BAND\n",
      "    \u001b[1m\u001b[4mLAYOUT\u001b[0m: COG\n",
      "\n",
      "\u001b[1mTiling Scheme\u001b[0m\n",
      "    \u001b[1m\u001b[4mNAME\u001b[0m: WEBMERCATORQUAD\n",
      "    \u001b[1m\u001b[4mZOOM_LEVEL\u001b[0m: 17\n",
      "\n",
      "\u001b[1mBand 1\u001b[0m\n",
      "    \u001b[1m\u001b[4mColorInterp\u001b[0m: gray\n",
      "\n",
      "\u001b[1mIFD\u001b[0m\n",
      "    \u001b[1m\u001b[4mId\u001b[0m      \u001b[1m\u001b[4mSize\u001b[0m           \u001b[1m\u001b[4mBlockSize\u001b[0m     \u001b[1m\u001b[4mDecimation\u001b[0m           \n",
      "    0       396288x378880  512x512       0\n",
      "    1       198144x189440  512x512       2\n",
      "    2       99072x94720    512x512       4\n",
      "    3       49536x47360    512x512       8\n",
      "    4       24768x23680    512x512       16\n",
      "    5       12384x11840    512x512       32\n",
      "    6       6192x5920      512x512       64\n",
      "    7       3096x2960      512x512       128\n",
      "    8       1548x1480      512x512       256\n",
      "    9       774x740        512x512       512\n",
      "    10      387x370        512x512       1024\n"
     ]
    }
   ],
   "source": [
    "rio_info_cmd = f\"rio cogeo info rio_{lay_name}_cog.tif\"\n",
    "!{rio_info_cmd}"
   ]
  },
  {
   "cell_type": "code",
   "execution_count": null,
   "metadata": {
    "tags": []
   },
   "outputs": [],
   "source": []
  },
  {
   "cell_type": "code",
   "execution_count": null,
   "metadata": {
    "tags": []
   },
   "outputs": [],
   "source": [
    "# #check projection \n",
    "# p = subprocess.run([\"rio\", \"info\", \"output.vrt\"], capture_output=True, text=True)\n",
    "# raster_info = json.loads(p.stdout)\n",
    "# raster_info"
   ]
  },
  {
   "cell_type": "code",
   "execution_count": null,
   "metadata": {
    "tags": []
   },
   "outputs": [],
   "source": [
    "# warp_cmd = 'gdalwarp -t_srs EPSG:3857 -overwrite output.vrt tmp.tif \\\n",
    "# -co TILED=YES -co COMPRESS=LZW -co BIGTIFF=YES \\\n",
    "# -ot Float32 \\\n",
    "# --config CHECK_DISK_FREE_SPACE FALSE'\n",
    "# !{warp_cmd}"
   ]
  },
  {
   "cell_type": "code",
   "execution_count": 1,
   "metadata": {
    "tags": []
   },
   "outputs": [
    {
     "name": "stdout",
     "output_type": "stream",
     "text": [
      "gsutil cp rio_Imperviousness_cog.tif gs://live_data_layers/rasters/Imperviousness.tif\n"
     ]
    }
   ],
   "source": [
    "# #file_name = f'rio_{lay_name}.tif'\n",
    "lay_name = \"Imperviousness\"\n",
    "file_name = f'rio_{lay_name}_cog.tif'\n",
    "cmd = f'gsutil cp {file_name} gs://live_data_layers/rasters/{lay_name}.tif'\n",
    "print(cmd)\n",
    "#!{cmd}"
   ]
  },
  {
   "cell_type": "code",
   "execution_count": 46,
   "metadata": {},
   "outputs": [
    {
     "name": "stdout",
     "output_type": "stream",
     "text": [
      "Started upload task with ID: YLI34QN4DBMD4V5UNJENFJJ6\n"
     ]
    }
   ],
   "source": [
    "\n",
    "ee_cmd = f\"earthengine upload image --asset_id=projects/ee-swhm/assets/production_layers/{lay_name} \\\n",
    "gs://live_data_layers/rasters/{lay_name}.tif\" \n",
    "\n",
    "!{ee_cmd}\n"
   ]
  }
 ],
 "metadata": {
  "kernelspec": {
   "display_name": "Python 3 (ipykernel)",
   "language": "python",
   "name": "python3"
  },
  "language_info": {
   "codemirror_mode": {
    "name": "ipython",
    "version": 3
   },
   "file_extension": ".py",
   "mimetype": "text/x-python",
   "name": "python",
   "nbconvert_exporter": "python",
   "pygments_lexer": "ipython3",
   "version": "3.9.16"
  },
  "toc-autonumbering": false,
  "toc-showcode": false,
  "vscode": {
   "interpreter": {
    "hash": "3d597f4c481aa0f25dceb95d2a0067e73c0966dcbd003d741d821a7208527ecf"
   }
  }
 },
 "nbformat": 4,
 "nbformat_minor": 4
}
