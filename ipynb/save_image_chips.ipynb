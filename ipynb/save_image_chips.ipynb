{
 "cells": [
  {
   "cell_type": "code",
   "execution_count": 1,
   "id": "1f4ee913-47a8-4c11-964a-192cc4e3e159",
   "metadata": {},
   "outputs": [],
   "source": [
    "import ee\n",
    "import logging\n",
    "import multiprocessing\n",
    "import requests\n",
    "import shutil\n",
    "from retry import retry"
   ]
  },
  {
   "cell_type": "code",
   "execution_count": 2,
   "id": "51eae853-3e16-4f8b-8d43-f1dcdd7c4231",
   "metadata": {},
   "outputs": [],
   "source": [
    "\"\"\"\n",
    "This tool demonstrates extracting data from Earth Engine using parallel\n",
    "request and getThumbURL.\n",
    "\"\"\"\n",
    "\n",
    "ee.Initialize(opt_url='https://earthengine-highvolume.googleapis.com')"
   ]
  },
  {
   "cell_type": "code",
   "execution_count": 3,
   "id": "2355ed8c-5d88-4c85-ac72-8d960b1f2c76",
   "metadata": {},
   "outputs": [],
   "source": [
    "def getRequests():\n",
    "  \"\"\"Generates a list of work items to be downloaded.\n",
    "\n",
    "  Produces 1000 random points in each of the RESOLVE ecoregions in the ROI.\n",
    "  \"\"\"\n",
    "  # Get our ROI from the GAUL regions\n",
    "  gaul = ee.FeatureCollection('FAO/GAUL/2015/level1')\n",
    "  roi = gaul.filter('ADM1_NAME == \"Colorado\"').first().geometry()\n",
    "\n",
    "  # To stratify by RESOLVE ecoregion, paint the ECO_IDs into an image.\n",
    "  resolve = ee.FeatureCollection('RESOLVE/ECOREGIONS/2017')\n",
    "  ecoregions = (resolve.reduceToImage(['ECO_ID'], ee.Reducer.first())\n",
    "                .clip(roi).rename('ECO_ID'))\n",
    "  points = ecoregions.stratifiedSample(\n",
    "      numPoints=10,\n",
    "      classBand='ECO_ID',\n",
    "      region=roi,\n",
    "      scale=100,\n",
    "      geometries=True)\n",
    "\n",
    "  return points.aggregate_array('.geo').getInfo()\n",
    "\n",
    "\n",
    "@retry(tries=10, delay=1, backoff=2)\n",
    "def getResult(index, point):\n",
    "  \"\"\"Handle the HTTP requests to download an image.\"\"\"\n",
    "\n",
    "  # Generate the desired image from the given point.\n",
    "  point = ee.Geometry.Point(point['coordinates'])\n",
    "  region = point.buffer(127).bounds()\n",
    "  image = (ee.ImageCollection('USDA/NAIP/DOQQ')\n",
    "           .filterBounds(region)\n",
    "           .filterDate('2019', '2020')\n",
    "           .mosaic()\n",
    "           .clip(region)\n",
    "           .select('R', 'G', 'B'))\n",
    "\n",
    "  # Fetch the URL from which to download the image.\n",
    "  url = image.getThumbURL({\n",
    "      'region': region,\n",
    "      'dimensions': '256x256',\n",
    "      'format': 'png'})\n",
    "\n",
    "  # Handle downloading the actual pixels.\n",
    "  r = requests.get(url, stream=True)\n",
    "  if r.status_code != 200:\n",
    "    r.raise_for_status()\n",
    "\n",
    "  filename = 'tile_%05d.png' % index\n",
    "  with open(filename, 'wb') as out_file:\n",
    "    shutil.copyfileobj(r.raw, out_file)\n",
    "  print(\"Done: \", index)"
   ]
  },
  {
   "cell_type": "code",
   "execution_count": null,
   "id": "455da5a6-928f-42d6-8d96-0142fb3767fb",
   "metadata": {},
   "outputs": [],
   "source": [
    "if __name__ == '__main__':\n",
    "  logging.basicConfig()\n",
    "  items = getRequests()\n",
    "\n",
    "  pool = multiprocessing.Pool(25)\n",
    "  pool.starmap(getResult, enumerate(items))\n",
    "\n",
    "  pool.close()"
   ]
  },
  {
   "cell_type": "code",
   "execution_count": null,
   "id": "0a2335b1-cd0e-41da-8ccd-403804013f9c",
   "metadata": {},
   "outputs": [],
   "source": [
    "getRequests()"
   ]
  },
  {
   "cell_type": "code",
   "execution_count": null,
   "id": "a8bcae63-0957-4352-99bc-cb9481f7c8a8",
   "metadata": {},
   "outputs": [],
   "source": []
  }
 ],
 "metadata": {
  "kernelspec": {
   "display_name": "Python 3.8 (XPython Raw)",
   "language": "python",
   "name": "xpython-raw"
  },
  "language_info": {
   "file_extension": ".py",
   "mimetype": "text/x-python",
   "name": "python",
   "version": "3.8.13"
  }
 },
 "nbformat": 4,
 "nbformat_minor": 5
}
