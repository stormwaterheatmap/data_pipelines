{
 "cells": [
  {
   "cell_type": "code",
   "execution_count": 1,
   "metadata": {},
   "outputs": [],
   "source": [
    "import pandas as pd\n",
    "from google.cloud import storage\n",
    "import os\n",
    "import json\n",
    "import subprocess"
   ]
  },
  {
   "cell_type": "markdown",
   "metadata": {
    "id": "fmxat3ujhwGx"
   },
   "source": [
    "## Start an authorized session\n",
    "\n",
    "To be able to make an Earth Engine asset in your user folder, you need to be able to authenticate as yourself when you make the request.  You can use credentials from the Earth Engine authenticator to start an [`AuthorizedSession`](https://google-auth.readthedocs.io/en/master/reference/google.auth.transport.requests.html#google.auth.transport.requests.AuthorizedSession).  You can then use the `AuthorizedSession` to send requests to Earth Engine."
   ]
  },
  {
   "cell_type": "code",
   "execution_count": 6,
   "metadata": {
    "id": "qVu8GhINwYfO"
   },
   "outputs": [
    {
     "name": "stdout",
     "output_type": "stream",
     "text": [
      "Fetching credentials using gcloud\n",
      "Your browser has been opened to visit:\n",
      "\n",
      "    https://accounts.google.com/o/oauth2/auth?response_type=code&client_id=517222506229-vsmmajv00ul0bs7p89v5m89qs8eb9359.apps.googleusercontent.com&redirect_uri=http%3A%2F%2Flocalhost%3A8085%2F&scope=https%3A%2F%2Fwww.googleapis.com%2Fauth%2Fearthengine+https%3A%2F%2Fwww.googleapis.com%2Fauth%2Fdevstorage.full_control+https%3A%2F%2Fwww.googleapis.com%2Fauth%2Faccounts.reauth&state=ef1M85VypRC5oMsOIK6WuoDl4iuLfp&access_type=offline&code_challenge=02sZVedpM8Jg7p4cGhxi2KCVQa1eYRac3CLxNTZJDpg&code_challenge_method=S256\n",
      "\n",
      "\n",
      "Credentials saved to file: [/Users/christiannilsen/.config/gcloud/application_default_credentials.json]\n",
      "\n",
      "These credentials will be used by any library that requests Application Default Credentials (ADC).\n",
      "\n",
      "Successfully saved authorization token.\n"
     ]
    }
   ],
   "source": [
    "import ee\n",
    "from google.auth.transport.requests import AuthorizedSession\n",
    "!{'earthengine authenticate'}\n",
    "#ee.Authenticate()  #  or !earthengine authenticate --auth_mode=gcloud\n",
    "session = AuthorizedSession(ee.data.get_persistent_credentials())"
   ]
  },
  {
   "cell_type": "markdown",
   "metadata": {},
   "source": [
    "## Get image information from gcp\n",
    "Get list of images and their respective uris from the gcp data bucket\n"
   ]
  },
  {
   "cell_type": "code",
   "execution_count": 7,
   "metadata": {},
   "outputs": [],
   "source": [
    "def list_blobs_with_prefix(bucket_name, prefix, file_extension='.tif', delimiter=None):\n",
    "    \n",
    "\n",
    "    storage_client = storage.Client(project='swhm-prod')\n",
    "\n",
    "    # Note: Client.list_blobs requires at least package version 1.17.0.\n",
    "    blobs = storage_client.list_blobs(bucket_name, prefix=prefix, delimiter=delimiter)\n",
    "\n",
    "    # Note: The call returns a response only when the iterator is consumed.\n",
    "    blob_list = []\n",
    "    for blob in blobs:\n",
    "        if blob.name.endswith(file_extension):\n",
    "            blob_list.append(blob.name)\n",
    "\n",
    "    if delimiter:\n",
    "        print(\"Prefixes:\")\n",
    "        for prefix in blobs.prefixes:\n",
    "            blob_list.append([prefix])\n",
    "    \n",
    "    return blob_list\n"
   ]
  },
  {
   "cell_type": "code",
   "execution_count": 8,
   "metadata": {},
   "outputs": [],
   "source": [
    "BUCKET_NAME = 'live_data_layers'\n",
    "blobsout = list_blobs_with_prefix(BUCKET_NAME,'raster','.tif')"
   ]
  },
  {
   "cell_type": "code",
   "execution_count": 9,
   "metadata": {
    "scrolled": true
   },
   "outputs": [
    {
     "data": {
      "text/html": [
       "<div>\n",
       "<style scoped>\n",
       "    .dataframe tbody tr th:only-of-type {\n",
       "        vertical-align: middle;\n",
       "    }\n",
       "\n",
       "    .dataframe tbody tr th {\n",
       "        vertical-align: top;\n",
       "    }\n",
       "\n",
       "    .dataframe thead th {\n",
       "        text-align: right;\n",
       "    }\n",
       "</style>\n",
       "<table border=\"1\" class=\"dataframe\">\n",
       "  <thead>\n",
       "    <tr style=\"text-align: right;\">\n",
       "      <th></th>\n",
       "      <th>blob_name</th>\n",
       "      <th>uri</th>\n",
       "    </tr>\n",
       "  </thead>\n",
       "  <tbody>\n",
       "    <tr>\n",
       "      <th>0</th>\n",
       "      <td>rasters/Age_of_Imperviousness.tif</td>\n",
       "      <td>gs://live_data_layers/rasters/Age_of_Imperviou...</td>\n",
       "    </tr>\n",
       "    <tr>\n",
       "      <th>1</th>\n",
       "      <td>rasters/Flow_Duration_Index.tif</td>\n",
       "      <td>gs://live_data_layers/rasters/Flow_Duration_In...</td>\n",
       "    </tr>\n",
       "    <tr>\n",
       "      <th>2</th>\n",
       "      <td>rasters/HSPF_Land_Cover_Type.tif</td>\n",
       "      <td>gs://live_data_layers/rasters/HSPF_Land_Cover_...</td>\n",
       "    </tr>\n",
       "    <tr>\n",
       "      <th>3</th>\n",
       "      <td>rasters/Hydrologic_Response_Units.tif</td>\n",
       "      <td>gs://live_data_layers/rasters/Hydrologic_Respo...</td>\n",
       "    </tr>\n",
       "    <tr>\n",
       "      <th>4</th>\n",
       "      <td>rasters/Imperviousness.tif</td>\n",
       "      <td>gs://live_data_layers/rasters/Imperviousness.tif</td>\n",
       "    </tr>\n",
       "    <tr>\n",
       "      <th>5</th>\n",
       "      <td>rasters/Land_Cover.tif</td>\n",
       "      <td>gs://live_data_layers/rasters/Land_Cover.tif</td>\n",
       "    </tr>\n",
       "    <tr>\n",
       "      <th>6</th>\n",
       "      <td>rasters/Land_Use.tif</td>\n",
       "      <td>gs://live_data_layers/rasters/Land_Use.tif</td>\n",
       "    </tr>\n",
       "    <tr>\n",
       "      <th>7</th>\n",
       "      <td>rasters/Population_Density.tif</td>\n",
       "      <td>gs://live_data_layers/rasters/Population_Densi...</td>\n",
       "    </tr>\n",
       "    <tr>\n",
       "      <th>8</th>\n",
       "      <td>rasters/Precipitation_mm.tif</td>\n",
       "      <td>gs://live_data_layers/rasters/Precipitation_mm...</td>\n",
       "    </tr>\n",
       "    <tr>\n",
       "      <th>9</th>\n",
       "      <td>rasters/Runoff_mm.tif</td>\n",
       "      <td>gs://live_data_layers/rasters/Runoff_mm.tif</td>\n",
       "    </tr>\n",
       "    <tr>\n",
       "      <th>10</th>\n",
       "      <td>rasters/Slope.tif</td>\n",
       "      <td>gs://live_data_layers/rasters/Slope.tif</td>\n",
       "    </tr>\n",
       "    <tr>\n",
       "      <th>11</th>\n",
       "      <td>rasters/Slope_Categories.tif</td>\n",
       "      <td>gs://live_data_layers/rasters/Slope_Categories...</td>\n",
       "    </tr>\n",
       "    <tr>\n",
       "      <th>12</th>\n",
       "      <td>rasters/Soils.tif</td>\n",
       "      <td>gs://live_data_layers/rasters/Soils.tif</td>\n",
       "    </tr>\n",
       "    <tr>\n",
       "      <th>13</th>\n",
       "      <td>rasters/Total_Copper_Concentration.tif</td>\n",
       "      <td>gs://live_data_layers/rasters/Total_Copper_Con...</td>\n",
       "    </tr>\n",
       "    <tr>\n",
       "      <th>14</th>\n",
       "      <td>rasters/Total_Kjeldahl_Nitrogen_Concentration.tif</td>\n",
       "      <td>gs://live_data_layers/rasters/Total_Kjeldahl_N...</td>\n",
       "    </tr>\n",
       "    <tr>\n",
       "      <th>15</th>\n",
       "      <td>rasters/Total_Phosphorus_Concentration.tif</td>\n",
       "      <td>gs://live_data_layers/rasters/Total_Phosphorus...</td>\n",
       "    </tr>\n",
       "    <tr>\n",
       "      <th>16</th>\n",
       "      <td>rasters/Total_Suspended_Solids_Concentration.tif</td>\n",
       "      <td>gs://live_data_layers/rasters/Total_Suspended_...</td>\n",
       "    </tr>\n",
       "    <tr>\n",
       "      <th>17</th>\n",
       "      <td>rasters/Total_Zinc_Concentration.tif</td>\n",
       "      <td>gs://live_data_layers/rasters/Total_Zinc_Conce...</td>\n",
       "    </tr>\n",
       "    <tr>\n",
       "      <th>18</th>\n",
       "      <td>rasters/Traffic.tif</td>\n",
       "      <td>gs://live_data_layers/rasters/Traffic.tif</td>\n",
       "    </tr>\n",
       "  </tbody>\n",
       "</table>\n",
       "</div>"
      ],
      "text/plain": [
       "                                            blob_name  \\\n",
       "0                   rasters/Age_of_Imperviousness.tif   \n",
       "1                     rasters/Flow_Duration_Index.tif   \n",
       "2                    rasters/HSPF_Land_Cover_Type.tif   \n",
       "3               rasters/Hydrologic_Response_Units.tif   \n",
       "4                          rasters/Imperviousness.tif   \n",
       "5                              rasters/Land_Cover.tif   \n",
       "6                                rasters/Land_Use.tif   \n",
       "7                      rasters/Population_Density.tif   \n",
       "8                        rasters/Precipitation_mm.tif   \n",
       "9                               rasters/Runoff_mm.tif   \n",
       "10                                  rasters/Slope.tif   \n",
       "11                       rasters/Slope_Categories.tif   \n",
       "12                                  rasters/Soils.tif   \n",
       "13             rasters/Total_Copper_Concentration.tif   \n",
       "14  rasters/Total_Kjeldahl_Nitrogen_Concentration.tif   \n",
       "15         rasters/Total_Phosphorus_Concentration.tif   \n",
       "16   rasters/Total_Suspended_Solids_Concentration.tif   \n",
       "17               rasters/Total_Zinc_Concentration.tif   \n",
       "18                                rasters/Traffic.tif   \n",
       "\n",
       "                                                  uri  \n",
       "0   gs://live_data_layers/rasters/Age_of_Imperviou...  \n",
       "1   gs://live_data_layers/rasters/Flow_Duration_In...  \n",
       "2   gs://live_data_layers/rasters/HSPF_Land_Cover_...  \n",
       "3   gs://live_data_layers/rasters/Hydrologic_Respo...  \n",
       "4    gs://live_data_layers/rasters/Imperviousness.tif  \n",
       "5        gs://live_data_layers/rasters/Land_Cover.tif  \n",
       "6          gs://live_data_layers/rasters/Land_Use.tif  \n",
       "7   gs://live_data_layers/rasters/Population_Densi...  \n",
       "8   gs://live_data_layers/rasters/Precipitation_mm...  \n",
       "9         gs://live_data_layers/rasters/Runoff_mm.tif  \n",
       "10            gs://live_data_layers/rasters/Slope.tif  \n",
       "11  gs://live_data_layers/rasters/Slope_Categories...  \n",
       "12            gs://live_data_layers/rasters/Soils.tif  \n",
       "13  gs://live_data_layers/rasters/Total_Copper_Con...  \n",
       "14  gs://live_data_layers/rasters/Total_Kjeldahl_N...  \n",
       "15  gs://live_data_layers/rasters/Total_Phosphorus...  \n",
       "16  gs://live_data_layers/rasters/Total_Suspended_...  \n",
       "17  gs://live_data_layers/rasters/Total_Zinc_Conce...  \n",
       "18          gs://live_data_layers/rasters/Traffic.tif  "
      ]
     },
     "execution_count": 9,
     "metadata": {},
     "output_type": "execute_result"
    }
   ],
   "source": [
    "df = pd.DataFrame(blobsout, columns=['blob_name'])\n",
    "df['uri'] = 'gs://'+BUCKET_NAME+'/'+df['blob_name']\n",
    "(df)"
   ]
  },
  {
   "cell_type": "markdown",
   "metadata": {},
   "source": [
    "## Direct upload to earthengine"
   ]
  },
  {
   "cell_type": "code",
   "execution_count": 10,
   "metadata": {
    "tags": []
   },
   "outputs": [
    {
     "name": "stdout",
     "output_type": "stream",
     "text": [
      "                                            blob_name  \\\n",
      "0                   rasters/Age_of_Imperviousness.tif   \n",
      "1                     rasters/Flow_Duration_Index.tif   \n",
      "2                    rasters/HSPF_Land_Cover_Type.tif   \n",
      "3               rasters/Hydrologic_Response_Units.tif   \n",
      "4                          rasters/Imperviousness.tif   \n",
      "5                              rasters/Land_Cover.tif   \n",
      "6                                rasters/Land_Use.tif   \n",
      "7                      rasters/Population_Density.tif   \n",
      "8                        rasters/Precipitation_mm.tif   \n",
      "9                               rasters/Runoff_mm.tif   \n",
      "10                                  rasters/Slope.tif   \n",
      "11                       rasters/Slope_Categories.tif   \n",
      "12                                  rasters/Soils.tif   \n",
      "13             rasters/Total_Copper_Concentration.tif   \n",
      "14  rasters/Total_Kjeldahl_Nitrogen_Concentration.tif   \n",
      "15         rasters/Total_Phosphorus_Concentration.tif   \n",
      "16   rasters/Total_Suspended_Solids_Concentration.tif   \n",
      "17               rasters/Total_Zinc_Concentration.tif   \n",
      "18                                rasters/Traffic.tif   \n",
      "\n",
      "                                                  uri  \\\n",
      "0   gs://live_data_layers/rasters/Age_of_Imperviou...   \n",
      "1   gs://live_data_layers/rasters/Flow_Duration_In...   \n",
      "2   gs://live_data_layers/rasters/HSPF_Land_Cover_...   \n",
      "3   gs://live_data_layers/rasters/Hydrologic_Respo...   \n",
      "4    gs://live_data_layers/rasters/Imperviousness.tif   \n",
      "5        gs://live_data_layers/rasters/Land_Cover.tif   \n",
      "6          gs://live_data_layers/rasters/Land_Use.tif   \n",
      "7   gs://live_data_layers/rasters/Population_Densi...   \n",
      "8   gs://live_data_layers/rasters/Precipitation_mm...   \n",
      "9         gs://live_data_layers/rasters/Runoff_mm.tif   \n",
      "10            gs://live_data_layers/rasters/Slope.tif   \n",
      "11  gs://live_data_layers/rasters/Slope_Categories...   \n",
      "12            gs://live_data_layers/rasters/Soils.tif   \n",
      "13  gs://live_data_layers/rasters/Total_Copper_Con...   \n",
      "14  gs://live_data_layers/rasters/Total_Kjeldahl_N...   \n",
      "15  gs://live_data_layers/rasters/Total_Phosphorus...   \n",
      "16  gs://live_data_layers/rasters/Total_Suspended_...   \n",
      "17  gs://live_data_layers/rasters/Total_Zinc_Conce...   \n",
      "18          gs://live_data_layers/rasters/Traffic.tif   \n",
      "\n",
      "                               asset_name  \\\n",
      "0                   Age_of_Imperviousness   \n",
      "1                     Flow_Duration_Index   \n",
      "2                    HSPF_Land_Cover_Type   \n",
      "3               Hydrologic_Response_Units   \n",
      "4                          Imperviousness   \n",
      "5                              Land_Cover   \n",
      "6                                Land_Use   \n",
      "7                      Population_Density   \n",
      "8                        Precipitation_mm   \n",
      "9                               Runoff_mm   \n",
      "10                                  Slope   \n",
      "11                       Slope_Categories   \n",
      "12                                  Soils   \n",
      "13             Total_Copper_Concentration   \n",
      "14  Total_Kjeldahl_Nitrogen_Concentration   \n",
      "15         Total_Phosphorus_Concentration   \n",
      "16   Total_Suspended_Solids_Concentration   \n",
      "17               Total_Zinc_Concentration   \n",
      "18                                Traffic   \n",
      "\n",
      "                              pretty_name  \n",
      "0                   Age of Imperviousness  \n",
      "1                     Flow Duration Index  \n",
      "2                    HSPF Land Cover Type  \n",
      "3               Hydrologic Response Units  \n",
      "4                          Imperviousness  \n",
      "5                              Land Cover  \n",
      "6                                Land Use  \n",
      "7                      Population Density  \n",
      "8                        Precipitation mm  \n",
      "9                               Runoff mm  \n",
      "10                                  Slope  \n",
      "11                       Slope Categories  \n",
      "12                                  Soils  \n",
      "13             Total Copper Concentration  \n",
      "14  Total Kjeldahl Nitrogen Concentration  \n",
      "15         Total Phosphorus Concentration  \n",
      "16   Total Suspended Solids Concentration  \n",
      "17               Total Zinc Concentration  \n",
      "18                                Traffic  \n"
     ]
    }
   ],
   "source": [
    "\n",
    "file_names = [os.path.splitext(os.path.basename(file_path))[0] for file_path in df['blob_name']]\n",
    "df[\"asset_name\"] = file_names\n",
    "\n",
    "pretty_names  = [os.path.splitext(os.path.basename(file_path))[0].replace('_', ' ') for file_path in df['blob_name']]\n",
    "\n",
    "df[\"pretty_name\"] = pretty_names\n",
    "print(df)"
   ]
  },
  {
   "cell_type": "code",
   "execution_count": 11,
   "metadata": {
    "collapsed": true,
    "jupyter": {
     "outputs_hidden": true
    },
    "tags": []
   },
   "outputs": [
    {
     "name": "stdout",
     "output_type": "stream",
     "text": [
      "\u001b[1mDriver:\u001b[0m GTiff\n",
      "\u001b[1mFile:\u001b[0m gs://live_data_layers/rasters/Traffic.tif\n",
      "\u001b[1mCOG:\u001b[0m True\n",
      "\u001b[1mCompression:\u001b[0m LZW\n",
      "\u001b[1mColorSpace:\u001b[0m None\n",
      "\n",
      "\u001b[1mProfile\u001b[0m\n",
      "    \u001b[1mWidth:\u001b[0m            313936\n",
      "    \u001b[1mHeight:\u001b[0m           272284\n",
      "    \u001b[1mBands:\u001b[0m            1\n",
      "    \u001b[1mTiled:\u001b[0m            True\n",
      "    \u001b[1mDtype:\u001b[0m            int32\n",
      "    \u001b[1mNoData:\u001b[0m           None\n",
      "    \u001b[1mAlpha Band:\u001b[0m       False\n",
      "    \u001b[1mInternal Mask:\u001b[0m    False\n",
      "    \u001b[1mInterleave:\u001b[0m       BAND\n",
      "    \u001b[1mColorMap:\u001b[0m         False\n",
      "    \u001b[1mColorInterp:\u001b[0m      ('gray',)\n",
      "    \u001b[1mScales:\u001b[0m           (1.0,)\n",
      "    \u001b[1mOffsets:\u001b[0m          (0.0,)\n",
      "\n",
      "\u001b[1mGeo\u001b[0m\n",
      "    \u001b[1mCrs:\u001b[0m              EPSG:3857\n",
      "    \u001b[1mOrigin:\u001b[0m           (-13897137.75844496, 6278308.21974299)\n",
      "    \u001b[1mResolution:\u001b[0m       (1.4886815045178954, -1.4886815045178954)\n",
      "    \u001b[1mBoundingBox:\u001b[0m      (-13897137.75844496, 5872964.06496684, -13429787.041642629, 6278308.21974299)\n",
      "    \u001b[1mMinZoom:\u001b[0m          6\n",
      "    \u001b[1mMaxZoom:\u001b[0m          17\n",
      "\n",
      "\u001b[1mImage Metadata\u001b[0m\n",
      "    \u001b[1m\u001b[4mAREA_OR_POINT\u001b[0m: Area\n",
      "\n",
      "\u001b[1mImage Structure\u001b[0m\n",
      "    \u001b[1m\u001b[4mCOMPRESSION\u001b[0m: LZW\n",
      "    \u001b[1m\u001b[4mINTERLEAVE\u001b[0m: BAND\n",
      "    \u001b[1m\u001b[4mLAYOUT\u001b[0m: COG\n",
      "\n",
      "\u001b[1mBand 1\u001b[0m\n",
      "    \u001b[1m\u001b[4mColorInterp\u001b[0m: gray\n",
      "    \u001b[1m\u001b[4mMetadata\u001b[0m:\n",
      "        \u001b[1m\u001b[4mSTATISTICS_APPROXIMATE\u001b[0m: YES\n",
      "        \u001b[1m\u001b[4mSTATISTICS_MAXIMUM\u001b[0m: 247929\n",
      "        \u001b[1m\u001b[4mSTATISTICS_MEAN\u001b[0m: 68.521260454522\n",
      "        \u001b[1m\u001b[4mSTATISTICS_MINIMUM\u001b[0m: 0\n",
      "        \u001b[1m\u001b[4mSTATISTICS_STDDEV\u001b[0m: 2306.5721170527\n",
      "        \u001b[1m\u001b[4mSTATISTICS_VALID_PERCENT\u001b[0m: 100\n",
      "\n",
      "\u001b[1mIFD\u001b[0m\n",
      "    \u001b[1m\u001b[4mId\u001b[0m      \u001b[1m\u001b[4mSize\u001b[0m           \u001b[1m\u001b[4mBlockSize\u001b[0m     \u001b[1m\u001b[4mDecimation\u001b[0m           \n",
      "    0       313936x272284  256x256       0\n",
      "    1       156968x136142  256x256       2\n",
      "    2       78484x68071    256x256       4\n",
      "    3       39242x34036    256x256       8\n",
      "    4       19621x17018    256x256       16\n",
      "    5       9811x8509      256x256       32\n",
      "    6       4906x4255      256x256       64\n",
      "    7       2453x2128      256x256       128\n",
      "    8       1227x1064      256x256       256\n",
      "    9       614x532        256x256       511\n",
      "    10      307x266        256x256       1023\n",
      "    11      154x133        256x256       2039\n"
     ]
    }
   ],
   "source": [
    "lay_name = \"Traffic\"\n",
    "asset_id = 'projects/ee-swhm/assets/production_layers/' + lay_name\n",
    "uri = df.iloc[18].uri\n",
    "#check the info \n",
    "rio_cmd = f'rio cogeo info {uri}'\n",
    "!{rio_cmd}"
   ]
  },
  {
   "cell_type": "code",
   "execution_count": 19,
   "metadata": {
    "tags": []
   },
   "outputs": [
    {
     "name": "stdout",
     "output_type": "stream",
     "text": [
      "Started upload task with ID: 6L3T2CW43Q7SK4B5LOYX4UN5\n"
     ]
    }
   ],
   "source": [
    "uri = 'gs://live_data_layers/rasters/Traffic.tif'\n",
    "pyramiding = 'mean' \n",
    "ee_cmd = f'earthengine upload image --asset_id={asset_id} --pyramiding_policy={pyramiding} {uri}'\n",
    "!{ee_cmd}\n",
    "#ee_cmd"
   ]
  },
  {
   "cell_type": "code",
   "execution_count": 13,
   "metadata": {
    "tags": []
   },
   "outputs": [],
   "source": [
    "#asset_id = 'projects/ee-swhm/assets/production_layers/' + lay_name\n",
    "#check the info \n",
    "ee_cmd = f'earthengine rm {asset_id}'\n",
    "ee_cmd\n",
    "!{ee_cmd}"
   ]
  },
  {
   "cell_type": "code",
   "execution_count": null,
   "metadata": {},
   "outputs": [],
   "source": [
    "\n"
   ]
  },
  {
   "cell_type": "code",
   "execution_count": null,
   "metadata": {
    "tags": []
   },
   "outputs": [],
   "source": [
    "# lay_name = \"Imperviousness\"\n",
    "# asset_id = 'projects/ee-swhm/assets/production_layers/' + lay_name\n",
    "# uri = df.iloc[0].uri\n",
    "# #check the info \n",
    "# ee_cmd = f'earthengine rm {asset_id}'\n",
    "# !{ee_cmd}"
   ]
  },
  {
   "cell_type": "code",
   "execution_count": null,
   "metadata": {},
   "outputs": [],
   "source": [
    "def get_layer_dict(asset): \n",
    "    data = json.load(open(\"data/rasters.json\"))\n",
    "    layer_dict = data[asset]\n",
    "    print(asset)\n",
    "    #delete dictionaries \n",
    "    try: \n",
    "        del layer_dict[\"layer\"]\n",
    "        del layer_dict[\"values\"]\n",
    "        del layer_dict[\"labels\"]\n",
    "\n",
    "    except KeyError:\n",
    "        pass\n",
    "    \n",
    "\n",
    "    layer_dict['pretty_name'] = asset\n",
    "    return layer_dict"
   ]
  },
  {
   "cell_type": "code",
   "execution_count": null,
   "metadata": {
    "tags": []
   },
   "outputs": [],
   "source": [
    "# Iterate through the rows and upload each blob to Earth Engine\n",
    "for index, row in df.iterrows():\n",
    "    if row['blob_name'].endswith('.tif'):\n",
    "        asset_id = 'projects/ee-swhm/assets/production_layers/' + row['asset_name']\n",
    "        aname = row['asset_name'] \n",
    "        code = f'exports.{aname} = ee.Image(\"{asset_id}\")'\n",
    "        #print(code)\n",
    "        \n",
    "        dcode = f'data.{aname}' \n",
    "        print(dcode)"
   ]
  },
  {
   "cell_type": "code",
   "execution_count": null,
   "metadata": {},
   "outputs": [],
   "source": [
    "# Iterate through the rows to generate list for data_raw.js \n",
    "for index, row in df.iterrows():\n",
    "    if row['blob_name'].endswith('.tif'):\n",
    "        lay_dict = get_layer_dict(row['pretty_name'])\n",
    "        if (lay_dict['discrete']=='TRUE'):\n",
    "            pyramiding = 'sample'\n",
    "        else: \n",
    "            pyramiding = 'mean' \n",
    "    \n",
    "        asset_id = 'projects/ee-swhm/assets/production_layers/' + row['asset_name']\n",
    "        uri = row['uri']\n",
    "        ee_cmd = f'earthengine upload image --asset_id={asset_id} --pyramiding_policy={pyramiding} {uri}'\n",
    "        !{ee_cmd}"
   ]
  },
  {
   "cell_type": "markdown",
   "metadata": {},
   "source": [
    "## Cloud backed assets"
   ]
  },
  {
   "cell_type": "markdown",
   "metadata": {},
   "source": [
    "## Build the manifest"
   ]
  },
  {
   "cell_type": "markdown",
   "metadata": {},
   "source": [
    "Create json_data"
   ]
  },
  {
   "cell_type": "code",
   "execution_count": null,
   "metadata": {},
   "outputs": [],
   "source": [
    "df['json_data'] = 'na'\n",
    "for index, row in df.iterrows():\n",
    "    key_value = row['pretty_name']\n",
    "    try: \n",
    "        json_value = json.dumps(get_layer_dict(key_value))\n",
    "    except KeyError:\n",
    "        json_value = \"NA\"\n",
    "    df.at[index, 'json_data'] = json_value\n"
   ]
  },
  {
   "cell_type": "code",
   "execution_count": null,
   "metadata": {},
   "outputs": [],
   "source": [
    "df"
   ]
  },
  {
   "cell_type": "code",
   "execution_count": null,
   "metadata": {
    "id": "NhmNrvS2p4qQ"
   },
   "outputs": [],
   "source": [
    "import requests\n",
    "\n",
    "def send_request(session, asset_name,props):\n",
    "    # Earth Engine enabled Cloud Project.\n",
    "    project_folder = 'ee-swhm'\n",
    "    # A folder (or ImageCollection) name and the new asset name.\n",
    "    asset_id = asset_name\n",
    "\n",
    "    url = 'https://earthengine.googleapis.com/v1alpha/projects/{}/assets?assetId=production_layers/{}'\n",
    "    #url = 'https://earthengine.googleapis.com/v1beta/projects/{}/assets?assetId=production_layers/{}'\n",
    "    params = {'overwrite': True}\n",
    "    response = session.post(\n",
    "      url = url.format(project_folder, asset_id),\n",
    "      data = props, \n",
    "        params=params\n",
    "    )\n",
    "    \n",
    "    print(json.loads(response.content))\n",
    "    \n",
    "    \n"
   ]
  },
  {
   "cell_type": "code",
   "execution_count": null,
   "metadata": {
    "tags": []
   },
   "outputs": [],
   "source": [
    "import json\n",
    "import pprint\n",
    "def process_df(df): \n",
    "    for index, row in df.iterrows():\n",
    "        json_string = row['json_data']\n",
    "        print(row['pretty_name'])\n",
    "        print('...')\n",
    "        if json_string is not None and json_string != 'NA':\n",
    "            layer = df['pretty_name'][index]\n",
    "            asset_name = df['asset_name'][index]\n",
    "            uri = df['uri'][index]\n",
    "\n",
    "            # Request body as a dictionary.\n",
    "            request = {\n",
    "                'type': 'IMAGE',\n",
    "                'gcs_location': {'uris': uri},\n",
    "                'properties':json.loads(df['json_data'][index])\n",
    "            }\n",
    "\n",
    "            props = json.dumps(request)\n",
    "            send_request(session, asset_name,props)\n"
   ]
  },
  {
   "cell_type": "markdown",
   "metadata": {
    "id": "9_MfryWIpyhS"
   },
   "source": [
    "## Send the request\n",
    "\n",
    "Make the POST request to the Earth Engine [`projects.assets.create`](https://developers.google.com/earth-engine/reference/rest/v1beta/projects.assets/create) endpoint."
   ]
  },
  {
   "cell_type": "code",
   "execution_count": null,
   "metadata": {
    "scrolled": true
   },
   "outputs": [],
   "source": [
    "#process_df(df)\n",
    "\n",
    "index = 0\n",
    "layer = df['pretty_name'][index]\n",
    "asset_name = df['asset_name'][index]\n",
    "uri = df['uri'][index]\n",
    "ee_cmd = f'earthengine upload image \\\n",
    "--asset_id=projects/ee-swhm/assets/production_layers/{asset_name} \\\n",
    "{uri}'\n",
    "\n",
    "!{ee_cmd}"
   ]
  },
  {
   "cell_type": "code",
   "execution_count": null,
   "metadata": {
    "tags": []
   },
   "outputs": [],
   "source": [
    "uri"
   ]
  },
  {
   "cell_type": "code",
   "execution_count": null,
   "metadata": {
    "tags": []
   },
   "outputs": [],
   "source": [
    "def get_type(file_path): \n",
    "    command = [\"rio\", \"cogeo\", \"info\",file_path]\n",
    "    result = subprocess.run(command, capture_output=True,text=True)\n",
    "    pattern = r\"Dtype:\\s+(\\w+)\"\n",
    "    # find the Dtype value\n",
    "    match = re.search(pattern, s)\n",
    "    if match:\n",
    "        dtype = match.group(1)\n",
    "        return(dtype)\n",
    "    else:\n",
    "        return(\"Dtype not found.\")\n"
   ]
  },
  {
   "cell_type": "code",
   "execution_count": null,
   "metadata": {
    "tags": []
   },
   "outputs": [],
   "source": [
    "index = 0\n",
    "layer = df['pretty_name'][index]\n",
    "asset_name = df['asset_name'][index]\n",
    "uri = df['uri'][index]\n",
    "\n",
    "if (get_type(uri) == 'uint8'): \n",
    "    pyramiding_policy = \"sample\" \n",
    "else: \n",
    "    pyramiding_policy = \"mean\"\n",
    "    \n",
    "    \n",
    "    \n",
    "ee_cmd = f'earthengine upload image \\\n",
    "--asset_id=projects/ee-swhm/assets/production_layers/{asset_name} \\\n",
    "--pyramiding_policy={pyramiding_policy} \\\n",
    "{uri}'\n",
    "ee_cmd    "
   ]
  },
  {
   "cell_type": "code",
   "execution_count": null,
   "metadata": {
    "tags": []
   },
   "outputs": [],
   "source": [
    "#if need to remove it first \n",
    "#ee_cmd = f'earthengine rm projects/ee-swhm/assets/production_layers/Age_of_Imperviousness'"
   ]
  },
  {
   "cell_type": "code",
   "execution_count": null,
   "metadata": {
    "tags": []
   },
   "outputs": [],
   "source": [
    "!{ee_cmd}\n",
    "\n",
    "\n",
    "\n",
    "\n"
   ]
  },
  {
   "cell_type": "code",
   "execution_count": null,
   "metadata": {
    "tags": []
   },
   "outputs": [],
   "source": []
  },
  {
   "cell_type": "code",
   "execution_count": null,
   "metadata": {
    "tags": []
   },
   "outputs": [],
   "source": [
    "#print(result.stdout)\n",
    "output_dict = ast.literal_eval(result.stdout)\n",
    "\n",
    "print(output_dict)\n"
   ]
  },
  {
   "cell_type": "code",
   "execution_count": null,
   "metadata": {
    "tags": []
   },
   "outputs": [],
   "source": [
    "cmd = f'rio cogeo info {uri}'\n",
    "!{cmd}"
   ]
  },
  {
   "cell_type": "code",
   "execution_count": null,
   "metadata": {
    "tags": []
   },
   "outputs": [],
   "source": [
    "#direct upload from cmd line \n",
    "for index, row in df.iterrows():\n",
    "    json_string = row['json_data']\n",
    "    print(row['pretty_name'])\n",
    "    print('...')\n",
    "    if json_string is not None and json_string != 'NA':\n",
    "        layer = df['pretty_name'][index]\n",
    "        asset_name = df['asset_name'][index]\n",
    "        uri = df['uri'][index]\n",
    "    \n",
    "        "
   ]
  },
  {
   "cell_type": "markdown",
   "metadata": {},
   "source": [
    "PATCH https://earthengine.googleapis.com/v1/{asset.name=projects/*/assets/**}"
   ]
  }
 ],
 "metadata": {
  "colab": {
   "name": "Earth_Engine_asset_from_cloud_geotiff.ipynb",
   "private_outputs": true,
   "provenance": [],
   "toc_visible": true
  },
  "kernelspec": {
   "display_name": "Python 3 (ipykernel)",
   "language": "python",
   "name": "python3"
  },
  "language_info": {
   "codemirror_mode": {
    "name": "ipython",
    "version": 3
   },
   "file_extension": ".py",
   "mimetype": "text/x-python",
   "name": "python",
   "nbconvert_exporter": "python",
   "pygments_lexer": "ipython3",
   "version": "3.9.16"
  }
 },
 "nbformat": 4,
 "nbformat_minor": 4
}
