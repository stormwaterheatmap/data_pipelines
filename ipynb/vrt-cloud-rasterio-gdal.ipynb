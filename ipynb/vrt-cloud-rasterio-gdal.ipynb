{
 "cells": [
  {
   "cell_type": "markdown",
   "metadata": {},
   "source": [
    "# VRTs and Cloud storage with GDAL\n"
   ]
  },
  {
   "cell_type": "markdown",
   "metadata": {},
   "source": [
    "## Load Libraries"
   ]
  },
  {
   "cell_type": "markdown",
   "metadata": {},
   "source": [
    "Check that gdal is installed"
   ]
  },
  {
   "cell_type": "code",
   "execution_count": 1,
   "metadata": {},
   "outputs": [
    {
     "name": "stdout",
     "output_type": "stream",
     "text": [
      "GDAL 3.6.3, released 2023/03/07\n"
     ]
    }
   ],
   "source": [
    "!gdalinfo --version"
   ]
  },
  {
   "cell_type": "code",
   "execution_count": 1,
   "metadata": {},
   "outputs": [],
   "source": [
    "from osgeo import gdal\n",
    "import subprocess\n",
    "import json \n",
    "import pandas as pd\n",
    "from google.cloud import storage\n",
    "import os\n",
    "import glob"
   ]
  },
  {
   "cell_type": "code",
   "execution_count": 2,
   "metadata": {},
   "outputs": [],
   "source": [
    "os.environ['GS_NO_SIGN_REQUEST'] = 'YES'\n",
    "os.environ['GDAL_NUM_THREADS'] = 'ALL_CPUS'"
   ]
  },
  {
   "cell_type": "markdown",
   "metadata": {},
   "source": [
    "Log in to google cloud if needed "
   ]
  },
  {
   "cell_type": "code",
   "execution_count": 5,
   "metadata": {},
   "outputs": [
    {
     "name": "stdout",
     "output_type": "stream",
     "text": [
      "Your browser has been opened to visit:\n",
      "\n",
      "    https://accounts.google.com/o/oauth2/auth?response_type=code&client_id=32555940559.apps.googleusercontent.com&redirect_uri=http%3A%2F%2Flocalhost%3A8085%2F&scope=openid+https%3A%2F%2Fwww.googleapis.com%2Fauth%2Fuserinfo.email+https%3A%2F%2Fwww.googleapis.com%2Fauth%2Fcloud-platform+https%3A%2F%2Fwww.googleapis.com%2Fauth%2Fappengine.admin+https%3A%2F%2Fwww.googleapis.com%2Fauth%2Fsqlservice.login+https%3A%2F%2Fwww.googleapis.com%2Fauth%2Fcompute+https%3A%2F%2Fwww.googleapis.com%2Fauth%2Faccounts.reauth&state=mYPQ3hyT7RCvpIPmkfq41j8FTvxvDq&access_type=offline&code_challenge=7_6J6-N7bY3Z4sZ1Tqfz5iC0ll_tLOPWl2zYkUu7bfY&code_challenge_method=S256\n",
      "\n",
      "\n",
      "Application default credentials (ADC) were updated.\n",
      "\n",
      "You are now logged in as [cnilsen@gmail.com].\n",
      "Your current project is [swhm-dev].  You can change this setting by running:\n",
      "  $ gcloud config set project PROJECT_ID\n"
     ]
    }
   ],
   "source": [
    "!{gcloud auth login --update-adc}"
   ]
  },
  {
   "cell_type": "code",
   "execution_count": 3,
   "metadata": {},
   "outputs": [
    {
     "name": "stdout",
     "output_type": "stream",
     "text": [
      "Updated property [core/project].\n"
     ]
    }
   ],
   "source": [
    "!{gcloud config set project swhm-dev}"
   ]
  },
  {
   "cell_type": "markdown",
   "metadata": {
    "tags": []
   },
   "source": [
    "## Functions"
   ]
  },
  {
   "cell_type": "markdown",
   "metadata": {
    "tags": []
   },
   "source": [
    "A function to list blobs on the storage bucket "
   ]
  },
  {
   "cell_type": "code",
   "execution_count": 4,
   "metadata": {
    "tags": []
   },
   "outputs": [],
   "source": [
    "def list_blobs_with_prefix(bucket_name, prefix, delimiter=None):\n",
    "    \"\"\"Lists all the blobs in the bucket that begin with the prefix.\n",
    "\n",
    "    This can be used to list all blobs in a \"folder\", e.g. \"public/\".\n",
    "\n",
    "    The delimiter argument can be used to restrict the results to only the\n",
    "    \"files\" in the given \"folder\". Without the delimiter, the entire tree under\n",
    "    the prefix is returned. For example, given these blobs:\n",
    "\n",
    "        a/1.txt\n",
    "        a/b/2.txt\n",
    "\n",
    "    If you specify prefix ='a/', without a delimiter, you'll get back:\n",
    "\n",
    "        a/1.txt\n",
    "        a/b/2.txt\n",
    "\n",
    "    However, if you specify prefix='a/' and delimiter='/', you'll get back\n",
    "    only the file directly under 'a/':\n",
    "\n",
    "        a/1.txt\n",
    "\n",
    "    As part of the response, you'll also get back a blobs.prefixes entity\n",
    "    that lists the \"subfolders\" under `a/`:\n",
    "\n",
    "        a/b/\n",
    "    \"\"\"\n",
    "\n",
    "    storage_client = storage.Client()\n",
    "\n",
    "    # Note: Client.list_blobs requires at least package version 1.17.0.\n",
    "    blobs = storage_client.list_blobs(bucket_name, prefix=prefix, delimiter=delimiter)\n",
    "\n",
    "    # Note: The call returns a response only when the iterator is consumed.\n",
    "    blob_list = []\n",
    "    for blob in blobs:\n",
    "        blob_list.append(blob.name)\n",
    "\n",
    "    if delimiter:\n",
    "        print(\"Prefixes:\")\n",
    "        for prefix in blobs.prefixes:\n",
    "            blob_list.append([prefix])\n",
    "    \n",
    "    return blob_list\n"
   ]
  },
  {
   "cell_type": "markdown",
   "metadata": {},
   "source": [
    "### 1. Download images"
   ]
  },
  {
   "cell_type": "code",
   "execution_count": 5,
   "metadata": {
    "tags": []
   },
   "outputs": [],
   "source": [
    "def dl(lay_name):\n",
    "    cmd = f'gsutil -m cp -R gs://swhm-image-exports/{lay_name} .'\n",
    "    !{cmd}\n",
    "    \n"
   ]
  },
  {
   "cell_type": "markdown",
   "metadata": {},
   "source": [
    "### 2. Reproject images\n",
    "\n",
    "saves reprojected images to /tmp "
   ]
  },
  {
   "cell_type": "code",
   "execution_count": 6,
   "metadata": {},
   "outputs": [],
   "source": [
    "def reproject(lay_name, target_crs): \n",
    "\n",
    "    directory_path = lay_name\n",
    "    \n",
    "    for filename in os.listdir(directory_path):\n",
    "        if filename.endswith(\".tif\"):\n",
    "            input_path = os.path.join(directory_path, filename)\n",
    "            output_path = os.path.join(\"tmp\", filename)\n",
    "            cmd = f'gdalwarp -t_srs {target_crs} -overwrite {input_path} {output_path} -co NUM_THREADS=ALL_CPUS -co COMPRESS=LZW -co BIGTIFF=YES'\n",
    "            !{cmd}\n",
    "            \n",
    "            #make a list of the files in the directory \n",
    "            files = os.listdir(\"tmp\")\n",
    "\n",
    "            # create a new file for writing\n",
    "            with open(\"files.txt\", \"w\") as file:\n",
    "                # write each file name to the file\n",
    "                for f in files:\n",
    "                    if f.endswith(\".tif\"):\n",
    "                        file.write(\"tmp/\"+f + \"\\n\")\n",
    "\n",
    "    \n",
    "  \n",
    "\n"
   ]
  },
  {
   "cell_type": "markdown",
   "metadata": {},
   "source": [
    "### 3. Build vrt\n",
    "\n"
   ]
  },
  {
   "cell_type": "code",
   "execution_count": 7,
   "metadata": {},
   "outputs": [],
   "source": [
    "def makevrt(lay_name):\n",
    "    print('Making VRT...')\n",
    "    cmd = f'cd tmp | gdalbuildvrt -input_file_list files.txt output.vrt'\n",
    "    !{cmd}\n",
    "    print('VRT Complete!')\n",
    "    \n",
    "\n",
    "def makecog(): \n",
    "    print('Making COG..')\n",
    "    cmd = f'''\n",
    "    gdal_translate output.vrt cog.tif -of COG -co NUM_THREADS=ALL_CPUS -co COMPRESS=LZW -co BIGTIFF=YES\n",
    "    '''\n",
    "    !{cmd}\n",
    "    print('COG Complete!')\n",
    "    \n",
    "def ul(lay_name):\n",
    "    print('Uploading Layer...')\n",
    "    cmd = f'gsutil cp cog.tif gs://live_data_layers/rasters/{lay_name}.tif'\n",
    "    !{cmd}\n",
    "    print('Layer upload complete!') "
   ]
  },
  {
   "cell_type": "markdown",
   "metadata": {},
   "source": [
    "## 4. Wrapper Function"
   ]
  },
  {
   "cell_type": "code",
   "execution_count": 8,
   "metadata": {},
   "outputs": [],
   "source": [
    "def run_pipeline(lay_name): \n",
    "    dl(lay_name)\n",
    "    reproject(lay_name,'EPSG:3857')\n",
    "    makevrt(lay_name)\n",
    "    makecog()\n",
    "    ul(lay_name)\n",
    "    files = glob.glob(f'{lay_name}/*')\n",
    "    for f in files:\n",
    "        os.remove(f)\n",
    "    os.rmdir(lay_name)"
   ]
  },
  {
   "cell_type": "code",
   "execution_count": 9,
   "metadata": {
    "tags": []
   },
   "outputs": [],
   "source": [
    "lay_name = \"Runoff_mm\""
   ]
  },
  {
   "cell_type": "code",
   "execution_count": 22,
   "metadata": {
    "tags": []
   },
   "outputs": [
    {
     "name": "stdout",
     "output_type": "stream",
     "text": [
      "Making VRT...\n",
      "0...10...20...30...40...50...60...70...80...90...100 - done.\n",
      "VRT Complete!\n"
     ]
    }
   ],
   "source": [
    "makevrt(lay_name)"
   ]
  },
  {
   "cell_type": "code",
   "execution_count": 10,
   "metadata": {
    "tags": []
   },
   "outputs": [
    {
     "name": "stdout",
     "output_type": "stream",
     "text": [
      "Making COG..\n",
      "Input file size is 73740, 70537\n",
      "0...10...20...30...40...50...60...70...80...90...100 - done.\n",
      "COG Complete!\n"
     ]
    }
   ],
   "source": [
    "makecog()"
   ]
  },
  {
   "cell_type": "code",
   "execution_count": 11,
   "metadata": {
    "tags": []
   },
   "outputs": [
    {
     "name": "stdout",
     "output_type": "stream",
     "text": [
      "Uploading Layer...\n",
      "Copying file://cog.tif [Content-Type=image/tiff]...\n",
      "==> NOTE: You are uploading one or more large file(s), which would run          \n",
      "significantly faster if you enable parallel composite uploads. This\n",
      "feature can be enabled by editing the\n",
      "\"parallel_composite_upload_threshold\" value in your .boto\n",
      "configuration file. However, note that if you do this large files will\n",
      "be uploaded as `composite objects\n",
      "<https://cloud.google.com/storage/docs/composite-objects>`_,which\n",
      "means that any user who downloads such objects will need to have a\n",
      "compiled crcmod installed (see \"gsutil help crcmod\"). This is because\n",
      "without a compiled crcmod, computing checksums on composite objects is\n",
      "so slow that gsutil disables downloads of composite objects.\n",
      "\n",
      "/ [1 files][  5.8 GiB/  5.8 GiB]  657.1 KiB/s                                   \n",
      "Operation completed over 1 objects/5.8 GiB.                                      \n",
      "Layer upload complete!\n"
     ]
    }
   ],
   "source": [
    "ul(lay_name)"
   ]
  },
  {
   "cell_type": "markdown",
   "metadata": {
    "tags": []
   },
   "source": [
    "## Get list of objects in data bucket"
   ]
  },
  {
   "cell_type": "code",
   "execution_count": 19,
   "metadata": {},
   "outputs": [],
   "source": [
    "BUCKET_NAME = 'swhm-image-exports'\n",
    "blobsout = list_blobs_with_prefix(BUCKET_NAME,'')"
   ]
  },
  {
   "cell_type": "code",
   "execution_count": 20,
   "metadata": {
    "tags": []
   },
   "outputs": [
    {
     "data": {
      "text/html": [
       "<div>\n",
       "<style scoped>\n",
       "    .dataframe tbody tr th:only-of-type {\n",
       "        vertical-align: middle;\n",
       "    }\n",
       "\n",
       "    .dataframe tbody tr th {\n",
       "        vertical-align: top;\n",
       "    }\n",
       "\n",
       "    .dataframe thead th {\n",
       "        text-align: right;\n",
       "    }\n",
       "</style>\n",
       "<table border=\"1\" class=\"dataframe\">\n",
       "  <thead>\n",
       "    <tr style=\"text-align: right;\">\n",
       "      <th></th>\n",
       "      <th>file_path</th>\n",
       "      <th>gdal_path</th>\n",
       "    </tr>\n",
       "  </thead>\n",
       "  <tbody>\n",
       "    <tr>\n",
       "      <th>0</th>\n",
       "      <td>Runoff_mm/Runoff_mm0000000000-0000000000.tif</td>\n",
       "      <td>Runoff_mm/Runoff_mm0000000000-0000000000.tif</td>\n",
       "    </tr>\n",
       "    <tr>\n",
       "      <th>1</th>\n",
       "      <td>Runoff_mm/Runoff_mm0000000000-0000023296.tif</td>\n",
       "      <td>Runoff_mm/Runoff_mm0000000000-0000023296.tif</td>\n",
       "    </tr>\n",
       "    <tr>\n",
       "      <th>2</th>\n",
       "      <td>Runoff_mm/Runoff_mm0000000000-0000046592.tif</td>\n",
       "      <td>Runoff_mm/Runoff_mm0000000000-0000046592.tif</td>\n",
       "    </tr>\n",
       "    <tr>\n",
       "      <th>3</th>\n",
       "      <td>Runoff_mm/Runoff_mm0000000000-0000069888.tif</td>\n",
       "      <td>Runoff_mm/Runoff_mm0000000000-0000069888.tif</td>\n",
       "    </tr>\n",
       "    <tr>\n",
       "      <th>4</th>\n",
       "      <td>Runoff_mm/Runoff_mm0000000000-0000093184.tif</td>\n",
       "      <td>Runoff_mm/Runoff_mm0000000000-0000093184.tif</td>\n",
       "    </tr>\n",
       "    <tr>\n",
       "      <th>5</th>\n",
       "      <td>Runoff_mm/Runoff_mm0000023296-0000000000.tif</td>\n",
       "      <td>Runoff_mm/Runoff_mm0000023296-0000000000.tif</td>\n",
       "    </tr>\n",
       "    <tr>\n",
       "      <th>6</th>\n",
       "      <td>Runoff_mm/Runoff_mm0000023296-0000023296.tif</td>\n",
       "      <td>Runoff_mm/Runoff_mm0000023296-0000023296.tif</td>\n",
       "    </tr>\n",
       "    <tr>\n",
       "      <th>7</th>\n",
       "      <td>Runoff_mm/Runoff_mm0000023296-0000046592.tif</td>\n",
       "      <td>Runoff_mm/Runoff_mm0000023296-0000046592.tif</td>\n",
       "    </tr>\n",
       "    <tr>\n",
       "      <th>8</th>\n",
       "      <td>Runoff_mm/Runoff_mm0000023296-0000069888.tif</td>\n",
       "      <td>Runoff_mm/Runoff_mm0000023296-0000069888.tif</td>\n",
       "    </tr>\n",
       "    <tr>\n",
       "      <th>9</th>\n",
       "      <td>Runoff_mm/Runoff_mm0000023296-0000093184.tif</td>\n",
       "      <td>Runoff_mm/Runoff_mm0000023296-0000093184.tif</td>\n",
       "    </tr>\n",
       "    <tr>\n",
       "      <th>10</th>\n",
       "      <td>Runoff_mm/Runoff_mm0000046592-0000000000.tif</td>\n",
       "      <td>Runoff_mm/Runoff_mm0000046592-0000000000.tif</td>\n",
       "    </tr>\n",
       "    <tr>\n",
       "      <th>11</th>\n",
       "      <td>Runoff_mm/Runoff_mm0000046592-0000023296.tif</td>\n",
       "      <td>Runoff_mm/Runoff_mm0000046592-0000023296.tif</td>\n",
       "    </tr>\n",
       "    <tr>\n",
       "      <th>12</th>\n",
       "      <td>Runoff_mm/Runoff_mm0000046592-0000046592.tif</td>\n",
       "      <td>Runoff_mm/Runoff_mm0000046592-0000046592.tif</td>\n",
       "    </tr>\n",
       "    <tr>\n",
       "      <th>13</th>\n",
       "      <td>Runoff_mm/Runoff_mm0000046592-0000069888.tif</td>\n",
       "      <td>Runoff_mm/Runoff_mm0000046592-0000069888.tif</td>\n",
       "    </tr>\n",
       "    <tr>\n",
       "      <th>14</th>\n",
       "      <td>Runoff_mm/Runoff_mm0000046592-0000093184.tif</td>\n",
       "      <td>Runoff_mm/Runoff_mm0000046592-0000093184.tif</td>\n",
       "    </tr>\n",
       "  </tbody>\n",
       "</table>\n",
       "</div>"
      ],
      "text/plain": [
       "                                       file_path  \\\n",
       "0   Runoff_mm/Runoff_mm0000000000-0000000000.tif   \n",
       "1   Runoff_mm/Runoff_mm0000000000-0000023296.tif   \n",
       "2   Runoff_mm/Runoff_mm0000000000-0000046592.tif   \n",
       "3   Runoff_mm/Runoff_mm0000000000-0000069888.tif   \n",
       "4   Runoff_mm/Runoff_mm0000000000-0000093184.tif   \n",
       "5   Runoff_mm/Runoff_mm0000023296-0000000000.tif   \n",
       "6   Runoff_mm/Runoff_mm0000023296-0000023296.tif   \n",
       "7   Runoff_mm/Runoff_mm0000023296-0000046592.tif   \n",
       "8   Runoff_mm/Runoff_mm0000023296-0000069888.tif   \n",
       "9   Runoff_mm/Runoff_mm0000023296-0000093184.tif   \n",
       "10  Runoff_mm/Runoff_mm0000046592-0000000000.tif   \n",
       "11  Runoff_mm/Runoff_mm0000046592-0000023296.tif   \n",
       "12  Runoff_mm/Runoff_mm0000046592-0000046592.tif   \n",
       "13  Runoff_mm/Runoff_mm0000046592-0000069888.tif   \n",
       "14  Runoff_mm/Runoff_mm0000046592-0000093184.tif   \n",
       "\n",
       "                                       gdal_path  \n",
       "0   Runoff_mm/Runoff_mm0000000000-0000000000.tif  \n",
       "1   Runoff_mm/Runoff_mm0000000000-0000023296.tif  \n",
       "2   Runoff_mm/Runoff_mm0000000000-0000046592.tif  \n",
       "3   Runoff_mm/Runoff_mm0000000000-0000069888.tif  \n",
       "4   Runoff_mm/Runoff_mm0000000000-0000093184.tif  \n",
       "5   Runoff_mm/Runoff_mm0000023296-0000000000.tif  \n",
       "6   Runoff_mm/Runoff_mm0000023296-0000023296.tif  \n",
       "7   Runoff_mm/Runoff_mm0000023296-0000046592.tif  \n",
       "8   Runoff_mm/Runoff_mm0000023296-0000069888.tif  \n",
       "9   Runoff_mm/Runoff_mm0000023296-0000093184.tif  \n",
       "10  Runoff_mm/Runoff_mm0000046592-0000000000.tif  \n",
       "11  Runoff_mm/Runoff_mm0000046592-0000023296.tif  \n",
       "12  Runoff_mm/Runoff_mm0000046592-0000046592.tif  \n",
       "13  Runoff_mm/Runoff_mm0000046592-0000069888.tif  \n",
       "14  Runoff_mm/Runoff_mm0000046592-0000093184.tif  "
      ]
     },
     "execution_count": 20,
     "metadata": {},
     "output_type": "execute_result"
    }
   ],
   "source": [
    "df = pd.DataFrame(blobsout, columns=['file_path'])#.iloc[1:]\n",
    "#df['folder_name'] = df['file_path'].str.split(BUCKET_NAME, 1,expand = True)\n",
    "df['gdal_path'] = df['file_path'].str.replace('gs://', '/vsigs/') \n",
    "df"
   ]
  },
  {
   "cell_type": "code",
   "execution_count": 21,
   "metadata": {
    "tags": []
   },
   "outputs": [
    {
     "name": "stderr",
     "output_type": "stream",
     "text": [
      "/var/folders/yn/15903z7124l3th5fm7wg0lgw0000gn/T/ipykernel_68059/3619429793.py:1: FutureWarning: In a future version of pandas all arguments of StringMethods.split except for the argument 'pat' will be keyword-only.\n",
      "  lay_names= df['file_path'].str.split('/', 0).str[0]#.str.replace('/','',regex=False)\n",
      "/var/folders/yn/15903z7124l3th5fm7wg0lgw0000gn/T/ipykernel_68059/3619429793.py:2: FutureWarning: In a future version of pandas all arguments of StringMethods.split except for the argument 'pat' will be keyword-only.\n",
      "  df['layer_name'] = lay_names.str.split('/',1).str[0]\n"
     ]
    },
    {
     "data": {
      "text/html": [
       "<div>\n",
       "<style scoped>\n",
       "    .dataframe tbody tr th:only-of-type {\n",
       "        vertical-align: middle;\n",
       "    }\n",
       "\n",
       "    .dataframe tbody tr th {\n",
       "        vertical-align: top;\n",
       "    }\n",
       "\n",
       "    .dataframe thead th {\n",
       "        text-align: right;\n",
       "    }\n",
       "</style>\n",
       "<table border=\"1\" class=\"dataframe\">\n",
       "  <thead>\n",
       "    <tr style=\"text-align: right;\">\n",
       "      <th></th>\n",
       "      <th>file_path</th>\n",
       "      <th>gdal_path</th>\n",
       "      <th>layer_name</th>\n",
       "    </tr>\n",
       "  </thead>\n",
       "  <tbody>\n",
       "    <tr>\n",
       "      <th>0</th>\n",
       "      <td>Runoff_mm/Runoff_mm0000000000-0000000000.tif</td>\n",
       "      <td>Runoff_mm/Runoff_mm0000000000-0000000000.tif</td>\n",
       "      <td>Runoff_mm</td>\n",
       "    </tr>\n",
       "    <tr>\n",
       "      <th>1</th>\n",
       "      <td>Runoff_mm/Runoff_mm0000000000-0000023296.tif</td>\n",
       "      <td>Runoff_mm/Runoff_mm0000000000-0000023296.tif</td>\n",
       "      <td>Runoff_mm</td>\n",
       "    </tr>\n",
       "    <tr>\n",
       "      <th>2</th>\n",
       "      <td>Runoff_mm/Runoff_mm0000000000-0000046592.tif</td>\n",
       "      <td>Runoff_mm/Runoff_mm0000000000-0000046592.tif</td>\n",
       "      <td>Runoff_mm</td>\n",
       "    </tr>\n",
       "    <tr>\n",
       "      <th>3</th>\n",
       "      <td>Runoff_mm/Runoff_mm0000000000-0000069888.tif</td>\n",
       "      <td>Runoff_mm/Runoff_mm0000000000-0000069888.tif</td>\n",
       "      <td>Runoff_mm</td>\n",
       "    </tr>\n",
       "    <tr>\n",
       "      <th>4</th>\n",
       "      <td>Runoff_mm/Runoff_mm0000000000-0000093184.tif</td>\n",
       "      <td>Runoff_mm/Runoff_mm0000000000-0000093184.tif</td>\n",
       "      <td>Runoff_mm</td>\n",
       "    </tr>\n",
       "    <tr>\n",
       "      <th>5</th>\n",
       "      <td>Runoff_mm/Runoff_mm0000023296-0000000000.tif</td>\n",
       "      <td>Runoff_mm/Runoff_mm0000023296-0000000000.tif</td>\n",
       "      <td>Runoff_mm</td>\n",
       "    </tr>\n",
       "    <tr>\n",
       "      <th>6</th>\n",
       "      <td>Runoff_mm/Runoff_mm0000023296-0000023296.tif</td>\n",
       "      <td>Runoff_mm/Runoff_mm0000023296-0000023296.tif</td>\n",
       "      <td>Runoff_mm</td>\n",
       "    </tr>\n",
       "    <tr>\n",
       "      <th>7</th>\n",
       "      <td>Runoff_mm/Runoff_mm0000023296-0000046592.tif</td>\n",
       "      <td>Runoff_mm/Runoff_mm0000023296-0000046592.tif</td>\n",
       "      <td>Runoff_mm</td>\n",
       "    </tr>\n",
       "    <tr>\n",
       "      <th>8</th>\n",
       "      <td>Runoff_mm/Runoff_mm0000023296-0000069888.tif</td>\n",
       "      <td>Runoff_mm/Runoff_mm0000023296-0000069888.tif</td>\n",
       "      <td>Runoff_mm</td>\n",
       "    </tr>\n",
       "    <tr>\n",
       "      <th>9</th>\n",
       "      <td>Runoff_mm/Runoff_mm0000023296-0000093184.tif</td>\n",
       "      <td>Runoff_mm/Runoff_mm0000023296-0000093184.tif</td>\n",
       "      <td>Runoff_mm</td>\n",
       "    </tr>\n",
       "    <tr>\n",
       "      <th>10</th>\n",
       "      <td>Runoff_mm/Runoff_mm0000046592-0000000000.tif</td>\n",
       "      <td>Runoff_mm/Runoff_mm0000046592-0000000000.tif</td>\n",
       "      <td>Runoff_mm</td>\n",
       "    </tr>\n",
       "    <tr>\n",
       "      <th>11</th>\n",
       "      <td>Runoff_mm/Runoff_mm0000046592-0000023296.tif</td>\n",
       "      <td>Runoff_mm/Runoff_mm0000046592-0000023296.tif</td>\n",
       "      <td>Runoff_mm</td>\n",
       "    </tr>\n",
       "    <tr>\n",
       "      <th>12</th>\n",
       "      <td>Runoff_mm/Runoff_mm0000046592-0000046592.tif</td>\n",
       "      <td>Runoff_mm/Runoff_mm0000046592-0000046592.tif</td>\n",
       "      <td>Runoff_mm</td>\n",
       "    </tr>\n",
       "    <tr>\n",
       "      <th>13</th>\n",
       "      <td>Runoff_mm/Runoff_mm0000046592-0000069888.tif</td>\n",
       "      <td>Runoff_mm/Runoff_mm0000046592-0000069888.tif</td>\n",
       "      <td>Runoff_mm</td>\n",
       "    </tr>\n",
       "    <tr>\n",
       "      <th>14</th>\n",
       "      <td>Runoff_mm/Runoff_mm0000046592-0000093184.tif</td>\n",
       "      <td>Runoff_mm/Runoff_mm0000046592-0000093184.tif</td>\n",
       "      <td>Runoff_mm</td>\n",
       "    </tr>\n",
       "  </tbody>\n",
       "</table>\n",
       "</div>"
      ],
      "text/plain": [
       "                                       file_path  \\\n",
       "0   Runoff_mm/Runoff_mm0000000000-0000000000.tif   \n",
       "1   Runoff_mm/Runoff_mm0000000000-0000023296.tif   \n",
       "2   Runoff_mm/Runoff_mm0000000000-0000046592.tif   \n",
       "3   Runoff_mm/Runoff_mm0000000000-0000069888.tif   \n",
       "4   Runoff_mm/Runoff_mm0000000000-0000093184.tif   \n",
       "5   Runoff_mm/Runoff_mm0000023296-0000000000.tif   \n",
       "6   Runoff_mm/Runoff_mm0000023296-0000023296.tif   \n",
       "7   Runoff_mm/Runoff_mm0000023296-0000046592.tif   \n",
       "8   Runoff_mm/Runoff_mm0000023296-0000069888.tif   \n",
       "9   Runoff_mm/Runoff_mm0000023296-0000093184.tif   \n",
       "10  Runoff_mm/Runoff_mm0000046592-0000000000.tif   \n",
       "11  Runoff_mm/Runoff_mm0000046592-0000023296.tif   \n",
       "12  Runoff_mm/Runoff_mm0000046592-0000046592.tif   \n",
       "13  Runoff_mm/Runoff_mm0000046592-0000069888.tif   \n",
       "14  Runoff_mm/Runoff_mm0000046592-0000093184.tif   \n",
       "\n",
       "                                       gdal_path layer_name  \n",
       "0   Runoff_mm/Runoff_mm0000000000-0000000000.tif  Runoff_mm  \n",
       "1   Runoff_mm/Runoff_mm0000000000-0000023296.tif  Runoff_mm  \n",
       "2   Runoff_mm/Runoff_mm0000000000-0000046592.tif  Runoff_mm  \n",
       "3   Runoff_mm/Runoff_mm0000000000-0000069888.tif  Runoff_mm  \n",
       "4   Runoff_mm/Runoff_mm0000000000-0000093184.tif  Runoff_mm  \n",
       "5   Runoff_mm/Runoff_mm0000023296-0000000000.tif  Runoff_mm  \n",
       "6   Runoff_mm/Runoff_mm0000023296-0000023296.tif  Runoff_mm  \n",
       "7   Runoff_mm/Runoff_mm0000023296-0000046592.tif  Runoff_mm  \n",
       "8   Runoff_mm/Runoff_mm0000023296-0000069888.tif  Runoff_mm  \n",
       "9   Runoff_mm/Runoff_mm0000023296-0000093184.tif  Runoff_mm  \n",
       "10  Runoff_mm/Runoff_mm0000046592-0000000000.tif  Runoff_mm  \n",
       "11  Runoff_mm/Runoff_mm0000046592-0000023296.tif  Runoff_mm  \n",
       "12  Runoff_mm/Runoff_mm0000046592-0000046592.tif  Runoff_mm  \n",
       "13  Runoff_mm/Runoff_mm0000046592-0000069888.tif  Runoff_mm  \n",
       "14  Runoff_mm/Runoff_mm0000046592-0000093184.tif  Runoff_mm  "
      ]
     },
     "execution_count": 21,
     "metadata": {},
     "output_type": "execute_result"
    }
   ],
   "source": [
    "lay_names= df['file_path'].str.split('/', 0).str[0]#.str.replace('/','',regex=False)\n",
    "df['layer_name'] = lay_names.str.split('/',1).str[0]\n",
    "df\n",
    "#lay_names"
   ]
  },
  {
   "cell_type": "code",
   "execution_count": 22,
   "metadata": {},
   "outputs": [
    {
     "data": {
      "text/plain": [
       "array(['Runoff_mm'], dtype=object)"
      ]
     },
     "execution_count": 22,
     "metadata": {},
     "output_type": "execute_result"
    }
   ],
   "source": [
    "lay_names = df[\"layer_name\"].unique()\n",
    "lay_names"
   ]
  },
  {
   "cell_type": "code",
   "execution_count": 23,
   "metadata": {},
   "outputs": [
    {
     "name": "stdout",
     "output_type": "stream",
     "text": [
      "If you experience problems with multiprocessing on MacOS, they might be related to https://bugs.python.org/issue33725. You can disable multiprocessing by editing your .boto config or by adding the following flag to your command: `-o \"GSUtil:parallel_process_count=1\"`. Note that multithreading is still available even if you disable multiprocessing.\n",
      "\n",
      "Copying gs://swhm-image-exports/Runoff_mm/Runoff_mm0000000000-0000069888.tif...\n",
      "Copying gs://swhm-image-exports/Runoff_mm/Runoff_mm0000000000-0000023296.tif...\n",
      "Copying gs://swhm-image-exports/Runoff_mm/Runoff_mm0000000000-0000000000.tif...\n",
      "Copying gs://swhm-image-exports/Runoff_mm/Runoff_mm0000000000-0000046592.tif... \n",
      "Copying gs://swhm-image-exports/Runoff_mm/Runoff_mm0000000000-0000093184.tif... \n",
      "==> NOTE: You are downloading one or more large file(s), which would            \n",
      "run significantly faster if you enabled sliced object downloads. This\n",
      "feature is enabled by default but requires that compiled crcmod be\n",
      "installed (see \"gsutil help crcmod\").\n",
      "\n",
      "Copying gs://swhm-image-exports/Runoff_mm/Runoff_mm0000023296-0000000000.tif...\n",
      "Copying gs://swhm-image-exports/Runoff_mm/Runoff_mm0000023296-0000023296.tif... \n",
      "Copying gs://swhm-image-exports/Runoff_mm/Runoff_mm0000023296-0000046592.tif...\n",
      "Copying gs://swhm-image-exports/Runoff_mm/Runoff_mm0000023296-0000069888.tif... \n",
      "Copying gs://swhm-image-exports/Runoff_mm/Runoff_mm0000046592-0000023296.tif... \n",
      "Copying gs://swhm-image-exports/Runoff_mm/Runoff_mm0000023296-0000093184.tif... \n",
      "Copying gs://swhm-image-exports/Runoff_mm/Runoff_mm0000046592-0000000000.tif... \n",
      "Copying gs://swhm-image-exports/Runoff_mm/Runoff_mm0000046592-0000069888.tif...\n",
      "Copying gs://swhm-image-exports/Runoff_mm/Runoff_mm0000046592-0000093184.tif... \n",
      "Copying gs://swhm-image-exports/Runoff_mm/Runoff_mm0000046592-0000046592.tif...\n",
      "\\ [15/15 files][  4.6 GiB/  4.6 GiB] 100% Done  16.6 MiB/s ETA 00:00:00         \n",
      "Operation completed over 15 objects/4.6 GiB.                                     \n",
      "Creating output file that is 18384P x 27340L.\n",
      "Processing Runoff_mm/Runoff_mm0000023296-0000046592.tif [1/1] : 0...10...20...30...40...50...60...70...80...90...100 - done.\n",
      "Creating output file that is 932P x 23319L.\n",
      "Processing Runoff_mm/Runoff_mm0000023296-0000093184.tif [1/1] : 0...10...20...30...40...50...60...70...80...90...100 - done.\n",
      "Creating output file that is 18384P x 27340L.\n",
      "Processing Runoff_mm/Runoff_mm0000023296-0000023296.tif [1/1] : 0...10...20...30...40...50...60...70...80...90...100 - done.\n",
      "Creating output file that is 18124P x 27512L.\n",
      "Processing Runoff_mm/Runoff_mm0000000000-0000000000.tif [1/1] : 0...10...20...30...40...50...60...70...80...90...100 - done.\n",
      "Creating output file that is 18124P x 27512L.\n",
      "Processing Runoff_mm/Runoff_mm0000000000-0000046592.tif [1/1] : 0...10...20...30...40...50...60...70...80...90...100 - done.\n",
      "Creating output file that is 913P x 23319L.\n",
      "Processing Runoff_mm/Runoff_mm0000000000-0000093184.tif [1/1] : 0...10...20...30...40...50...60...70...80...90...100 - done.\n",
      "Creating output file that is 18384P x 27340L.\n",
      "Processing Runoff_mm/Runoff_mm0000023296-0000000000.tif [1/1] : 0...10...20...30...40...50...60...70...80...90...100 - done.\n",
      "Creating output file that is 18124P x 27512L.\n",
      "Processing Runoff_mm/Runoff_mm0000000000-0000023296.tif [1/1] : 0...10...20...30...40...50...60...70...80...90...100 - done.\n",
      "Creating output file that is 20414P x 17924L.\n",
      "Processing Runoff_mm/Runoff_mm0000046592-0000069888.tif [1/1] : 0...10...20...30...40...50...60...70...80...90...100 - done.\n",
      "Creating output file that is 20414P x 17924L.\n",
      "Processing Runoff_mm/Runoff_mm0000046592-0000000000.tif [1/1] : 0...10...20...30...40...50...60...70...80...90...100 - done.\n",
      "Creating output file that is 18384P x 27340L.\n",
      "Processing Runoff_mm/Runoff_mm0000023296-0000069888.tif [1/1] : 0...10...20...30...40...50...60...70...80...90...100 - done.\n",
      "Creating output file that is 20414P x 17924L.\n",
      "Processing Runoff_mm/Runoff_mm0000046592-0000023296.tif [1/1] : 0...10...20...30...40...50...60...70...80...90...100 - done.\n",
      "Creating output file that is 18124P x 27512L.\n",
      "Processing Runoff_mm/Runoff_mm0000000000-0000069888.tif [1/1] : 0...10...20...30...40...50...60...70...80...90...100 - done.\n",
      "Creating output file that is 20414P x 17924L.\n",
      "Processing Runoff_mm/Runoff_mm0000046592-0000046592.tif [1/1] : 0...10...20...30...40...50...60...70...80...90...100 - done.\n",
      "Creating output file that is 949P x 14010L.\n",
      "Processing Runoff_mm/Runoff_mm0000046592-0000093184.tif [1/1] : 0...10...20...30...40...50...60...70...80...90...100 - done.\n",
      "Making VRT...\n",
      "0...10Warning 1: gdalbuildvrt does not support heterogeneous band data type: expected Byte, got Float64. Skipping tmp/Runoff_mm0000023296-0000046592.tif\n",
      "...Warning 1: gdalbuildvrt does not support heterogeneous band data type: expected Byte, got Float64. Skipping tmp/Runoff_mm0000023296-0000093184.tif\n",
      "20Warning 1: gdalbuildvrt does not support heterogeneous band data type: expected Byte, got Float64. Skipping tmp/Runoff_mm0000023296-0000023296.tif\n",
      ".Warning 1: gdalbuildvrt does not support heterogeneous band data type: expected Byte, got Float64. Skipping tmp/Runoff_mm0000000000-0000000000.tif\n",
      "..30..Warning 1: gdalbuildvrt does not support heterogeneous band data type: expected Byte, got Float64. Skipping tmp/Runoff_mm0000000000-0000046592.tif\n",
      ".Warning 1: gdalbuildvrt does not support heterogeneous band data type: expected Byte, got Float64. Skipping tmp/Runoff_mm0000000000-0000093184.tif\n",
      "40..Warning 1: gdalbuildvrt does not support heterogeneous band data type: expected Byte, got Float64. Skipping tmp/Runoff_mm0000023296-0000000000.tif\n",
      "Warning 1: gdalbuildvrt does not support heterogeneous band data type: expected Byte, got Float64. Skipping tmp/Runoff_mm0000000000-0000023296.tif\n",
      ".Warning 1: gdalbuildvrt does not support heterogeneous band data type: expected Byte, got Float64. Skipping tmp/Runoff_mm0000046592-0000069888.tif\n",
      "50...60.Warning 1: gdalbuildvrt does not support heterogeneous band data type: expected Byte, got Float64. Skipping tmp/Runoff_mm0000046592-0000000000.tif\n",
      ".Warning 1: gdalbuildvrt does not support heterogeneous band data type: expected Byte, got Float64. Skipping tmp/Runoff_mm0000023296-0000069888.tif\n",
      ".70...80..Warning 1: gdalbuildvrt does not support heterogeneous band data type: expected Byte, got Float64. Skipping tmp/Runoff_mm0000046592-0000023296.tif\n",
      ".90Warning 1: gdalbuildvrt does not support heterogeneous band data type: expected Byte, got Float64. Skipping tmp/Runoff_mm0000000000-0000069888.tif\n",
      ".Warning 1: gdalbuildvrt does not support heterogeneous band data type: expected Byte, got Float64. Skipping tmp/Runoff_mm0000046592-0000046592.tif\n",
      "..100 - done.\n",
      "Warning 1: gdalbuildvrt does not support heterogeneous band data type: expected Byte, got Float64. Skipping tmp/Runoff_mm0000046592-0000093184.tif\n",
      "VRT Complete!\n",
      "Making COG..\n",
      "Input file size is 77433, 66725\n",
      "0...10...20...30...40...50...60...70...80...90...100 - done.\n",
      "COG Complete!\n",
      "Uploading Layer...\n",
      "Copying file://cog.tif [Content-Type=image/tiff]...\n",
      "| [1 files][ 73.9 MiB/ 73.9 MiB]  522.3 KiB/s                                   \n",
      "Operation completed over 1 objects/73.9 MiB.                                     \n",
      "Layer upload complete!\n"
     ]
    }
   ],
   "source": [
    "run_pipeline('Runoff_mm')"
   ]
  },
  {
   "cell_type": "markdown",
   "metadata": {},
   "source": [
    "## Loop through layer names"
   ]
  },
  {
   "cell_type": "markdown",
   "metadata": {},
   "source": [
    "Use this to run the pipeline for all layers in a list"
   ]
  },
  {
   "cell_type": "code",
   "execution_count": 14,
   "metadata": {
    "tags": []
   },
   "outputs": [
    {
     "name": "stdout",
     "output_type": "stream",
     "text": [
      "If you experience problems with multiprocessing on MacOS, they might be related to https://bugs.python.org/issue33725. You can disable multiprocessing by editing your .boto config or by adding the following flag to your command: `-o \"GSUtil:parallel_process_count=1\"`. Note that multithreading is still available even if you disable multiprocessing.\n",
      "\n",
      "CommandException: No URLs matched: gs://swhm-image-exports/T\n",
      "CommandException: 1 file/object could not be transferred.\n"
     ]
    },
    {
     "ename": "FileNotFoundError",
     "evalue": "[Errno 2] No such file or directory: 'T'",
     "output_type": "error",
     "traceback": [
      "\u001b[0;31m---------------------------------------------------------------------------\u001b[0m",
      "\u001b[0;31mFileNotFoundError\u001b[0m                         Traceback (most recent call last)",
      "Cell \u001b[0;32mIn[14], line 3\u001b[0m\n\u001b[1;32m      1\u001b[0m \u001b[38;5;28;01mfor\u001b[39;00m lay_name \u001b[38;5;129;01min\u001b[39;00m lay_names:\n\u001b[1;32m      2\u001b[0m     dl(lay_name)\n\u001b[0;32m----> 3\u001b[0m     \u001b[43mreproject\u001b[49m\u001b[43m(\u001b[49m\u001b[43mlay_name\u001b[49m\u001b[43m,\u001b[49m\u001b[38;5;124;43m'\u001b[39;49m\u001b[38;5;124;43mEPSG:3857\u001b[39;49m\u001b[38;5;124;43m'\u001b[39;49m\u001b[43m)\u001b[49m\n\u001b[1;32m      4\u001b[0m     makevrt(lay_name)\n\u001b[1;32m      5\u001b[0m     makecog()\n",
      "Cell \u001b[0;32mIn[7], line 5\u001b[0m, in \u001b[0;36mreproject\u001b[0;34m(lay_name, target_crs)\u001b[0m\n\u001b[1;32m      1\u001b[0m \u001b[38;5;28;01mdef\u001b[39;00m \u001b[38;5;21mreproject\u001b[39m(lay_name, target_crs): \n\u001b[1;32m      3\u001b[0m     directory_path \u001b[38;5;241m=\u001b[39m lay_name\n\u001b[0;32m----> 5\u001b[0m     \u001b[38;5;28;01mfor\u001b[39;00m filename \u001b[38;5;129;01min\u001b[39;00m \u001b[43mos\u001b[49m\u001b[38;5;241;43m.\u001b[39;49m\u001b[43mlistdir\u001b[49m\u001b[43m(\u001b[49m\u001b[43mdirectory_path\u001b[49m\u001b[43m)\u001b[49m:\n\u001b[1;32m      6\u001b[0m         \u001b[38;5;28;01mif\u001b[39;00m filename\u001b[38;5;241m.\u001b[39mendswith(\u001b[38;5;124m\"\u001b[39m\u001b[38;5;124m.tif\u001b[39m\u001b[38;5;124m\"\u001b[39m):\n\u001b[1;32m      7\u001b[0m             input_path \u001b[38;5;241m=\u001b[39m os\u001b[38;5;241m.\u001b[39mpath\u001b[38;5;241m.\u001b[39mjoin(directory_path, filename)\n",
      "\u001b[0;31mFileNotFoundError\u001b[0m: [Errno 2] No such file or directory: 'T'"
     ]
    }
   ],
   "source": [
    "for lay_name in lay_names:\n",
    "    run_pipeline(lay_name) \n",
    "    "
   ]
  },
  {
   "cell_type": "code",
   "execution_count": null,
   "metadata": {},
   "outputs": [],
   "source": []
  }
 ],
 "metadata": {
  "kernelspec": {
   "display_name": "Python 3 (ipykernel)",
   "language": "python",
   "name": "python3"
  },
  "language_info": {
   "codemirror_mode": {
    "name": "ipython",
    "version": 3
   },
   "file_extension": ".py",
   "mimetype": "text/x-python",
   "name": "python",
   "nbconvert_exporter": "python",
   "pygments_lexer": "ipython3",
   "version": "3.9.16"
  },
  "toc-autonumbering": false,
  "toc-showcode": false,
  "vscode": {
   "interpreter": {
    "hash": "3d597f4c481aa0f25dceb95d2a0067e73c0966dcbd003d741d821a7208527ecf"
   }
  }
 },
 "nbformat": 4,
 "nbformat_minor": 4
}
