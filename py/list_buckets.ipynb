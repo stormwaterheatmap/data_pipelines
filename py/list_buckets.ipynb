{
 "cells": [
  {
   "cell_type": "code",
   "execution_count": 4,
   "metadata": {},
   "outputs": [
    {
     "name": "stdout",
     "output_type": "stream",
     "text": [
      "swhm-bq-exports\n",
      "swhm-ee-exports\n"
     ]
    }
   ],
   "source": [
    "from google.cloud import storage\n",
    "\n",
    "\n",
    "def list_buckets():\n",
    "    \"\"\"Lists all buckets.\"\"\"\n",
    "\n",
    "    storage_client = storage.Client()\n",
    "    buckets = storage_client.list_buckets()\n",
    "\n",
    "    for bucket in buckets:\n",
    "        print(bucket.name)\n",
    "\n",
    "list_buckets()\n",
    "\n",
    "from google.cloud import storage\n",
    "\n",
    "\n",
    "def list_blobs(bucket_name):\n",
    "    \"\"\"Lists all the blobs in the bucket.\"\"\"\n",
    "    # bucket_name = \"your-bucket-name\"\n",
    "\n",
    "    storage_client = storage.Client()\n",
    "\n",
    "    # Note: Client.list_blobs requires at least package version 1.17.0.\n",
    "    blobs = storage_client.list_blobs(bucket_name)\n",
    "\n",
    "    # Note: The call returns a response only when the iterator is consumed.\n",
    "    for blob in blobs:\n",
    "        print(blob.name)\n"
   ]
  },
  {
   "cell_type": "code",
   "execution_count": 53,
   "metadata": {},
   "outputs": [],
   "source": [
    "def list_blobs_with_prefix(bucket_name, prefix, delimiter=None):\n",
    "    \"\"\"Lists all the blobs in the bucket that begin with the prefix.\n",
    "\n",
    "    This can be used to list all blobs in a \"folder\", e.g. \"public/\".\n",
    "\n",
    "    The delimiter argument can be used to restrict the results to only the\n",
    "    \"files\" in the given \"folder\". Without the delimiter, the entire tree under\n",
    "    the prefix is returned. For example, given these blobs:\n",
    "\n",
    "        a/1.txt\n",
    "        a/b/2.txt\n",
    "\n",
    "    If you specify prefix ='a/', without a delimiter, you'll get back:\n",
    "\n",
    "        a/1.txt\n",
    "        a/b/2.txt\n",
    "\n",
    "    However, if you specify prefix='a/' and delimiter='/', you'll get back\n",
    "    only the file directly under 'a/':\n",
    "\n",
    "        a/1.txt\n",
    "\n",
    "    As part of the response, you'll also get back a blobs.prefixes entity\n",
    "    that lists the \"subfolders\" under `a/`:\n",
    "\n",
    "        a/b/\n",
    "    \"\"\"\n",
    "\n",
    "    storage_client = storage.Client()\n",
    "\n",
    "    # Note: Client.list_blobs requires at least package version 1.17.0.\n",
    "    blobs = storage_client.list_blobs(bucket_name, prefix=prefix, delimiter=delimiter)\n",
    "\n",
    "    # Note: The call returns a response only when the iterator is consumed.\n",
    "    print(\"Blobs:\")\n",
    "    for blob in blobs:\n",
    "        print(blob.name)\n",
    "\n",
    "    if delimiter:\n",
    "        print(\"Prefixes:\")\n",
    "        for prefix in blobs.prefixes:\n",
    "            print(prefix)\n"
   ]
  },
  {
   "cell_type": "code",
   "execution_count": 13,
   "metadata": {},
   "outputs": [
    {
     "name": "stdout",
     "output_type": "stream",
     "text": [
      "gs://swhm-ee-exports/image-exports/traffic/traffic0000000000-0000000000.tif\n"
     ]
    }
   ],
   "source": [
    "#list of images to tile \n",
    "raster_files = [\"gs://swhm-ee-exports/image-exports/traffic/traffic0000000000-0000000000.tif\", \"gs://swhm-ee-exports/image-exports/traffic/traffic0000000000-0000032768.tif\", \"gs://swhm-ee-exports/image-exports/traffic/traffic0000000000-0000065536.tif\", \"gs://swhm-ee-exports/image-exports/traffic/traffic0000032768-0000000000.tif\", \"gs://swhm-ee-exports/image-exports/traffic/traffic0000032768-0000032768.tif\", \"gs://swhm-ee-exports/image-exports/traffic/traffic0000032768-0000065536.tif\"]\n",
    "test_file = raster_files[0]\n",
    "print(test_file)"
   ]
  },
  {
   "cell_type": "code",
   "execution_count": 72,
   "metadata": {},
   "outputs": [
    {
     "name": "stdout",
     "output_type": "stream",
     "text": [
      "['/vsigs/swhm-ee-exports/image-exports/traffic/traffic0000000000-0000000000.tif', '/vsigs/swhm-ee-exports/image-exports/traffic/traffic0000000000-0000032768.tif', '/vsigs/swhm-ee-exports/image-exports/traffic/traffic0000000000-0000065536.tif', '/vsigs/swhm-ee-exports/image-exports/traffic/traffic0000032768-0000000000.tif', '/vsigs/swhm-ee-exports/image-exports/traffic/traffic0000032768-0000032768.tif', '/vsigs/swhm-ee-exports/image-exports/traffic/traffic0000032768-0000065536.tif']\n"
     ]
    }
   ],
   "source": [
    "for i, item in enumerate(raster_files):\n",
    "    raster_files[i] = item.replace('gs://', '/vsigs/')\n",
    "print(raster_files)\n",
    "\n",
    "\n",
    "vrt_command = 'gdalbuildvrt traffic.vrt /vsigs/swhm-ee-exports/image-exports/traffic/'"
   ]
  },
  {
   "cell_type": "code",
   "execution_count": 73,
   "metadata": {},
   "outputs": [
    {
     "data": {
      "text/plain": [
       "-1073741515"
      ]
     },
     "execution_count": 73,
     "metadata": {},
     "output_type": "execute_result"
    }
   ],
   "source": [
    "os.system(vrt_command)"
   ]
  },
  {
   "cell_type": "code",
   "execution_count": 75,
   "metadata": {},
   "outputs": [
    {
     "name": "stdout",
     "output_type": "stream",
     "text": [
      "1 2 3\n"
     ]
    }
   ],
   "source": [
    "my_list = ['1', '2', '3']\n",
    "\n",
    "# convert each element of the list to a string\n",
    "my_list = list(map(str, my_list))\n",
    "\n",
    "# convert list to string\n",
    "\n",
    "# print the result\n",
    "print(my_string)  # outputs '123'\n"
   ]
  },
  {
   "cell_type": "code",
   "execution_count": 76,
   "metadata": {},
   "outputs": [
    {
     "name": "stdout",
     "output_type": "stream",
     "text": [
      "/vsigs/swhm-ee-exports/image-exports/traffic/traffic0000000000-0000000000.tif /vsigs/swhm-ee-exports/image-exports/traffic/traffic0000000000-0000032768.tif /vsigs/swhm-ee-exports/image-exports/traffic/traffic0000000000-0000065536.tif /vsigs/swhm-ee-exports/image-exports/traffic/traffic0000032768-0000000000.tif /vsigs/swhm-ee-exports/image-exports/traffic/traffic0000032768-0000032768.tif /vsigs/swhm-ee-exports/image-exports/traffic/traffic0000032768-0000065536.tif\n"
     ]
    }
   ],
   "source": [
    "input_files =['/vsigs/swhm-ee-exports/image-exports/traffic/traffic0000000000-0000000000.tif', '/vsigs/swhm-ee-exports/image-exports/traffic/traffic0000000000-0000032768.tif', '/vsigs/swhm-ee-exports/image-exports/traffic/traffic0000000000-0000065536.tif', '/vsigs/swhm-ee-exports/image-exports/traffic/traffic0000032768-0000000000.tif', '/vsigs/swhm-ee-exports/image-exports/traffic/traffic0000032768-0000032768.tif', '/vsigs/swhm-ee-exports/image-exports/traffic/traffic0000032768-0000065536.tif']\n",
    "input_file_string = ' '.join(input_files)\n",
    "print(input_file_string)"
   ]
  },
  {
   "cell_type": "code",
   "execution_count": 70,
   "metadata": {},
   "outputs": [
    {
     "data": {
      "text/plain": [
       "['/vsigs/swhm-ee-exports/image-exports/traffic/traffic0000000000-0000000000.tif',\n",
       " '/vsigs/swhm-ee-exports/image-exports/traffic/traffic0000000000-0000032768.tif',\n",
       " '/vsigs/swhm-ee-exports/image-exports/traffic/traffic0000000000-0000065536.tif',\n",
       " '/vsigs/swhm-ee-exports/image-exports/traffic/traffic0000032768-0000000000.tif',\n",
       " '/vsigs/swhm-ee-exports/image-exports/traffic/traffic0000032768-0000032768.tif',\n",
       " '/vsigs/swhm-ee-exports/image-exports/traffic/traffic0000032768-0000065536.tif']"
      ]
     },
     "execution_count": 70,
     "metadata": {},
     "output_type": "execute_result"
    }
   ],
   "source": [
    "raster_files"
   ]
  },
  {
   "cell_type": "markdown",
   "metadata": {},
   "source": [
    "raster_files"
   ]
  },
  {
   "cell_type": "code",
   "execution_count": null,
   "metadata": {},
   "outputs": [],
   "source": [
    "vrt_command = 'gdalbuildvrt traffic.vrt vsigs/swhm-ee-exports/image-exports/traffic/*.tif'\n",
    "os.system(vrt_command)"
   ]
  },
  {
   "cell_type": "code",
   "execution_count": 48,
   "metadata": {},
   "outputs": [
    {
     "name": "stdout",
     "output_type": "stream",
     "text": [
      "None\n"
     ]
    }
   ],
   "source": [
    "import tempfile\n",
    "\n",
    "vrt = gdal.BuildVRT(\"merged_rasters.vrt\", raster_files)\n",
    "print(vrt)"
   ]
  },
  {
   "cell_type": "code",
   "execution_count": 59,
   "metadata": {},
   "outputs": [],
   "source": [
    "output_cog_path = 'test2.tif'"
   ]
  },
  {
   "cell_type": "code",
   "execution_count": 65,
   "metadata": {},
   "outputs": [
    {
     "data": {
      "text/plain": [
       "-1073741515"
      ]
     },
     "execution_count": 65,
     "metadata": {},
     "output_type": "execute_result"
    }
   ],
   "source": [
    "from subprocess import run\n",
    "cog_command = 'gdalwarp -of COG -co TILING_SCHEME=GoogleMapsCompatible -co COMPRESS=DEFLATE merged_rasters.vrt out.tif'\n",
    "os.system(cog_command)\n",
    "#translate_command = 'gdal_translate, merged_rasters.vrt, out.tif'\n",
    "#os.system(translate_command)\n",
    "#run(cog_command)\n",
    "\n"
   ]
  },
  {
   "cell_type": "code",
   "execution_count": 56,
   "metadata": {},
   "outputs": [],
   "source": [
    "storage_client = storage.Client()\n",
    "bucket = storage_client.bucket(bucket_name)\n",
    "blob_name = \"test_raster.tif\"\n",
    "blob = bucket.blob(blob_name)\n",
    "\n",
    "with blob.open(\"w\") as f:\n",
    "        f.write(output_cog_path)"
   ]
  }
 ],
 "metadata": {
  "kernelspec": {
   "display_name": "Python 3.9.15 ('geo')",
   "language": "python",
   "name": "python3"
  },
  "language_info": {
   "codemirror_mode": {
    "name": "ipython",
    "version": 3
   },
   "file_extension": ".py",
   "mimetype": "text/x-python",
   "name": "python",
   "nbconvert_exporter": "python",
   "pygments_lexer": "ipython3",
   "version": "3.9.15"
  },
  "orig_nbformat": 4,
  "vscode": {
   "interpreter": {
    "hash": "737d5a7e8278bf67d99f26f1f98d323549ce5ff100ef489f100baf9592609cdb"
   }
  }
 },
 "nbformat": 4,
 "nbformat_minor": 2
}
