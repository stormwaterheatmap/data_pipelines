{
 "cells": [
  {
   "cell_type": "code",
   "execution_count": 6,
   "metadata": {},
   "outputs": [],
   "source": [
    "# List of input raster files\n",
    "import os\n",
    "input_files =['/vsigs/swhm-ee-exports/image-exports/traffic/traffic0000000000-0000000000.tif', '/vsigs/swhm-ee-exports/image-exports/traffic/traffic0000000000-0000032768.tif', '/vsigs/swhm-ee-exports/image-exports/traffic/traffic0000000000-0000065536.tif', '/vsigs/swhm-ee-exports/image-exports/traffic/traffic0000032768-0000000000.tif', '/vsigs/swhm-ee-exports/image-exports/traffic/traffic0000032768-0000032768.tif', '/vsigs/swhm-ee-exports/image-exports/traffic/traffic0000032768-0000065536.tif']\n",
    "#input_file_string = ' '.join(input_files)\n",
    "from osgeo import gdal\n",
    "vrt = gdal.BuildVRT(\"merged_rasters.vrt\", input_files)\n"
   ]
  },
  {
   "cell_type": "code",
   "execution_count": 7,
   "metadata": {},
   "outputs": [
    {
     "name": "stdout",
     "output_type": "stream",
     "text": [
      "None\n"
     ]
    }
   ],
   "source": [
    "print(gdal.Info(vrt))"
   ]
  },
  {
   "cell_type": "code",
   "execution_count": null,
   "metadata": {},
   "outputs": [],
   "source": [
    "\n",
    "#gdalwarp -of COG -co TILING_SCHEME=GoogleMapsCompatible -co COMPRESS=DEFLATE merged_rasters.vrt out.tif'\n",
    "g = gdal.Warp(\"output.tif\", \"merged_rasters.vrt\", format=\"GTiff\",\n",
    "              options=[\"COMPRESS=LZW\", \"TILED=YES\"]) # if you want\n",
    "g = None # Close file and flush to disk\n"
   ]
  },
  {
   "cell_type": "code",
   "execution_count": 2,
   "metadata": {},
   "outputs": [],
   "source": [
    "!gdalbuildvrt mosaic.vrt input_files"
   ]
  },
  {
   "cell_type": "code",
   "execution_count": 3,
   "metadata": {},
   "outputs": [],
   "source": [
    "!gdalinfo mosaic.vrt"
   ]
  }
 ],
 "metadata": {
  "kernelspec": {
   "display_name": "Python 3.9.15 ('geo')",
   "language": "python",
   "name": "python3"
  },
  "language_info": {
   "codemirror_mode": {
    "name": "ipython",
    "version": 3
   },
   "file_extension": ".py",
   "mimetype": "text/x-python",
   "name": "python",
   "nbconvert_exporter": "python",
   "pygments_lexer": "ipython3",
   "version": "3.9.15"
  },
  "orig_nbformat": 4,
  "vscode": {
   "interpreter": {
    "hash": "737d5a7e8278bf67d99f26f1f98d323549ce5ff100ef489f100baf9592609cdb"
   }
  }
 },
 "nbformat": 4,
 "nbformat_minor": 2
}
